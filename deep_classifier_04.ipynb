{
 "cells": [
  {
   "cell_type": "code",
   "execution_count": 1,
   "metadata": {
    "collapsed": true
   },
   "outputs": [],
   "source": [
    "#deal with tensors\n",
    "import torch\n",
    "import spacy\n",
    "from torchtext.legacy import data"
   ]
  },
  {
   "cell_type": "code",
   "execution_count": 2,
   "outputs": [],
   "source": [
    "#Reproducing same results\n",
    "SEED = 2019\n",
    "\n",
    "#Torch\n",
    "torch.manual_seed(SEED)\n",
    "\n",
    "#Cuda algorithms\n",
    "torch.backends.cudnn.deterministic = True\n"
   ],
   "metadata": {
    "collapsed": false,
    "pycharm": {
     "name": "#%%\n"
    }
   }
  },
  {
   "cell_type": "code",
   "execution_count": 3,
   "outputs": [
    {
     "data": {
      "text/plain": "<spacy.lang.de.German at 0x7f511ebb5640>"
     },
     "execution_count": 3,
     "metadata": {},
     "output_type": "execute_result"
    }
   ],
   "source": [
    "spacy.load(\"de_dep_news_trf\")"
   ],
   "metadata": {
    "collapsed": false,
    "pycharm": {
     "name": "#%%\n"
    }
   }
  },
  {
   "cell_type": "code",
   "execution_count": 4,
   "outputs": [
    {
     "name": "stderr",
     "output_type": "stream",
     "text": [
      "/home/stefan/.virtualenvs/diplom-code-env/lib/python3.8/site-packages/torchtext/data/utils.py:123: UserWarning: Spacy model \"en\" could not be loaded, trying \"en_core_web_sm\" instead\n",
      "  warnings.warn(f'Spacy model \"{language}\" could not be loaded, trying \"{OLD_MODEL_SHORTCUTS[language]}\" instead')\n"
     ]
    }
   ],
   "source": [
    "TEXT = data.Field(tokenize='spacy',batch_first=True,include_lengths=True)\n",
    "LABEL = data.LabelField(dtype = torch.float)\n",
    "fields = [(None, None),(None, None),(None, None),(None, None),(None, None),(None, None),\n",
    "          ('label', LABEL),\n",
    "          (None, None),(None, None),(None, None),(None, None),(None, None),(None, None),\n",
    "          ('text',TEXT)]"
   ],
   "metadata": {
    "collapsed": false,
    "pycharm": {
     "name": "#%%\n"
    }
   }
  },
  {
   "cell_type": "code",
   "execution_count": 12,
   "outputs": [],
   "source": [
    "# loading custom dataset\n",
    "training_data=data.TabularDataset(path = 'protocols/labelled/only_lockdown.csv',format = 'csv',fields = fields,skip_header = True,\n",
    "                                  csv_reader_params={'delimiter': '\\t', 'quotechar': None})"
   ],
   "metadata": {
    "collapsed": false,
    "pycharm": {
     "name": "#%%\n"
    }
   }
  },
  {
   "cell_type": "code",
   "execution_count": 20,
   "outputs": [],
   "source": [
    "positive = [e for e in training_data.examples if getattr(e, 'label') == '+']\n",
    "negative = [e for e in training_data.examples if getattr(e, 'label') == '-']\n",
    "neutral = [e for e in training_data.examples if getattr(e, 'label') == 'o']"
   ],
   "metadata": {
    "collapsed": false,
    "pycharm": {
     "name": "#%%\n"
    }
   }
  },
  {
   "cell_type": "code",
   "execution_count": 22,
   "outputs": [],
   "source": [
    "import random\n",
    "random.shuffle(positive)\n",
    "random.shuffle(negative)\n",
    "random.shuffle(neutral)\n",
    "train_data = data.Dataset(positive[:] + negative[:90] + neutral[:90], fields)\n",
    "valid_data = data.Dataset(negative[90:] + neutral[90:], fields)\n",
    "\n",
    "# train_data, valid_data = training_data.split(split_ratio=0.7, random_state = random.seed(SEED))"
   ],
   "metadata": {
    "collapsed": false,
    "pycharm": {
     "name": "#%%\n"
    }
   }
  },
  {
   "cell_type": "code",
   "execution_count": 23,
   "outputs": [
    {
     "name": "stdout",
     "output_type": "stream",
     "text": [
      "Size of TEXT vocabulary: 3563\n",
      "Size of LABEL vocabulary: 3\n",
      "[(',', 1345), ('die', 549), ('.', 508), ('und', 454), ('der', 415), ('Lockdown', 380), ('\\xa0', 310), ('in', 232), ('–', 211), ('den', 199)]\n",
      "defaultdict(<bound method Vocab._default_unk_index of <torchtext.vocab.Vocab object at 0x7f5113a17eb0>>, {'<unk>': 0, '<pad>': 1, ',': 2, 'die': 3, '.': 4, 'und': 5, 'der': 6, 'Lockdown': 7, '\\xa0': 8, 'in': 9, '–': 10, 'den': 11, 'ist': 12, 'dass': 13, 'm': 14, 'das': 15, 'i': 16, 'auch': 17, 'für': 18, 'des': 19, 'es': 20, ':': 21, 'haben': 22, 'nicht': 23, 'hat': 24, 'wir': 25, 'zu': 26, 'von': 27, 'Lockdowns': 28, 'sind': 29, 'dem': 30, 'mit': 31, '-': 32, 'eine': 33, 'zweiten': 34, 'Sie': 35, 'einen': 36, 'ein': 37, 'noch': 38, 'jetzt': 39, 'wird': 40, 'sich': 41, 'aber': 42, 'wie': 43, 'ich': 44, 'werden': 45, 'vor': 46, 'sie': 47, 'um': 48, '„': 49, 'auf': 50, 'an': 51, 'Der': 52, 'als': 53, '“': 54, 'diese': 55, 'so': 56, 'Die': 57, 'durch': 58, 'wieder': 59, 'am': 60, 'schon': 61, 'einem': 62, 'war': 63, 'ja': 64, 'Ich': 65, 'ersten': 66, 'sehr': 67, ';': 68, 'Es': 69, 'Wir': 70, 'bei': 71, 'wenn': 72, 'Österreich': 73, 'aus': 74, 'nach': 75, 'man': 76, 'uns': 77, 'da': 78, 'dieser': 79, 'was': 80, 'über': 81, 'Maßnahmen': 82, 'Budget': 83, 'diesem': 84, 'nur': 85, 'weil': 86, 'können': 87, 'zum': 88, 'Das': 89, 'Bundesregierung': 90, 'alle': 91, 'er': 92, 'während': 93, '!': 94, 'bis': 95, 'diesen': 96, 'ganz': 97, 'heute': 98, 'oder': 99, 'März': 100, 'dann': 101, 'hier': 102, 'viele': 103, 'Regierung': 104, 'Unternehmen': 105, 'wurde': 106, 'denn': 107, 'zur': 108, 'Frauen': 109, 'Zeit': 110, 'damit': 111, 'gibt': 112, 'vom': 113, '2020': 114, 'Euro': 115, 'Herr': 116, 'Menschen': 117, 'einer': 118, 'immer': 119, 'Umsatzersatz': 120, 'dieses': 121, 'mehr': 122, 'nämlich': 123, 'zweite': 124, 'In': 125, 'Wochen': 126, 'allem': 127, 'einmal': 128, 'möchte': 129, 'worden': 130, '2021': 131, 'Lock\\xaddown': 132, 'eines': 133, 'gar': 134, 'machen': 135, 'seit': 136, '?': 137, 'Betriebe': 138, 'Krise': 139, 'Prozent': 140, 'Wirtschaft': 141, 'Woche': 142, 'etwas': 143, 'gesagt': 144, 'keine': 145, 'unsere': 146, 'wäre': 147, 'würde': 148, 'Bevölkerung': 149, 'Kickl': 150, 'Zahlen': 151, 'aufgrund': 152, 'hätte': 153, 'kommt': 154, 'mir': 155, 'waren': 156, 'wissen': 157, ' ': 158, 'Ende': 159, 'betreffend': 160, 'gefordert': 161, 'harten': 162, 'kommen': 163, 'könnte': 164, 'müssen': 165, 'natürlich': 166, 'sondern': 167, 'viel': 168, 'Abgeordneten': 169, 'Kinder': 170, 'Kollegen': 171, 'dafür': 172, 'wirklich': 173, 'Auch': 174, 'November': 175, 'Phase': 176, 'alles': 177, 'daher': 178, 'habe': 179, 'kann': 180, 'sein': 181, 'sowie': 182, 'wurden': 183, 'Antrag': 184, 'Auswirkungen': 185, 'Corona': 186, 'Eltern': 187, 'Finanzminister': 188, 'Jahr': 189, 'Kolleginnen': 190, 'Situation': 191, 'beim': 192, 'beschließen': 193, 'geht': 194, 'gut': 195, 'ihr': 196, 'muss': 197, 'möglich': 198, 'sagen': 199, 'stehen': 200, 'unter': 201, 'vielleicht': 202, 'wollen': 203, 'Ein': 204, 'Fall': 205, 'Frage': 206, 'bereits': 207, 'betroffen': 208, 'gerade': 209, 'sollen': 210, 'wo': 211, 'zwei': 212, '2': 213, 'Anfang': 214, 'Frau': 215, 'Ihnen': 216, 'Monaten': 217, 'Nationalrat': 218, 'Pandemie': 219, 'Tage': 220, 'Zahl': 221, 'also': 222, 'arbeiten': 223, 'darf': 224, 'davon': 225, 'dazu': 226, 'dort': 227, 'einfach': 228, 'folgenden': 229, 'gemacht': 230, 'Coronakrise': 231, 'Da': 232, 'Damen': 233, 'Folgen': 234, 'Gastronomie': 235, 'Herren': 236, 'Kollege': 237, 'Milliarden': 238, 'Oktober': 239, 'Zeitpunkt': 240, 'Zuge': 241, 'allen': 242, 'anderen': 243, 'erst': 244, 'gegeben': 245, 'getan': 246, 'halten': 247, 'harte': 248, 'jene': 249, 'lassen': 250, 'letzten': 251, 'mich': 252, 'mussten': 253, 'nichts': 254, 'notwendig': 255, 'passiert': 256, 'sicherzustellen': 257, 'weiter': 258, 'wolle': 259, 'zwar': 260, '13': 261, 'Bereich': 262, 'Bericht': 263, 'Debatte': 264, 'Diese': 265, 'Familien': 266, 'Frühjahr': 267, 'Kosten': 268, 'Land': 269, 'Lock\\xaddowns': 270, 'Millionen': 271, 'Planungssicherheit': 272, 'Schulen': 273, 'Unternehmer': 274, 'Wie': 275, 'Wifo': 276, 'Ziel': 277, 'aktuellen': 278, 'betroffenen': 279, 'braucht': 280, 'dritten': 281, 'eingebracht': 282, 'erhalten': 283, 'gab': 284, 'ihren': 285, 'insbesondere': 286, 'keinen': 287, 'nächsten': 288, 'offen': 289, 'ohne': 290, 'unser': 291, 'verhindern': 292, 'wichtig': 293, 'ÖVP': 294, '1': 295, 'Beginn': 296, 'Branchen': 297, 'Bundesgesetz': 298, 'Bundeskanzler': 299, 'COVID-19': 300, 'FPÖ': 301, 'Gemeinden': 302, 'Maßnahme': 303, 'Monate': 304, 'Schulschließungen': 305, 'Tag': 306, 'Unterstützung': 307, 'Was': 308, 'Wenn': 309, 'ab': 310, 'andere': 311, 'befinden': 312, 'bekommen': 313, 'brauchen': 314, 'dringend': 315, 'getroffen': 316, 'große': 317, 'ihre': 318, 'indirekt': 319, 'klar': 320, 'light': 321, 'meiner': 322, 'nun': 323, 'ob': 324, 'rasch': 325, 'richtig': 326, 'steht': 327, 'weniger': 328, 'wären': 329, 'österreichischen': 330, 'überhaupt': 331, '/': 332, '000': 333, '6': 334, 'Abholstationen': 335, 'Dieser': 336, 'Gesamtwortlaut': 337, 'I': 338, 'Kunst-': 339, 'Leben': 340, 'Mal': 341, 'Monat': 342, 'Raum': 343, 'Republik': 344, 'Vergleich': 345, 'Verordnung': 346, 'Zeiten': 347, 'Zweiten': 348, 'aufgefordert': 349, 'besonders': 350, 'betrifft': 351, 'darüber': 352, 'deshalb': 353, 'drei': 354, 'eigentlich': 355, 'einigen': 356, 'geben': 357, 'gegangen': 358, 'gehabt': 359, 'gekommen': 360, 'gesprochen': 361, 'gewesen': 362, 'gilt': 363, 'glaube': 364, 'hätten': 365, 'ihn': 366, 'ins': 367, 'kurz': 368, 'laut': 369, 'massiv': 370, 'schwierigen': 371, 'sonst': 372, 'stark': 373, 'stellen': 374, 'tatsächlich': 375, 'umgehend': 376, 'unserer': 377, 'zweiter': 378, 'österreichische': 379, '6,8': 380, '80': 381, 'Am': 382, 'Budgetmittel': 383, 'Coronavirus': 384, 'Dank': 385, 'Deutschland': 386, 'Dezember': 387, 'Diskussion': 388, 'Durch': 389, 'Fixkostenzuschuss': 390, 'Folgeschäden': 391, 'Freitag': 392, 'Geld': 393, 'Gesellschaft': 394, 'Gesundheitssystem': 395, 'Grund': 396, 'Hause': 397, 'Herbst': 398, 'Hilfe': 399, 'IHS': 400, 'II': 401, 'Infektionen': 402, 'Italien': 403, 'Ja': 404, 'Kraft': 405, 'Lock': 406, 'Man': 407, 'Meine': 408, 'Minister': 409, 'Ministerin': 410, 'NEOS': 411, 'Pressekonferenz': 412, 'Punkt': 413, 'Seit': 414, 'So': 415, 'Sommer': 416, 'Tourismus': 417, 'Verfügung': 418, 'Weise': 419, 'Zukunft': 420, 'Zusammenhang': 421, 'allein': 422, 'aller': 423, 'anders': 424, 'begonnen': 425, 'berücksichtigt': 426, 'besser': 427, 'bevor': 428, 'bewusst': 429, 'daran': 430, 'eben': 431, 'eingepreist': 432, 'erste': 433, 'euch': 434, 'ganze': 435, 'gehört': 436, 'genau': 437, 'gesamten': 438, 'habt': 439, 'heißt': 440, 'helfen': 441, 'kein': 442, 'konnten': 443, 'lange': 444, 'leider': 445, 'letzte': 446, 'macht': 447, 'neue': 448, 'neuen': 449, 'sagt': 450, 'schnell': 451, 'setzen': 452, 'soll': 453, 'totalen': 454, 'trotzdem': 455, 'wahrscheinlich': 456, 'wegen': 457, 'wirtschaftliche': 458, 'wirtschaftlichen': 459, '30': 460, '4': 461, '5': 462, '9': 463, 'Abend': 464, 'Aber': 465, 'Abgeordneter': 466, 'Als': 467, 'Angerer': 468, 'Anlagen': 469, 'Arbeit': 470, 'Auf': 471, 'Ausmaß': 472, 'Begründung': 473, 'Beispiel': 474, 'Belastung': 475, 'Beschäftigten': 476, 'Betrieb': 477, 'Bewilligung': 478, 'Branche': 479, 'Budgetausschusses': 480, 'Bürger': 481, 'Distancelearning': 482, 'Drozda': 483, 'Einnahmen': 484, 'Einrichtungen': 485, 'Entwicklung': 486, 'Ermöglichung': 487, 'Erwin': 488, 'Folge': 489, 'Freiheitlichen': 490, 'Für': 491, 'Grenzen': 492, 'Hotellerie': 493, 'Instrument': 494, 'Jahres': 495, 'Klubobmann': 496, 'Kollegin': 497, 'Konsequenzen': 498, 'Künstler': 499, 'Lage': 500, 'Leute': 501, 'Länder': 502, 'Medien': 503, 'Mitte': 504, 'Noch': 505, 'Rahmen': 506, 'Regierungsvorlage': 507, 'Schritt': 508, 'Schule': 509, 'Shutdown': 510, 'Sinne': 511, 'Staat': 512, 'Stelle': 513, 'Thema': 514, 'Thomas': 515, 'Uhr': 516, 'Umsatzersatzes': 517, 'Verluste': 518, 'WIFO': 519, 'Wahrheit': 520, 'Weg': 521, 'Weil': 522, 'Wien': 523, 'Wirtschaftsministerin': 524, 'Wort': 525, 'Während': 526, 'Zum': 527, 'abgebildet': 528, 'absolut': 529, 'all': 530, 'angekündigt': 531, 'ausschließt': 532, 'behauptet': 533, 'beschlossen': 534, 'bin': 535, 'bleiben': 536, 'bringen': 537, 'dadurch': 538, 'damals': 539, 'darauf': 540, 'definitiv': 541, 'denen': 542, 'denke': 543, 'dennoch': 544, 'derzeit': 545, 'dessen': 546, 'deswegen': 547, 'deutlich': 548, 'einzige': 549, 'erinnere': 550, 'funktioniert': 551, 'geführt': 552, 'gesorgt': 553, 'geworden': 554, 'gleichzeitig': 555, 'heimischen': 556, 'herinnen': 557, 'heuer': 558, 'ihrer': 559, 'jenen': 560, 'keiner': 561, 'leisten': 562, 'manche': 563, 'mittlerweile': 564, 'neuerliche': 565, 'neuerlicher': 566, 'nie': 567, 'notwendigen': 568, 'obwohl': 569, 'offensichtlich': 570, 'paar': 571, 'plus': 572, 'rede': 573, 'reden': 574, 'rund': 575, 'sage': 576, 'samt': 577, 'schaffen': 578, 'schließen': 579, 'seine': 580, 'selber': 581, 'soziale': 582, 'sozialen': 583, 'umzusetzen': 584, 'unserem': 585, 'vergangenen': 586, 'verhängt': 587, 'verloren': 588, 'verschlechtert': 589, 'vier': 590, 'vorgesehen': 591, 'warum': 592, 'weiterhin': 593, 'weiß': 594, 'welche': 595, 'wer': 596, 'wirtschaftlich': 597, 'wohl': 598, 'wollten': 599, 'zurück': 600, 'zurückgegangen': 601, 'zwischen': 602, 'Österreicher': 603, 'Österreichs': 604, 'Übrigen': 605, 'öffentlich': 606, 'öffentlichen': 607, '16': 608, '18': 609, '3': 610, '300': 611, '8': 612, 'Alle': 613, 'Amazon': 614, 'April': 615, 'Arbeitslosenzahlen': 616, 'Aufgrund': 617, 'Aussendung': 618, 'BIP': 619, 'Beitrag': 620, 'Bereiche': 621, 'Betroffenen': 622, 'Bezug': 623, 'Blick': 624, 'Blümel': 625, 'Buch': 626, 'Bundesminister': 627, 'Bundesvoranschlages': 628, 'Bücher': 629, 'Coronalockdown': 630, 'Covid': 631, 'Covid-19': 632, 'Daher': 633, 'Damit': 634, 'Damoklesschwert': 635, 'Daten': 636, 'Dauer': 637, 'Down': 638, 'Er': 639, 'Familie': 640, 'Februar': 641, 'Finanzonline': 642, 'Finanzämter': 643, 'Flughafen': 644, 'Freunden': 645, 'Gesundheitssystems': 646, 'Grundlage': 647, 'Grüne': 648, 'Haus': 649, 'Heute': 650, 'Hilfen': 651, 'Ihr': 652, 'Ihre': 653, 'Ihrem': 654, 'Job': 655, 'Jänner': 656, 'Kindern': 657, 'Kommunikation': 658, 'Kulturschaffende': 659, 'Kurzarbeit': 660, 'Lassen': 661, 'Lebensmitteln': 662, 'Mahrer': 663, 'Mit': 664, 'Mitarbeiter': 665, 'Möglichkeit': 666, 'Nicht': 667, 'Normalität': 668, 'Partei': 669, 'Pflege': 670, 'Planbarkeit': 671, 'Prognose': 672, 'Quartals': 673, 'Schellhorn': 674, 'Schließung': 675, 'Schramböck': 676, 'Schüler': 677, 'Seite': 678, 'Spiel': 679, 'Studien': 680, 'TOP': 681, 'Tagen': 682, 'Teil': 683, 'Teillockdown': 684, 'UG': 685, 'Umständen': 686, 'Um\\xadsetzung': 687, 'Und': 688, 'Unterschieden': 689, 'Veranstaltungen': 690, 'Verantwortung': 691, 'Vereinen': 692, 'Volksanwaltschaft': 693, 'Vor': 694, 'Welle': 695, 'Wirtschaftsforscher': 696, 'Wirtschaftsforschungsinstitut': 697, 'Wirtschaftshilfen': 698, 'Wirtschaftskammer': 699, 'Wöginger': 700, 'Zulieferer': 701, 'Zur': 702, 'aktuell': 703, 'alternativlos': 704, 'anderes': 705, 'anhält': 706, 'aufge\\xadfordert': 707, 'aufholen': 708, 'aufrecht': 709, 'ausgegangen': 710, 'auswirkt': 711, 'auszubezahlen': 712, 'auszuschließen': 713, 'bedeutet': 714, 'befürchten': 715, 'beginnen': 716, 'bekannt': 717, 'beraten': 718, 'beschlos\\xadsen': 719, 'bisschen': 720, 'bitte': 721, 'bringe': 722, 'bzw': 723, 'darum': 724, 'dauern': 725, 'denken': 726, 'dies': 727, 'direkt': 728, 'diskutieren': 729, 'diskutiert': 730, 'doch': 731, 'dramatischen': 732, 'draußen': 733, 'drinnen': 734, 'durchgeführt': 735, 'ebenfalls': 736, 'eher': 737, 'einige': 738, 'eins': 739, 'einzelnen': 740, 'entsprechenden': 741, 'entstanden': 742, 'erleben': 743, 'erreicht': 744, 'erschossen': 745, 'etwa': 746, 'finden': 747, 'früher': 748, 'fünf': 749, 'gebraucht': 750, 'geehrte': 751, 'gehen': 752, 'geleistet': 753, 'gelungen': 754, 'gemeinsam': 755, 'genauso': 756, 'geregelt': 757, 'gering': 758, 'gesamte': 759, 'geschlossen': 760, 'gesehen': 761, 'gesetzt': 762, 'getreten': 763, 'gewusst': 764, 'gleich': 765, 'großen': 766, 'gute': 767, 'hart': 768, 'hatten': 769, 'heimische': 770, 'hoffentlich': 771, 'ihm': 772, 'innerhalb': 773, 'investieren': 774, 'jedem': 775, 'jeden': 776, 'jedoch': 777, 'jetzigen': 778, 'kam': 779, 'klarstellen': 780, 'kümmern': 781, 'kürzlich': 782, 'lesen': 783, 'liegen': 784, 'massive': 785, 'medial': 786, 'mein': 787, 'musste': 788, 'möglichst': 789, 'nachhaltig': 790, 'neben': 791, 'nein': 792, 'neuerlichen': 793, 'nächste': 794, 'oft': 795, 'online': 796, 'profitieren': 797, 'rasche': 798, 'rechnen': 799, 'schauen': 800, 'schaut': 801, 'sehen': 802, 'sei': 803, 'sicher': 804, 'sogar': 805, 'sorgen': 806, 'sowohl': 807, 'sperren': 808, 'stattfinden': 809, 'steigen': 810, 'tragen': 811, 'treffen': 812, 'trifft': 813, 'tun': 814, 'ungefähr': 815, 'unseres': 816, 'unterfertigten': 817, 'unterstützen': 818, 'vergessen': 819, 'verlassen': 820, 'vermeiden': 821, 'verordnete': 822, 'verordneten': 823, 'verschlafen': 824, 'versuchen': 825, 'verursacht': 826, 'vielen': 827, 'vollen': 828, 'wann': 829, 'weit': 830, 'weiteren': 831, 'weiterer': 832, 'zehn': 833, 'zusammengeschossen': 834, 'zusätzliche': 835, 'Österreicherinnen': 836, 'Öster\\xadreich': 837, 'Über': 838, 'überlegt': 839, '‘': 840, '\"': 841, '%': 842, '...': 843, '0': 844, '09.Okt': 845, '10': 846, '100': 847, '140': 848, '15': 849, '2,5': 850, '2.000': 851, '20': 852, '4,0': 853, '4,4': 854, '4,5': 855, '500.000': 856, '60': 857, '62': 858, '7': 859, '80prozentigen': 860, 'APA0140': 861, 'Absagen': 862, 'Abstimmung': 863, 'Angebot': 864, 'Angesichts': 865, 'Angstmacherei': 866, 'Anschober': 867, 'Anspruch': 868, 'Anträge': 869, 'Antwort': 870, 'Arbeitslose': 871, 'Arbeitslosen': 872, 'Arbeitslosigkeit': 873, 'Aschbacher': 874, 'Aufgabe': 875, 'Aufträge': 876, 'Aus': 877, 'Ausgangslage': 878, 'Ausland': 879, 'Badelt': 880, 'Bauarbeiter': 881, 'Bedenkt': 882, 'Bedingt': 883, 'Bedingungen': 884, 'Beendigung': 885, 'Begleit\\xadmaß\\xadnahmen': 886, 'Bekämpfung': 887, 'Bemühungen': 888, 'Bereichen': 889, 'Bereits': 890, 'Berichtigung': 891, 'Beschluss': 892, 'Beschränkungen': 893, 'Besonders': 894, 'Besucher': 895, 'Betretungsverbote': 896, 'Betretungsverboten': 897, 'Bildung': 898, 'Brückl': 899, 'Buchhändler': 900, 'Budgetverhandlungen': 901, 'Bundes\\xadminister': 902, 'Bun\\xaddesregierung': 903, 'Coronakurzarbeit': 904, 'Dankeschön': 905, 'Den': 906, 'Detail': 907, 'Dienst': 908, 'Dienstag': 909, 'Dieses': 910, 'Digitalisierung': 911, 'Dinge': 912, 'Diskussionen': 913, 'Disziplin': 914, 'Dynamik': 915, 'Eine': 916, 'Einzelhandel': 917, 'Einzigen': 918, 'Entschädigung': 919, 'Erfahrungen': 920, 'Erholung': 921, 'Ersten': 922, 'Ertragsanteile': 923, 'Europäischen': 924, 'Experten': 925, 'Familienbeihilfe': 926, 'Fangen': 927, 'Finanzmittel': 928, 'Finanz\\xadminister': 929, 'Fixkosten\\xadzuschuss': 930, 'Fleisch': 931, 'Fonds': 932, 'Forschung': 933, 'Fr': 934, 'Freie': 935, 'Freiheitliche': 936, 'Fälle': 937, 'Gagen': 938, 'Gedanken': 939, 'Gefahr': 940, 'Gefühl': 941, 'Gelegenheit': 942, 'Genossen': 943, 'Genossinnen': 944, 'Gerade': 945, 'Geschichte': 946, 'Gestern': 947, 'Gesundheit': 948, 'Gesundheitsminister': 949, 'Gewerbe': 950, 'Gewährung': 951, 'Gott': 952, 'Großes': 953, 'Gruppen': 954, 'Gutes': 955, 'Handel': 956, 'Hebein': 957, 'Heldinnen': 958, 'Hermann': 959, 'Herrn': 960, 'Hier': 961, 'Hilfspaketen': 962, 'Hintergrund': 963, 'Hintertür': 964, 'Hoffnung': 965, 'Hohen': 966, 'Härtefallfonds': 967, 'Höhe': 968, 'Ihrer': 969, 'Ihres': 970, 'Infektionsgeschehen': 971, 'Infektionszahlen': 972, 'Infizierten': 973, 'Inland': 974, 'Interview': 975, 'Israel': 976, 'Jahre': 977, 'Jahren': 978, 'Jahrzehnte': 979, 'Jetzt': 980, 'Juli': 981, 'Kenntnis': 982, 'Kerbe': 983, 'Kinder\\xadbetreuung': 984, 'Kleinen': 985, 'Kocher': 986, 'Kommt': 987, 'Kompensation': 988, 'Kopf': 989, 'Kultureinrichtungen': 990, 'Kulturminister': 991, 'Kurier': 992, 'Kurz': 993, 'KünstlerInnen': 994, 'Künstlerinnen': 995, 'Laut': 996, 'Lehrer': 997, 'Lehrerinnen': 998, 'Lehrlingskosten': 999, 'Leistungen': 1000, 'Lernen': 1001, 'Leuten': 1002, 'Loacker': 1003, 'Lockdownbonus': 1004, 'Luftverschmutzung': 1005, 'Ländern': 1006, 'MA': 1007, 'Mediziner': 1008, 'Mehrwertsteuersenkungen': 1009, 'Meinung': 1010, 'Menschenleben': 1011, 'Men\\xadschen': 1012, 'Mitarbeiterinnen': 1013, 'Mittel': 1014, 'Mitteln': 1015, 'Mittlerweile': 1016, 'Müll': 1017, 'Na': 1018, 'Natürlich': 1019, 'Nein': 1020, 'Neßler': 1021, 'Niveau': 1022, 'Normalisierung': 1023, 'Not': 1024, 'Notvergabe': 1025, 'Notwendigkeit': 1026, 'Nun': 1027, 'Onlinehandel': 1028, 'Opposition': 1029, 'Pflichtschulen': 1030, 'Politik': 1031, 'Polizisten': 1032, 'Polizistinnen': 1033, 'Probleme': 1034, 'Problemen': 1035, 'Prognosezeitraum': 1036, 'Prozentpunkte': 1037, 'Präsident': 1038, 'Puls': 1039, 'Quartal': 1040, 'Raab': 1041, 'Raten': 1042, 'Reduktion': 1043, 'Regelmäßige': 1044, 'Regierungsparteien': 1045, 'Regie\\xadrungsvorlage': 1046, 'Rendi': 1047, 'Rollen': 1048, 'Rücken': 1049, 'SPÖ': 1050, 'SVS': 1051, 'Saison': 1052, 'Schlag': 1053, 'Schon': 1054, 'Schul': 1055, 'Schulden': 1056, 'Schulschließungs-': 1057, 'Schweden': 1058, 'Schweiz': 1059, 'Schwierigkeiten': 1060, 'Schäden': 1061, 'Sehr': 1062, 'September': 1063, 'Sicherheit': 1064, 'Sicht': 1065, 'Signale': 1066, 'Sommermonate': 1067, 'Spitäler': 1068, 'Staaten': 1069, 'Tageszeitung': 1070, 'Tiere': 1071, 'Tonnen': 1072, 'Tool': 1073, 'Totallockdown': 1074, 'Um': 1075, 'Umsatz': 1076, 'Umsatzentschädigung': 1077, 'Umsatzrückgang': 1078, 'Umsatzsteuerminderung': 1079, 'Umsetzung': 1080, 'Umstellung': 1081, 'Unsicherheit': 1082, 'Untergliederung': 1083, 'Unternehmerinnen': 1084, 'Unterrichten': 1085, 'Vereine': 1086, 'Verhinderung': 1087, 'Verlierer': 1088, 'Vernunft': 1089, 'Verordnungen': 1090, 'Versorgung': 1091, 'Verständnis': 1092, 'Vertreter': 1093, 'Viele': 1094, 'Vorhinein': 1095, 'Wagner': 1096, 'Warum': 1097, 'Wegen': 1098, 'Weihnachten': 1099, 'Welt': 1100, 'Wer': 1101, 'Wertschöpfungsverlust': 1102, 'Westeuropa': 1103, 'Wirtschaftskrise': 1104, 'Wirtschaftsleistung': 1105, 'Wissenschaft': 1106, 'Zeitung': 1107, 'Zulieferfirmen': 1108, 'Zustimmung': 1109, '[': 1110, ']': 1111, 'abgelehnt': 1112, 'abgenommen': 1113, 'absehbar': 1114, 'abzusehen': 1115, 'aktuelle': 1116, 'andererseits': 1117, 'angefangen': 1118, 'angenommen': 1119, 'arbeitsmarkpolitische': 1120, 'argen': 1121, 'aufgefangen': 1122, 'aufgestellt': 1123, 'aufholbar': 1124, 'auf\\xadgrund': 1125, 'ausgeführt': 1126, 'ausgehen': 1127, 'ausgelöst': 1128, 'ausgeschlossen': 1129, 'ausschließen': 1130, 'auszusenden': 1131, 'bedanken': 1132, 'beendet': 1133, 'befindet': 1134, 'befreundeter': 1135, 'begleitende': 1136, 'beispielhaft': 1137, 'beisteuern': 1138, 'benötigen': 1139, 'berichtige': 1140, 'bestehenden': 1141, 'besteht': 1142, 'bestellt': 1143, 'bestimmt': 1144, 'bestimmte': 1145, 'betrug': 1146, 'bewirken': 1147, 'bezeichnen': 1148, 'beziehungsweise': 1149, 'bleibt': 1150, 'branchenabhängigen': 1151, 'budgetären': 1152, 'ca': 1153, 'dankbar': 1154, 'daraus': 1155, 'dargelegt': 1156, 'davor': 1157, 'deren': 1158, 'diesbezüglich': 1159, 'digitales': 1160, 'down': 1161, 'dramatisch': 1162, 'dramatische': 1163, 'drastisch': 1164, 'dringende': 1165, 'dritte': 1166, 'durchschlagen': 1167, 'durfte': 1168, 'effiziente': 1169, 'eigenen': 1170, 'einbrechen': 1171, 'einerseits': 1172, 'eingebrochenem': 1173, 'eingefordert': 1174, 'einig': 1175, 'einzig': 1176, 'endet': 1177, 'endlich': 1178, 'enthalten': 1179, 'entsprechende': 1180, 'entstehen': 1181, 'erfolgt': 1182, 'erforderliche': 1183, 'erklärt': 1184, 'ermöglicht': 1185, 'erwarten': 1186, 'eure': 1187, 'finanziell': 1188, 'finde': 1189, 'folgender': 1190, 'fordere': 1191, 'fortgesetzt': 1192, 'freie': 1193, 'freilich': 1194, 'führen': 1195, 'führt': 1196, 'ganzen': 1197, 'ganzer': 1198, 'geblieben': 1199, 'geehrten': 1200, 'gefehlt': 1201, 'gefor\\xaddert': 1202, 'gefragt': 1203, 'gefühlt': 1204, 'gegenüber': 1205, 'gehalten': 1206, 'gelassen': 1207, 'gelaufen': 1208, 'gemeint': 1209, 'genommen': 1210, 'genom\\xadmen': 1211, 'genug': 1212, 'genützt': 1213, 'geringer': 1214, 'geschrieben': 1215, 'geschätzt': 1216, 'gesetzliche': 1217, 'gestellt': 1218, 'gestern': 1219, 'gestiegen': 1220, 'gesundheitlich': 1221, 'gezeigt': 1222, 'ge\\xadstiegen': 1223, 'geändert': 1224, 'greifen': 1225, 'größte': 1226, 'größten': 1227, 'gutes': 1228, 'her': 1229, 'herauszukommen': 1230, 'herrscht': 1231, 'herunten': 1232, 'herunterdrücken': 1233, 'heurigen': 1234, 'hilft': 1235, 'hin': 1236, 'hinaus': 1237, 'hinterfragt': 1238, 'hohen': 1239, 'höher': 1240, 'ihnen': 1241, 'ihrem': 1242, 'inmitten': 1243, 'international': 1244, 'irgendwie': 1245, 'jeder': 1246, 'kleinen': 1247, 'kommenden': 1248, 'konkreten': 1249, 'konnte': 1250, 'kontaktlosen': 1251, 'kosten': 1252, 'kurzfristig': 1253, 'könnten': 1254, 'lang': 1255, 'langsam': 1256, 'leicht': 1257, 'letztlich': 1258, 'liegt': 1259, 'massiven': 1260, 'meine': 1261, 'mindestens': 1262, 'momentan': 1263, 'mögliche': 1264, 'möglicherweise': 1265, 'müsse': 1266, 'müsste': 1267, 'müssten': 1268, 'nachlesen': 1269, 'netto': 1270, 'neu': 1271, 'nochmals': 1272, 'nützen': 1273, 'per': 1274, 'planen': 1275, 'plant': 1276, 'positive': 1277, 'private': 1278, 'quasi': 1279, 'radikale': 1280, 'reagiert': 1281, 'realisiert': 1282, 'redet': 1283, 'reduzieren': 1284, 'reichen': 1285, 'retten': 1286, 'richtige': 1287, 'ringen': 1288, 'rosa': 1289, 'scharf': 1290, 'scharfen': 1291, 'schmeißen': 1292, 'schneller': 1293, 'schreiben': 1294, 'schwerer': 1295, 'schwierig': 1296, 'schwierige': 1297, 'schön': 1298, 'sechs': 1299, 'selbstverständlich': 1300, 'senken': 1301, 'sichergestellt': 1302, 'sieben': 1303, 'sodass': 1304, 'sofortige': 1305, 'sogenannte': 1306, 'sogenannten': 1307, 'solche': 1308, 'sozusagen': 1309, 'spannend': 1310, 'sparen': 1311, 'spreche': 1312, 'sprechen': 1313, 'spürbar': 1314, 'starke': 1315, 'startet': 1316, 'stellt': 1317, 'ständig': 1318, 'sämtliche': 1319, 'trinken': 1320, 'täglich': 1321, 'tätigen': 1322, 'undenkbar': 1323, 'unklaren': 1324, 'unmittelbar': 1325, 'unnötige': 1326, 'unterstützt': 1327, 'verehrten': 1328, 'vereinbarte': 1329, 'vergangene': 1330, 'verhindert': 1331, 'verlangt': 1332, 'verlängert': 1333, 'vermehrt': 1334, 'verordnet': 1335, 'verschlechternden': 1336, 'verschulden': 1337, 'verschärft': 1338, 'versucht': 1339, 'vieles': 1340, 'vierten': 1341, 'vorgelegt': 1342, 'vorgeschlagen': 1343, 'vorher': 1344, 'vorlegt': 1345, 'vorstellen': 1346, 'vorzulegen': 1347, 'völligen': 1348, 'warnt': 1349, 'warnte': 1350, 'wegbrechen': 1351, 'weitere': 1352, 'weitergehen': 1353, 'weiterlaufen': 1354, 'wenigen': 1355, 'wichtige': 1356, 'wichtiger': 1357, 'wiederholen': 1358, 'wiederum': 1359, 'wirken': 1360, 'wirkt': 1361, 'wirtschaftspolitische': 1362, 'wobei': 1363, 'wusste': 1364, 'zahlen': 1365, 'zeigen': 1366, 'zitiere': 1367, 'zitiert': 1368, 'zuerst': 1369, 'zugrunde': 1370, 'zuletzt': 1371, 'zumindest': 1372, 'zurückgehen': 1373, 'zusperren': 1374, 'zusätzlich': 1375, 'Ärzte': 1376, 'Öffnung': 1377, 'Überbrückungsfonds': 1378, 'ändern': 1379, 'äußerst': 1380, 'öffentliche': 1381, '‚': 1382, '  ': 1383, '-initiativen': 1384, '-trägern': 1385, '-ver\\xadanstalter': 1386, '000er': 1387, '03.11.2020': 1388, '05.Nov': 1389, '075': 1390, '095': 1391, '1,1': 1392, '1,6': 1393, '1,8': 1394, '107': 1395, '11': 1396, '11.30': 1397, '117': 1398, '12,4': 1399, '13.3': 1400, '14': 1401, '16.11': 1402, '16.3': 1403, '16.3.2020': 1404, '17': 1405, '183': 1406, '189.000': 1407, '19': 1408, '1950': 1409, '1956': 1410, '1967': 1411, '1979': 1412, '2.11.2020': 1413, '200': 1414, '2020/2021': 1415, '21': 1416, '22': 1417, '24': 1418, '25': 1419, '26': 1420, '28': 1421, '31': 1422, '32': 1423, '40': 1424, '450': 1425, '50': 1426, '500': 1427, '53,7': 1428, '55': 1429, '6.12': 1430, '600': 1431, '613': 1432, '7,7': 1433, '800': 1434, '82': 1435, '900': 1436, '936': 1437, 'A': 1438, 'APA0170': 1439, 'Ab': 1440, 'Abarbeitung': 1441, 'Abbildung': 1442, 'Abfederung': 1443, 'Abfertigungsgesetz': 1444, 'Abschließend': 1445, 'Abschluss': 1446, 'Absicherung': 1447, 'Abwicklung': 1448, 'Abänderungsantrag': 1449, 'Abänderungsbudget': 1450, 'Akontozahlung': 1451, 'Aktienkurse': 1452, 'All': 1453, 'Allein': 1454, 'Alleingang': 1455, 'Allerseelen': 1456, 'Also': 1457, 'Alter': 1458, 'Alternativen': 1459, 'Amtskollegin': 1460, 'Anbietern': 1461, 'Anblick': 1462, 'Anfragen': 1463, 'Angebote': 1464, 'Angehörigen': 1465, 'Angriff': 1466, 'Ankündigungen': 1467, 'Anlässlich': 1468, 'Annäherungsverbote': 1469, 'Anpassungen': 1470, 'Anrechnung': 1471, 'Anstatt': 1472, 'Anstrengungen': 1473, 'Antragsteller': 1474, 'Apotheken': 1475, 'Arbeiten': 1476, 'Arbeitnehmer': 1477, 'Arbeitnehmerinnen': 1478, 'Arbeitslosengeld': 1479, 'Arbeitslosen\\xadzahlen': 1480, 'Arbeitsmarkt': 1481, 'Arbeitsmarktpolitik': 1482, 'Arbeitsministerin': 1483, 'Arbeitsplatz': 1484, 'Arbeitsplätze': 1485, 'Arbeitsprozesse': 1486, 'Arbeitswelt': 1487, 'Arbeitszeit': 1488, 'Arbeits\\xadlosen\\xadzahlen': 1489, 'Arme': 1490, 'Armutsfalle': 1491, 'Art': 1492, 'Arzneimittelversorgung': 1493, 'Arztpraxen': 1494, 'Ar\\xadbeitslosigkeit': 1495, 'Auflagen': 1496, 'Aufmerksamkeit': 1497, 'Aufrufe': 1498, 'Augen': 1499, 'August': 1500, 'Ausbreitung': 1501, 'Ausdehnung': 1502, 'Ausgangbeschränkungen': 1503, 'Ausgangsbeschränkung': 1504, 'Ausgangsbeschränkungen': 1505, 'Ausgangsverbote': 1506, 'Ausganssperren': 1507, 'Ausgleich': 1508, 'Auslastungszahlen': 1509, 'Ausländerbeschäftigungsge\\xadsetz': 1510, 'Ausschuss': 1511, 'Auswirkung': 1512, 'Außenministeriums': 1513, 'Außenminis\\xadterium': 1514, 'Außenstellen': 1515, 'Barbara': 1516, 'Basis': 1517, 'Bauernhof': 1518, 'Bauern\\xadfamilien': 1519, 'Beamten': 1520, 'Beamtinnen': 1521, 'Beam\\xadten': 1522, 'Beatmungsgeräte': 1523, 'Bedarf': 1524, 'Bedeutung': 1525, 'Bedrohung': 1526, 'Begleitforschung': 1527, 'Begleit\\xadforschung': 1528, 'Behandlungsrückstau': 1529, 'Beherbergungsbetriebe': 1530, 'Beherber\\xadgungs\\xadbetriebe': 1531, 'Behördenweg': 1532, 'Bei': 1533, 'Beihilfenrecht': 1534, 'Bekenntnis': 1535, 'Belakowitsch': 1536, 'Belastungen': 1537, 'Belgien': 1538, 'Belvedere': 1539, 'Bemerkung': 1540, 'Beratung': 1541, 'Beratungen': 1542, 'Beratungsinformationen': 1543, 'Berechnungen': 1544, 'Bereitschaft': 1545, 'Beruf': 1546, 'Berufe': 1547, 'Berücksichtigung': 1548, 'Beschwerden': 1549, 'Beschäftigtenstand': 1550, 'Beschäftigung': 1551, 'Beschäftigungspaket': 1552, 'Besonderes': 1553, 'Beste': 1554, 'Besuche': 1555, 'Besucherinnen': 1556, 'Besucherrückgängen': 1557, 'Betrachtung': 1558, 'Betrachtungszeitraum': 1559, 'Betreffend': 1560, 'Betretungsverbot': 1561, 'Betretungsverbo\\xadte': 1562, 'Betrieben': 1563, 'Betriebsschließungen': 1564, 'Bevor': 1565, 'Bewegung': 1566, 'Bewegungsmangel': 1567, 'Bewertung': 1568, 'Bezirken': 1569, 'Be\\xadginn': 1570, 'Be\\xadlieben': 1571, 'Be\\xadtroffenen': 1572, 'Be\\xadvölkerung': 1573, 'Bier': 1574, 'Bilanz': 1575, 'Bilder': 1576, 'Bildungsbereich': 1577, 'Bildungslockdown': 1578, 'Bildungssystems': 1579, 'Bildungsverluste': 1580, 'Bildungszeit': 1581, 'Birgit': 1582, 'Bis': 1583, 'Bitte': 1584, 'Blase': 1585, 'Blindflug': 1586, 'Blödsinn': 1587, 'Books': 1588, 'Botschaften': 1589, 'Botschafter': 1590, 'Brief': 1591, 'Bruttoinlandsprodukt': 1592, 'Buchhandel': 1593, 'BuchhändlerIn\\xadnen': 1594, 'Buchkultur': 1595, 'Budgetausschuss': 1596, 'Budgetbericht': 1597, 'Budgetdebatte': 1598, 'Budgetpolitik': 1599, 'Budgetrede': 1600, 'Budgets': 1601, 'Budget\\xadausschusses': 1602, 'Budget\\xadhearing': 1603, 'Budgetänderung': 1604, 'Bud\\xadgets': 1605, 'Bund': 1606, 'Bundesfinanzrahmengesetz': 1607, 'Bundeskanzleramt': 1608, 'Bundeskanzlers': 1609, 'Bundesmuseen': 1610, 'Bundesparteiobmann': 1611, 'Bundesvoran\\xadschlages': 1612, 'Bundes\\xadkanzler': 1613, 'Buschenschanken': 1614, 'Börsencrash': 1615, 'Bürgerinnen': 1616, 'Bürgermeisterkollegen': 1617, 'Canberra': 1618, 'Caritas': 1619, 'Chance': 1620, 'Chancenindex': 1621, 'Chaos': 1622, 'Chef': 1623, 'Chefcoronaleugner': 1624, 'China': 1625, 'Christen': 1626, 'Christoph': 1627, 'Chronologie': 1628, 'Comebackzuschuss': 1629, 'Computer-': 1630, 'Coronaausnahmesituation': 1631, 'Coronainfizierte': 1632, 'Coronakommission': 1633, 'Coronapandemie': 1634, 'Coronapolitik': 1635, 'Coronasituation': 1636, 'Coronaviruspandemie': 1637, 'Coronazeit': 1638, 'Co\\xadronatoten': 1639, 'Co\\xadvid-19': 1640, 'Cyberinfrastruktur': 1641, 'Damals': 1642, 'Danke': 1643, 'Dann': 1644, 'Darüber': 1645, 'Dass': 1646, 'Datenbasis': 1647, 'Datenerhebungen': 1648, 'Datenerhe\\xadbun\\xadgen': 1649, 'Debatten': 1650, 'Defizite': 1651, 'Demnach': 1652, 'Denken': 1653, 'Derartiges': 1654, 'Des': 1655, 'Deshalb': 1656, 'Deswegen': 1657, 'Details': 1658, 'Deutsch\\xadland': 1659, 'Dienstes': 1660, 'Dienstrechtsgesetz': 1661, 'Diesbezüg\\xadlich': 1662, 'Diesen': 1663, 'Diesmal': 1664, 'Dietmar': 1665, 'Digi\\xadtalisierung': 1666, 'Dimension': 1667, 'Dingen': 1668, 'Diskursen': 1669, 'Doppelresidenz': 1670, 'Doppelten': 1671, 'Dort': 1672, 'Draht': 1673, 'Dramas': 1674, 'Dringlichkeit': 1675, 'Drittel': 1676, 'Dritten': 1677, 'E': 1678, 'Echte': 1679, 'Effekt': 1680, 'Egal': 1681, 'Eigenlob': 1682, 'Eigenver\\xadantwortung': 1683, 'Einbruch': 1684, 'Einbußen': 1685, 'Eindruck': 1686, 'Eindämmung': 1687, 'Einen': 1688, 'Eingebracht': 1689, 'Eingriffe': 1690, 'Einhalten': 1691, 'Einhaltung': 1692, 'Einhorn': 1693, 'Einkaufsmöglichkeiten': 1694, 'Einkommensverlust': 1695, 'Einmalzahlung': 1696, 'Einnahmenentfall': 1697, 'Einpendeln': 1698, 'Einreichmodalitäten': 1699, 'Einschätzung': 1700, 'Einstellung': 1701, 'Eintragungswoche': 1702, 'Einverneh\\xadmen': 1703, 'Einzelnen': 1704, 'Einzige': 1705, 'Elefant': 1706, 'Empörung': 1707, 'Endes': 1708, 'Endgerät': 1709, 'Energieträger': 1710, 'Enten': 1711, 'Entgeltsicherungsge\\xadsetz': 1712, 'Entlastung': 1713, 'Entscheidung': 1714, 'Entscheidungsstärke': 1715, 'Entscheidungs\\xadfindung': 1716, 'Entschei\\xaddungen': 1717, 'Entschließungsantrag': 1718, 'Entschädigungsanspruch': 1719, 'Entschädi\\xadgungs\\xadanspruch': 1720, 'Entschä\\xaddigung': 1721, 'Entwicklungen': 1722, 'Entwick\\xadlungen': 1723, 'Entwurf': 1724, 'EpidemieG': 1725, 'Epidemiegesetz': 1726, 'Erfahrung': 1727, 'Erhalt': 1728, 'Erhebung': 1729, 'Erinnerung': 1730, 'Erkennens': 1731, 'Erkenntnissen': 1732, 'Erlauben': 1733, 'Erratisches': 1734, 'Erst': 1735, 'Erstes': 1736, 'Erwachsenen': 1737, 'Erweiterung': 1738, 'Erwähnung': 1739, 'Europa': 1740, 'Event-': 1741, 'Evidenz': 1742, 'Existenz': 1743, 'Expertise': 1744, 'Exporte': 1745, 'Exportgenehmigungen': 1746, 'FKZ': 1747, 'Faktor': 1748, 'Falls': 1749, 'Familienlastenausgleichsgesetz': 1750, 'Familienleistungen': 1751, 'Familienverbandes': 1752, 'Familien\\xadbeihilfe': 1753, 'Fantasiebudget': 1754, 'Fantasiezahlen': 1755, 'Fatz': 1756, 'Fehler': 1757, 'Feiern': 1758, 'Feststellung': 1759, 'Film-': 1760, 'Finanzierungsgesetz': 1761, 'Finanzministers': 1762, 'Finanzrahmen': 1763, 'Finanzverwaltung': 1764, 'Finanz\\xadministerium': 1765, 'Fiskus': 1766, 'Fitnessstudiobetreiber': 1767, 'Fixkostenzuschusses': 1768, 'Folgekosten': 1769, 'Folgendes': 1770, 'Forderung': 1771, 'Form': 1772, 'Formate': 1773, 'Formen': 1774, 'Formulierung': 1775, 'Fragen': 1776, 'Frauenbild': 1777, 'Frauenministerin': 1778, 'Frauenmi\\xadnisterin': 1779, 'Frechheit': 1780, 'Freiberufler': 1781, 'Freiheitsrechte': 1782, 'Frequenz': 1783, 'Freunderl': 1784, 'Freundinnen': 1785, 'Frühjahres': 1786, 'Frühling': 1787, 'Fuchs': 1788, 'Funktion': 1789, 'Fällen': 1790, 'Förderangebote': 1791, 'Förderpaket': 1792, 'Förderungen': 1793, 'För\\xadderungen': 1794, 'GP': 1795, 'Ganzjahresmaskerade': 1796, 'Gas': 1797, 'Gastronomiebetrieben': 1798, 'Gast\\xadronomie': 1799, 'Gebieten': 1800, 'Gegend': 1801, 'Gegenteil': 1802, 'Gehaltsgesetz': 1803, 'Gemeindeamt': 1804, 'Gemeinsamen': 1805, 'Genau': 1806, 'Generalsekretär': 1807, 'Gene\\xadralsekretär': 1808, 'Geringeres': 1809, 'Gernot': 1810, 'Gerüchte': 1811, 'Gescheites': 1812, 'Geschlechtern': 1813, 'Geschätzte': 1814, 'Gesetze': 1815, 'Gespräche': 1816, 'Gesprächen': 1817, 'Gesundheitsbereich': 1818, 'Gesundheitsberufen': 1819, 'Gesundheitsbudget': 1820, 'Gesundheitskrise': 1821, 'Gesundheitsministerium': 1822, 'Gesundheitsministeriums': 1823, 'Gesundheitswesen': 1824, 'Gesundheitszustand': 1825, 'Gesund\\xadheitsausschuss': 1826, 'Gesund\\xadheitsversorgung': 1827, 'Gesund\\xadheitszustand': 1828, 'Gesund\\xadheits\\xadminister': 1829, 'Gewalt': 1830, 'Gewaltbereitschaft': 1831, 'Gewalteskalationen': 1832, 'Gewerbetreibenden': 1833, 'Gewissheit': 1834, 'Ge\\xadsellschaft': 1835, 'Ge\\xadsundheitswesen': 1836, 'Ge\\xadwalt': 1837, 'Glaskugel': 1838, 'Gleichzeitig': 1839, 'Gnadenhöfen': 1840, 'Grenzschließung': 1841, 'Grenzschließun\\xadgen': 1842, 'Griff': 1843, 'Grippeepidemie': 1844, 'Großindustrie': 1845, 'Großteil': 1846, 'Grund-': 1847, 'Grundkonsens': 1848, 'Grund\\xadsätzlich': 1849, 'Gründe': 1850, 'Gründen': 1851, 'Grünen': 1852, 'Gänge': 1853, 'Halbjahr': 1854, 'Halbwegs': 1855, 'Handeln': 1856, 'Handelns': 1857, 'Handels': 1858, 'Handwerk': 1859, 'Hantel': 1860, 'Harald': 1861, 'Harte': 1862, 'Hat': 1863, 'Hauptausschuss': 1864, 'Hauptausschus\\xadses': 1865, 'Hauptlast': 1866, 'Hauptprofiteur': 1867, 'Haushalt': 1868, 'Haustür': 1869, 'Hehl': 1870, 'Helden': 1871, 'Herausforderung': 1872, 'Herausfor\\xadde\\xadrung': 1873, 'Herunterfahren': 1874, 'Heurige': 1875, 'Hilfestellungen': 1876, 'Hilfsfonds': 1877, 'Hilfsmaßnahme': 1878, 'Hilfsmaßnahmen': 1879, 'Hilfsorganisationen': 1880, 'Hinsicht': 1881, 'Hinweis': 1882, 'Hochschulen': 1883, 'Hohe': 1884, 'Home': 1885, 'Homeoffice': 1886, 'Homeschooling': 1887, 'Hotels': 1888, 'Hunderttausende': 1889, 'Hut': 1890, 'Hygienemaßnahmen': 1891, 'Hände': 1892, 'Höhepunkt': 1893, 'Höllentempo': 1894, 'Hören': 1895, 'IT': 1896, 'Iden': 1897, 'Impfstoff': 1898, 'Impfung': 1899, 'Indexierung': 1900, 'Indikator': 1901, 'Industrie': 1902, 'Infekte': 1903, 'Infektionsfälle': 1904, 'Infektionskrankheit': 1905, 'Infektionsrate': 1906, 'Infektionsraten': 1907, 'Infektionswerte': 1908, 'Infizierte': 1909, 'Informationen': 1910, 'Innenministerium': 1911, 'Insofern': 1912, 'Insolvenz': 1913, 'Institutionen': 1914, 'Intensivbetten': 1915, 'Investition': 1916, 'Investitions-': 1917, 'Investment': 1918, 'Inves\\xadtitionsanreizen': 1919, 'Inves\\xadtitionsprämie': 1920, 'Jahresende': 1921, 'Jahreswechsel': 1922, 'Jobs': 1923, 'Josef': 1924, 'Journalist': 1925, 'Jugendliche': 1926, 'Jugendlichen': 1927, 'Jugendnotruf': 1928, 'Juliauszahlung': 1929, 'Juni': 1930, 'Jux': 1931, 'KHM': 1932, 'Kameras': 1933, 'Kanada': 1934, 'Kaniak': 1935, 'Kapazitäten': 1936, 'Kapazitäts\\xadgrenzen': 1937, 'Karl': 1938, 'Katastrophe': 1939, 'Katastrophenhilfe': 1940, 'Kauf': 1941, 'Keck': 1942, 'Keil': 1943, 'Keller': 1944, 'Kellnern': 1945, 'Kinder-': 1946, 'Kinderrechte': 1947, 'Klarheit': 1948, 'Klub\\xadobmann': 1949, 'Kohle': 1950, 'Kollateralschaden': 1951, 'KollegInnen': 1952, 'Kollegin\\xadnen': 1953, 'Kommen': 1954, 'Kompe\\xadtenzverteilung': 1955, 'Kom\\xadmission': 1956, 'Kontakt': 1957, 'Kontakte': 1958, 'Kontext': 1959, 'Konzeption': 1960, 'Kostendeckungen': 1961, 'Krankenkassen': 1962, 'Krisen': 1963, 'Krisenbewältigung': 1964, 'Krisenbewältigungsmodus': 1965, 'Krisenmanagement': 1966, 'Kritik': 1967, 'Kuala': 1968, 'Kucher': 1969, 'Kuchl': 1970, 'Kultur-': 1971, 'Kulturbetriebe': 1972, 'Kulturbetrieben': 1973, 'Kulturbudget': 1974, 'Kulturinstitutionen': 1975, 'Kulturschaffenden': 1976, 'Kultur\\xadbranche': 1977, 'KundInnen': 1978, 'Kunden': 1979, 'Kundenkontakte': 1980, 'Kunsthistorische': 1981, 'Kurzarbeitsregelung': 1982, 'Kurzem': 1983, 'Kündigungswelle': 1984, 'Künstlerin': 1985, 'Künstlersozialversicherung': 1986, 'Kürze': 1987, 'Landegenehmigungen': 1988, 'Lasten': 1989, 'Laufen': 1990, 'Lebenseinkommen': 1991, 'Lebensmittel': 1992, 'Lebenssituation': 1993, 'Lehre': 1994, 'Lehrer_innen': 1995, 'Lehrpersonal': 1996, 'Leider': 1997, 'Leistungsträgerinnen': 1998, 'Letzten': 1999, 'Level': 2000, 'Licht-': 2001, 'Liebe': 2002, 'Lieblingslokal': 2003, 'Lifte': 2004, 'Lima': 2005, 'Literatur': 2006, 'Live': 2007, 'Lockdownforderer': 2008, 'Lockdownkompensation': 2009, 'Lockdownkrise': 2010, 'Lockdownmodus': 2011, 'Lockdownszenario': 2012, 'Lockdownverlierern': 2013, 'Lockdownzeit': 2014, 'Lockdownzeiten': 2015, 'Lockdown\\xadverlierer': 2016, 'Lockerungen': 2017, 'Lock\\xaddownphase': 2018, 'Lokal': 2019, 'Lokale': 2020, 'Lokals': 2021, 'Lumpur': 2022, 'Lächeln': 2023, 'Lösung': 2024, 'Machbaren': 2025, 'Machtfülle': 2026, 'Mag': 2027, 'Mai': 2028, 'Makulatur': 2029, 'Management': 2030, 'Mann': 2031, 'Mantel': 2032, 'Marke': 2033, 'Martin': 2034, 'Maskenball': 2035, 'Maskenpflicht': 2036, 'Massenimpfung': 2037, 'Massentests': 2038, 'Massentestung': 2039, 'Material': 2040, 'Materialkosten': 2041, 'Matznetter': 2042, 'Maßnahmengesetz': 2043, 'Maßnahmengesetzes': 2044, 'Maßnah\\xadmen': 2045, 'Maß\\xadnahmen': 2046, 'Medizinerinnen': 2047, 'Medizinprodukten': 2048, 'Mehrheitsfraktion': 2049, 'Mehrzahl': 2050, 'Mein': 2051, 'Meinungen': 2052, 'Meinungsfreiheit': 2053, 'Meinungshoheit': 2054, 'Menge': 2055, 'Menschen\\xadexperiment': 2056, 'Methode': 2057, 'Mikrofon': 2058, 'Mindeststandards': 2059, 'Minizahlung': 2060, 'Minus': 2061, 'Minuten': 2062, 'Min\\xaddeststandards': 2063, 'Mir': 2064, 'Missverständnisse': 2065, 'Miteinbeziehung': 2066, 'Mitgliedern': 2067, 'Mitleidenschaft': 2068, 'Mitternacht': 2069, 'Mittwoch': 2070, 'Modellierung': 2071, 'Modellierungsversuchen': 2072, 'Moder\\xadnem': 2073, 'Motto': 2074, 'Multiarbeit': 2075, 'Museum': 2076, 'Mutter': 2077, 'Mythen': 2078, 'Möglichkeiten': 2079, 'NPO': 2080, 'Nach': 2081, 'Nachbarländer': 2082, 'Nachhinein': 2083, 'Nacht': 2084, 'Nachverfolgung': 2085, 'Nase': 2086, 'Nationalbank': 2087, 'Nationalrates': 2088, 'Nebenjob': 2089, 'Negative': 2090, 'Netz': 2091, 'Neuausrichtung': 2092, 'Neuinfektionen': 2093, 'Nord-': 2094, 'Nordamerika': 2095, 'Nor\\xadmalität': 2096, 'Notmaßnahmenverordnung': 2097, 'Notwen\\xaddigkeit': 2098, 'Nov': 2099, 'Novellierung': 2100, 'Novem\\xadber': 2101, 'Nullpunkt': 2102, 'Nächtigungen': 2103, 'ORF': 2104, 'OTS': 2105, 'Ob': 2106, 'Oberstufe': 2107, 'Oberstufen': 2108, 'Obfrau': 2109, 'Oder': 2110, 'Operationen': 2111, 'Opfer': 2112, 'Oppositionsparteien': 2113, 'Oppo\\xadsition': 2114, 'Oppo\\xadsitionsparteien': 2115, 'Orga\\xadni\\xadsationen': 2116, 'Ort': 2117, 'Ortschaften': 2118, 'Ost-': 2119, 'Paare': 2120, 'Paket': 2121, 'Pamela': 2122, 'Pannen': 2123, 'Pan\\xaddemie': 2124, 'Papierkübel': 2125, 'Parlament': 2126, 'Parlaments': 2127, 'Parlamentsklubs': 2128, 'Pauschalität': 2129, 'Peking': 2130, 'Pension': 2131, 'Pensionsraub': 2132, 'Personal': 2133, 'Perspektive': 2134, 'Perspek\\xadtiven': 2135, 'Phasen': 2136, 'Planungsarbeiten': 2137, 'Plattform': 2138, 'Pleite-': 2139, 'Plenums': 2140, 'Plätze': 2141, 'Podium': 2142, 'Politiker': 2143, 'Pop': 2144, 'Positives': 2145, 'Preis': 2146, 'Preise': 2147, 'Presse': 2148, 'Pressekonferenzen': 2149, 'Pres\\xadseaussendungen': 2150, 'Privatbereich': 2151, 'Privatleben': 2152, 'Problem': 2153, 'Produktion': 2154, 'Produktionen': 2155, 'Produzieren': 2156, 'Prof.': 2157, 'Profiteure': 2158, 'Projektaufgaben': 2159, 'Protokoll': 2160, 'Prämien': 2161, 'Präsidenten': 2162, 'Präventivmaßnahme': 2163, 'Puls-4': 2164, 'Pult': 2165, 'Punkte': 2166, 'Pöttinger': 2167, 'Qualität': 2168, 'Quartiere': 2169, 'Quer\\xadschnittstestungen': 2170, 'Rat': 2171, 'Ratz': 2172, 'Reaktion': 2173, 'Rechnungen': 2174, 'Rechte': 2175, 'Rechtsanspruch': 2176, 'Rede': 2177, 'Redner': 2178, 'Regelung': 2179, 'Regen': 2180, 'Regierungsexperte': 2181, 'Regierungslinie': 2182, 'Regierungsseite': 2183, 'Region': 2184, 'Rehabilitationen': 2185, 'Reise': 2186, 'Reisebeschränkungen': 2187, 'Reisebüros': 2188, 'Reisewarnungen': 2189, 'Reisewar\\xadnungen': 2190, 'Renate': 2191, 'Reparatur': 2192, 'Repara\\xadtur': 2193, 'Ressortministern': 2194, 'Return': 2195, 'Rezession': 2196, 'Richtige': 2197, 'Richtigerweise': 2198, 'Richtiges': 2199, 'Richtung': 2200, 'Risikoszenario': 2201, 'Rolle': 2202, 'Ruhe': 2203, 'Runden': 2204, 'Rückgang': 2205, 'Rückholaktion': 2206, 'Rückschritte': 2207, 'Rückverweis': 2208, 'Rückwirkung': 2209, 'Sache': 2210, 'Sachen': 2211, 'Salamitaktik': 2212, 'Sanitäter': 2213, 'Sanitäterinnen': 2214, 'Satz': 2215, 'Schaden': 2216, 'Schadenersatz': 2217, 'Schadenersatzes': 2218, 'Schallmauer': 2219, 'Schallmeiner': 2220, 'Schall\\xadmauer': 2221, 'Scha\\xadden': 2222, 'Scheichelbauer': 2223, 'Schlange': 2224, 'Schlechtwetterentschädigungsgesetz': 2225, 'Schluss': 2226, 'Schlussappell': 2227, 'Schlussberatungen': 2228, 'Schmidhofer': 2229, 'Schooling': 2230, 'Schullockdown': 2231, 'Schul\\xadlockdown': 2232, 'Schuster': 2233, 'Schwierigkeit': 2234, 'Schätzungen': 2235, 'Schönes': 2236, 'Schüler_innen': 2237, 'Schülerinnen': 2238, 'Sebastian': 2239, 'Seilbahnbereich': 2240, 'Seitdem': 2241, 'Seiten': 2242, 'Sekundarstufe': 2243, 'Selbstständige': 2244, 'Sensibilisierungs\\xadkampagne': 2245, 'Sepp': 2246, 'Simulationsexperte': 2247, 'Sitzung': 2248, 'Skigebiete': 2249, 'Sofortige': 2250, 'Soldaten': 2251, 'Soldatinnen': 2252, 'Sollen': 2253, 'Sonderberichte': 2254, 'Sonderbetreuung': 2255, 'Sonderbetreuungszeit': 2256, 'Sonderbetreuungszeiten': 2257, 'Sonderprüfungen': 2258, 'Sorge': 2259, 'Sorgen': 2260, 'Sozial': 2261, 'Sozialausschuss': 2262, 'Soziales': 2263, 'Sozialversicherung': 2264, 'Sozialversicherungen': 2265, 'Spaltung': 2266, 'Sparring\\xadpartner': 2267, 'Sparte': 2268, 'Spaß': 2269, 'Sperren': 2270, 'SpitzenkandidatInnen': 2271, 'Spitzensport': 2272, 'Spitzen\\xadmonaten': 2273, 'Spitälern': 2274, 'Sport': 2275, 'Sprache': 2276, 'Spuren': 2277, 'Staates': 2278, 'Staatshilfen': 2279, 'Stadium': 2280, 'Stattdessen': 2281, 'Stau\\xaddamm': 2282, 'Steigerung': 2283, 'Steiner': 2284, 'Stellen': 2285, 'Stellenabbau\\xadprogram\\xadme': 2286, 'Steuer': 2287, 'Stimmen': 2288, 'Stim\\xadmen': 2289, 'Stoß': 2290, 'Strategie': 2291, 'Straße': 2292, 'Stresses': 2293, 'Studie': 2294, 'Studierende': 2295, 'Stunden': 2296, 'Sturmgewehr': 2297, 'Stütze': 2298, 'Susanne': 2299, 'System\\xaderhalterinnen': 2300, 'Sätze': 2301, 'Säule': 2302, 'Säulen': 2303, 'Südamerika': 2304, 'Südosteuropa': 2305, 'TU': 2306, 'TV': 2307, 'Tagesordnungspunkt': 2308, 'Teilnahme': 2309, 'Teilzeit': 2310, 'Testprogramme': 2311, 'Testungen': 2312, 'Themas': 2313, 'Tiefschlaf': 2314, 'Tirana': 2315, 'Tirol': 2316, 'Tiroler': 2317, 'Todesfälle': 2318, 'Todesfällen': 2319, 'Todesstoß': 2320, 'Tollerei': 2321, 'Tontechniker': 2322, 'Tore': 2323, 'Tote': 2324, 'Toten': 2325, 'Tourismusausschusses': 2326, 'Tourismussprecherin': 2327, 'Tradition': 2328, 'Treffen': 2329, 'Trump': 2330, 'Tun': 2331, 'Tätigkeit': 2332, 'Türkisen': 2333, 'USA': 2334, 'Umfeld': 2335, 'Umfragewerte': 2336, 'Umsatzausfall': 2337, 'Umsatzeinbruch': 2338, 'Umsatzes': 2339, 'Umsatzteile': 2340, 'Umsatz\\xadersatz': 2341, 'Umso': 2342, 'Umsätze': 2343, 'Umwelteinflüsse': 2344, 'Umweltförderungsgesetz': 2345, 'Ungleichheit': 2346, 'Union': 2347, 'Unpfändbarkeit': 2348, 'Unplanbarkeit': 2349, 'Unser': 2350, 'Unsere': 2351, 'Unternehmensunterstützungen': 2352, 'Unternehmer_innen': 2353, 'Unternehmerlohn': 2354, 'Unternehmern': 2355, 'Unterricht': 2356, 'Unterrichtsstunden': 2357, 'Unterschriften': 2358, 'Unterstufe': 2359, 'Unterstützungen': 2360, 'Unterstützungseinrichtungen': 2361, 'Untersuchungen': 2362, 'Unter\\xadricht': 2363, 'Unter\\xadschiede': 2364, 'Untätigkeit': 2365, 'Urlaub': 2366, 'Urlaubs-': 2367, 'Varianten': 2368, 'Veranstaltungs': 2369, 'Veranstaltungsbranche': 2370, 'Verantwor\\xadtungsträger': 2371, 'Verbindungen': 2372, 'Verdienstentgang': 2373, 'Vereinsmitglieder': 2374, 'Verhängung': 2375, 'Verliererinnen': 2376, 'Verlustausgleich': 2377, 'Verlängerung': 2378, 'Verlässlichkeit': 2379, 'Verordnungsermächtigungen': 2380, 'Versagens': 2381, 'Versagerinnen': 2382, 'Versandhandel': 2383, 'Versandkosten': 2384, 'Verschärfung': 2385, 'Versorgungsengpässe': 2386, 'Verstärkt': 2387, 'Verstärkung': 2388, 'Versäumnisse': 2389, 'Vertragsbediensteten': 2390, 'Verunsicherung': 2391, 'Verzug': 2392, 'Ver\\xadfügung': 2393, 'Vielfaches': 2394, 'Vielfalt': 2395, 'Vielleicht': 2396, 'Vielzahl': 2397, 'Virusleugner': 2398, 'Vizekanzler': 2399, 'Volksbegehren': 2400, 'Volkspartei': 2401, 'Volksschule': 2402, 'Volkswirtschaft': 2403, 'Volks\\xadwirtschaft': 2404, 'Voller': 2405, 'Vom': 2406, 'Vorbereitungsmaßnahmen': 2407, 'Vorbildland': 2408, 'Vorgesetzten': 2409, 'Vorjahr': 2410, 'Vorjahresmonats': 2411, 'Vorjahres\\xadzeitraum': 2412, 'Vorlage': 2413, 'Vorrednerin': 2414, 'Vorreiter': 2415, 'Vorschau': 2416, 'Vorschlag': 2417, 'Vorteil': 2418, 'Vorteile': 2419, 'Vorwurf': 2420, 'WKO': 2421, 'WKÖ': 2422, 'Wachstum': 2423, 'Wachstumsprognosen': 2424, 'Wahnsinn': 2425, 'Wand': 2426, 'Wandel': 2427, 'Wegweisungen': 2428, 'Weihnachts\\xadgeschäft': 2429, 'Wein': 2430, 'Weitere': 2431, 'Weiteren': 2432, 'Weitreichende': 2433, 'Wenigstens': 2434, 'Wertschöpfungsketten': 2435, 'Wert\\xadschöpfungskette': 2436, 'Westbahn': 2437, 'We\\xadge': 2438, 'Whatever': 2439, 'Wiener': 2440, 'Winter': 2441, 'Wintertourismus': 2442, 'Wirklichkeit': 2443, 'Wirksamkeit': 2444, 'Wirkung': 2445, 'Wirtschaftlich': 2446, 'Wirtschaftsausschuss': 2447, 'Wirtschaftsexperte': 2448, 'Wirtschaftsforschern': 2449, 'Wirtschaftsprognosen': 2450, 'Wirtschaftsreparaturpaket': 2451, 'Wirtschaftssystem': 2452, 'Wirt\\xadschaft': 2453, 'Wissenschaftsfreiheit': 2454, 'Wissensstand': 2455, 'Wohle': 2456, 'Wollt': 2457, 'Worten': 2458, 'Wucht': 2459, 'Wunsch': 2460, 'Wurm': 2461, 'Wände': 2462, 'Zadić': 2463, 'Zahlenwerk': 2464, 'Zahlung': 2465, 'Zah\\xadlenwerk': 2466, 'Zeche': 2467, 'Zehntausende': 2468, 'Zeitungen': 2469, 'Zeitverwendungsstudie': 2470, 'Zickzackkurs': 2471, 'Zielgruppen': 2472, 'Zoom': 2473, 'Zuerst': 2474, 'Zulieferbetrieben': 2475, 'Zusammenspiel': 2476, 'Zusam\\xadmenbruch': 2477, 'Zusam\\xadmenhang': 2478, 'Zuschriften': 2479, 'Zuschuss': 2480, 'Zustrom': 2481, 'Zustände': 2482, 'Zuständen': 2483, 'Zusätzlich': 2484, 'Zwei': 2485, 'abbringen': 2486, 'abdeckt': 2487, 'abgefedert': 2488, 'abgeflacht': 2489, 'abgehalten': 2490, 'abgeholt': 2491, 'abgeschafft': 2492, 'abgesehen': 2493, 'abgestritten': 2494, 'abgewiesen': 2495, 'abschließend': 2496, 'absolute': 2497, 'abwandern': 2498, 'abwehren': 2499, 'abzuschaffen': 2500, 'abzuschätzen': 2501, 'abzuwenden': 2502, 'abzuwickeln': 2503, 'acht': 2504, 'adaptiert': 2505, 'adressiert': 2506, 'afrikanische': 2507, 'agiert': 2508, 'akzeptiert': 2509, 'alleinige': 2510, 'allerdings': 2511, 'alt': 2512, 'analog': 2513, 'anbelangt': 2514, 'anderem': 2515, 'ande\\xadren': 2516, 'angeblich': 2517, 'angeblichen': 2518, 'angeboten': 2519, 'angeführt': 2520, 'angelegtes': 2521, 'angeordnet': 2522, 'angesetzten': 2523, 'angesichts': 2524, 'angesteckt': 2525, 'angestellt': 2526, 'angestiegen': 2527, 'angesucht': 2528, 'angewiesen': 2529, 'ange\\xadwiesen': 2530, 'ankommen': 2531, 'anlaufenden': 2532, 'anlässlich': 2533, 'anmerken': 2534, 'anonym': 2535, 'anregen': 2536, 'ans': 2537, 'ansatzweise': 2538, 'anschaue': 2539, 'anschaut': 2540, 'anscheinend': 2541, 'ansetzt': 2542, 'anstatt': 2543, 'ansteigen': 2544, 'ansuchen': 2545, 'ante': 2546, 'antragslos': 2547, 'antragslose': 2548, 'anzubieten': 2549, 'anzukündigen': 2550, 'arbeitenden': 2551, 'arbeitslos': 2552, 'attes\\xadtiert': 2553, 'aufeinander': 2554, 'auffällt': 2555, 'aufgehoben': 2556, 'aufgepasst': 2557, 'aufgesetzt': 2558, 'aufhorchen': 2559, 'aufhört': 2560, 'auflachen': 2561, 'aufrufen': 2562, 'aufs': 2563, 'aufseiten': 2564, 'aufwärtsgegangen': 2565, 'aufzufangen': 2566, 'aufzustellen': 2567, 'auf\\xadgefordert': 2568, 'ausbezahlt': 2569, 'ausbricht': 2570, 'ausgebrochen': 2571, 'ausgeht': 2572, 'ausgerechnet': 2573, 'ausgereicht': 2574, 'ausgerufen': 2575, 'ausgestalten': 2576, 'ausgeweitet': 2577, 'ausgewirkt': 2578, 'ausgezeichnet': 2579, 'ausgleichen': 2580, 'ausliefern': 2581, 'ausreichend': 2582, 'ausreichende': 2583, 'ausreichender': 2584, 'aussieht': 2585, 'aussteigen': 2586, 'ausstrahlt': 2587, 'auszunutzen': 2588, 'aus\\xadreichende': 2589, 'aus\\xadsehen': 2590, 'außen': 2591, 'außerhalb': 2592, 'basieren': 2593, 'beantragen': 2594, 'beantragt': 2595, 'bean\\xadtragen': 2596, 'bearbeitet': 2597, 'bedeuten': 2598, 'befeuern': 2599, 'befindlichen': 2600, 'befristete': 2601, 'befürchtet': 2602, 'begegnen': 2603, 'beginnend': 2604, 'beginnt': 2605, 'begleiten': 2606, 'begleitet': 2607, 'begründet': 2608, 'begrüßen': 2609, 'begrüßte': 2610, 'behandeln': 2611, 'behandelt': 2612, 'behaupten': 2613, 'beherzt': 2614, 'behördlich': 2615, 'beiden': 2616, 'beigetragen': 2617, 'beihilfen\\xadrecht\\xadlichen': 2618, 'beispielsweise': 2619, 'beitragen': 2620, 'beiträgt': 2621, 'bekanntlich': 2622, 'beklagte': 2623, 'bekommt': 2624, 'belastet': 2625, 'benötigtes': 2626, 'beobachten': 2627, 'berechnet': 2628, 'berechtigt': 2629, 'bereiten': 2630, 'bereitgestellt': 2631, 'bereitzustellen': 2632, 'berichtet': 2633, 'berichtete': 2634, 'berufliche': 2635, 'berücksichtigen': 2636, 'berühren': 2637, 'beschlossene': 2638, 'beschäftigt': 2639, 'besondere': 2640, 'beson\\xadders': 2641, 'besorgniserregende': 2642, 'bessere': 2643, 'besseren': 2644, 'bestanden': 2645, 'beste': 2646, 'besten': 2647, 'bestens': 2648, 'bestmögliche': 2649, 'bestätigt': 2650, 'betonen': 2651, 'betont': 2652, 'betreiben': 2653, 'betreuen': 2654, 'betreut': 2655, 'betroffene': 2656, 'betrof\\xadfen': 2657, 'beträchtlich': 2658, 'beurteilt': 2659, 'beur\\xadteilen': 2660, 'bevorstehenden': 2661, 'bevorsteht': 2662, 'beweist': 2663, 'bewiesen': 2664, 'bewirkt': 2665, 'bewältigbar': 2666, 'bezahlten': 2667, 'beziffert': 2668, 'bezogen': 2669, 'be\\xadtreffen': 2670, 'bieten': 2671, 'bilden': 2672, 'binnen': 2673, 'bisher': 2674, 'bitten': 2675, 'bleibe': 2676, 'bombardieren': 2677, 'branche': 2678, 'brau\\xadchen': 2679, 'brechen': 2680, 'bringt': 2681, 'bräuchte': 2682, 'bräuchten': 2683, 'budgetär': 2684, 'bud\\xadgetär': 2685, 'bundesländerspezifische': 2686, 'cash': 2687, 'circa': 2688, 'coronabedingtem': 2689, 'dabei': 2690, 'dagegengestimmt': 2691, 'dahin': 2692, 'dahinter': 2693, 'danach': 2694, 'danebenliegt': 2695, 'dank': 2696, 'danke': 2697, 'danken': 2698, 'darangesetzt': 2699, 'dargestellt': 2700, 'darstellte': 2701, 'darzustellen': 2702, 'dasselbe': 2703, 'dazusagen': 2704, 'de': 2705, 'denkt': 2706, 'derartigen': 2707, 'derer': 2708, 'derjenige': 2709, 'derselben': 2710, 'dich': 2711, 'dienen': 2712, 'die\\xadsem': 2713, 'distance': 2714, 'dop\\xadpelte': 2715, 'dorthin': 2716, 'dortigen': 2717, 'draufhaben': 2718, 'dreier': 2719, 'dreifache': 2720, 'drohen': 2721, 'drohenden': 2722, 'drängt': 2723, 'du': 2724, 'durchaus': 2725, 'durchgehen': 2726, 'durchgekommen': 2727, 'durchgesetzt': 2728, 'durchgezogen': 2729, 'durchzubringen': 2730, 'durch\\xadführt': 2731, 'durch\\xadge\\xadführt': 2732, 'dürfen': 2733, 'ebendiesen': 2734, 'ebenso': 2735, 'echte': 2736, 'effizienter': 2737, 'eh': 2738, 'eigene': 2739, 'eigenes': 2740, 'eigentlichen': 2741, 'eigent\\xadlich': 2742, 'einbringen': 2743, 'einbringt': 2744, 'eindeutig': 2745, 'eindrucksvoll': 2746, 'eindrücklich': 2747, 'einfacher': 2748, 'einforderten': 2749, 'eingegangen': 2750, 'eingehe': 2751, 'eingehen': 2752, 'eingerichteten': 2753, 'eingeschränkt': 2754, 'eingeschränkten': 2755, 'eingesprungen': 2756, 'eingetretene': 2757, 'eingetroffen': 2758, 'einiges': 2759, 'einschenken': 2760, 'einschneidend': 2761, 'einschränken': 2762, 'einstellen': 2763, 'einstimmig': 2764, 'einzelne': 2765, 'einzudämmen': 2766, 'einzuführen': 2767, 'einzugreifen': 2768, 'einzupreisen': 2769, 'ein\\xadfordern': 2770, 'elf': 2771, 'empfinden': 2772, 'enorm': 2773, 'enorme': 2774, 'enormen': 2775, 'entfernt': 2776, 'entscheiden': 2777, 'entschließen': 2778, 'entsprechend': 2779, 'entspricht': 2780, 'entsteht': 2781, 'entwickelt': 2782, 'erfolgen': 2783, 'erforderlich': 2784, 'erforderlichen': 2785, 'erfreulich': 2786, 'erfüllen': 2787, 'erhebliche': 2788, 'erhöhen': 2789, 'erinnern': 2790, 'erinnert': 2791, 'erkrankten': 2792, 'erlebt': 2793, 'erledigen': 2794, 'erledigt': 2795, 'ermöglichen': 2796, 'ernst': 2797, 'erreichbar': 2798, 'errichten': 2799, 'erschließt': 2800, 'ersuche': 2801, 'erweiterten': 2802, 'erwirtschaften': 2803, 'erwischt': 2804, 'erwähnen': 2805, 'erwähnt': 2806, 'erzwungenen': 2807, 'essen': 2808, 'europaweit': 2809, 'europäischen': 2810, 'eu\\xadropäischen': 2811, 'evidenzbasierte': 2812, 'evidenz\\xadbasierte': 2813, 'existenzielle': 2814, 'externe': 2815, 'facto': 2816, 'fair': 2817, 'fallen': 2818, 'falls': 2819, 'falsch': 2820, 'falschen': 2821, 'fast': 2822, 'fatal': 2823, 'fatalen': 2824, 'fehlen': 2825, 'fehlende': 2826, 'fehlt': 2827, 'feiern': 2828, 'fest': 2829, 'festhalten': 2830, 'finanziellen': 2831, 'findet': 2832, 'fleißig': 2833, 'flächendeckende': 2834, 'flächendeckenden': 2835, 'folgen': 2836, 'folgende': 2837, 'folgt': 2838, 'folgte': 2839, 'formulieren': 2840, 'formuliert': 2841, 'fortzusetzen': 2842, 'fossile': 2843, 'fragen': 2844, 'frappant': 2845, 'freischaffenden': 2846, 'freiwillige': 2847, 'frequente': 2848, 'freue': 2849, 'freundliches': 2850, 'freut': 2851, 'froh': 2852, 'furchtbar': 2853, 'fühlen': 2854, 'führend': 2855, 'fürchterlichen': 2856, 'ganzes': 2857, 'geantwortet': 2858, 'gebe': 2859, 'gebracht': 2860, 'gebrachte': 2861, 'gebun\\xadden': 2862, 'gebührt': 2863, 'gedacht': 2864, 'geehrter': 2865, 'geeignet': 2866, 'geeigneten': 2867, 'gefunden': 2868, 'geführte': 2869, 'gegeißelt': 2870, 'gegen': 2871, 'geglaubt': 2872, 'gehe': 2873, 'geheißen': 2874, 'gehend': 2875, 'gehofft': 2876, 'gekennzeichnet': 2877, 'geklärt': 2878, 'gekostet': 2879, 'gekündigt': 2880, 'gelernt': 2881, 'gelin\\xaddere': 2882, 'geltende': 2883, 'gemeinsames': 2884, 'genannt': 2885, 'genereller': 2886, 'genießen': 2887, 'gepflegt': 2888, 'gepredigt': 2889, 'gerasselt': 2890, 'geredet': 2891, 'gerettet': 2892, 'gerichtet': 2893, 'geringe': 2894, 'geringeren': 2895, 'gerne': 2896, 'gerutscht': 2897, 'gerückt': 2898, 'gesamter': 2899, 'gesamtes': 2900, 'geschaffen': 2901, 'geschlittert': 2902, 'geschlossenen': 2903, 'geschnürt': 2904, 'geschuldet': 2905, 'geschwiegen': 2906, 'geschwungen': 2907, 'gesellschaftlich': 2908, 'gesell\\xadschaftliche': 2909, 'gesessen': 2910, 'gesetzlichen': 2911, 'gespart': 2912, 'gestalten': 2913, 'gestiegenen': 2914, 'gestreut': 2915, 'gesund': 2916, 'gesundheitspolitisch': 2917, 'gesundheitspolitische': 2918, 'getragen': 2919, 'getrennt': 2920, 'getwittert': 2921, 'gewinnen': 2922, 'gewisser': 2923, 'gewählt': 2924, 'gewähren': 2925, 'gewährleisten': 2926, 'gewährleistet': 2927, 'gezielte': 2928, 'ge\\xadnannt': 2929, 'ge\\xadschlossenen': 2930, 'ge\\xadschlos\\xadsenen': 2931, 'ge\\xadzielte': 2932, 'gib': 2933, 'ging': 2934, 'glauben': 2935, 'glaubt': 2936, 'grippalen': 2937, 'groß': 2938, 'großer': 2939, 'großes': 2940, 'großflächi\\xadgen': 2941, 'großteils': 2942, 'grundlegenden': 2943, 'größer': 2944, 'guten': 2945, 'halbwegs': 2946, 'halt': 2947, 'handeln': 2948, 'harter': 2949, 'hatte': 2950, 'ha\\xadben': 2951, 'heftige': 2952, 'heimischer': 2953, 'heimi\\xadschen': 2954, 'heraus': 2955, 'herausgekommen': 2956, 'herausgestellt': 2957, 'herauskommen': 2958, 'herauszubringen': 2959, 'hereingebrochen': 2960, 'hergeben': 2961, 'hergehen': 2962, 'herhalten': 2963, 'herrschte': 2964, 'herstellen': 2965, 'herumzutesten': 2966, 'hervorragende': 2967, 'herzliches': 2968, 'her\\xadstellen': 2969, 'heurige': 2970, 'heutigem': 2971, 'heutigen': 2972, 'hey': 2973, 'he\\xadrumfantasiert': 2974, 'hiezu': 2975, 'hinausgeht': 2976, 'hinein': 2977, 'hineingegangen': 2978, 'hineinzuschreiben': 2979, 'hingedeutet': 2980, 'hingestellt': 2981, 'hingewiesen': 2982, 'hinsichtlich': 2983, 'hinstellt': 2984, 'hinstolpert': 2985, 'hinterfragen': 2986, 'hinterlassen': 2987, 'hinüberturnen': 2988, 'hochfährt': 2989, 'hoffe': 2990, 'hohe': 2991, 'hoher': 2992, 'humanitäre': 2993, 'hält': 2994, 'hängen': 2995, 'hängt': 2996, 'häusliche': 2997, 'häuslichen': 2998, 'höchstens': 2999, 'höchstnotwendige': 3000, 'höre': 3001, 'hört': 3002, 'hörte': 3003, 'iger': 3004, 'immerhin': 3005, 'indem': 3006, 'infrastrukturellen': 3007, 'initiiert': 3008, 'inländischen': 3009, 'insgesamt': 3010, 'insofern': 3011, 'integrieren': 3012, 'intensiv': 3013, 'intensive': 3014, 'interdisziplinäre': 3015, 'interessant': 3016, 'interessante': 3017, 'interessanterweise': 3018, 'irgendeinem': 3019, 'irgendetwas': 3020, 'irgendet\\xadwas': 3021, 'irgendwelche': 3022, 'irgendwelchen': 3023, 'it': 3024, 'italienischen': 3025, 'je': 3026, 'jede': 3027, 'jederzeit': 3028, 'jedes': 3029, 'jemand': 3030, 'jener': 3031, 'jährliches': 3032, 'kamen': 3033, 'kannten': 3034, 'katastrophal': 3035, 'katholischen': 3036, 'kaum': 3037, 'kehren': 3038, 'kehrt': 3039, 'keinster': 3040, 'kennen': 3041, 'kleine': 3042, 'kleineren': 3043, 'komme': 3044, 'kommenwird': 3045, 'kompensiert': 3046, 'komplett': 3047, 'kompletten': 3048, 'kom\\xadmen': 3049, 'konsequent': 3050, 'konsequente': 3051, 'konstant': 3052, 'kontaktlose': 3053, 'kontakt\\xadlose': 3054, 'kontraproduktiv': 3055, 'kostenlos': 3056, 'kranken': 3057, 'kreative': 3058, 'kriege': 3059, 'kriegen': 3060, 'kritische': 3061, 'kritischen': 3062, 'kritisieren': 3063, 'kritisiert': 3064, 'kurze': 3065, 'kurzfristigen': 3066, 'käme': 3067, 'kämpfen': 3068, 'könne': 3069, 'könnt': 3070, 'könn\\xadten': 3071, 'künstlichen': 3072, 'landen': 3073, 'landeten': 3074, 'langen': 3075, 'langfristig': 3076, 'langfristigen': 3077, 'lasse': 3078, 'lauer': 3079, 'laufenden': 3080, 'learning': 3081, 'leben': 3082, 'lehnt': 3083, 'leichten': 3084, 'leiden': 3085, 'leis\\xadtungsfähig': 3086, 'letztendlich': 3087, 'letzter': 3088, 'liebe': 3089, 'lieber': 3090, 'ließen': 3091, 'lockdownähnlichen': 3092, 'lockert': 3093, 'lokal': 3094, 'lustig': 3095, 'länger': 3096, 'lässt': 3097, 'lösen': 3098, 'machbar': 3099, 'mahnte': 3100, 'man\\xadche': 3101, 'man\\xadcherlei': 3102, 'maximal': 3103, 'ma\\xadchen': 3104, 'maßgeblich': 3105, 'medizinischen': 3106, 'medizinisches': 3107, 'mehrfach': 3108, 'meilenweit': 3109, 'meinem': 3110, 'meinen': 3111, 'meisten': 3112, 'meldete': 3113, 'merken': 3114, 'merkt': 3115, 'min': 3116, 'minimieren': 3117, 'minus': 3118, 'misstraut': 3119, 'miteinander': 3120, 'mitgegangen': 3121, 'mitgeteilt': 3122, 'mitgetragen': 3123, 'mitge\\xadstimmt': 3124, 'mitteilen': 3125, 'mittel-': 3126, 'mittleren': 3127, 'mittler\\xadweile': 3128, 'mitzuüberweisen': 3129, 'mi\\xadnus': 3130, 'momentanen': 3131, 'monatelang': 3132, 'möglichen': 3133, 'möglicher': 3134, 'nachdenkt': 3135, 'nachfolgende': 3136, 'nachgehen': 3137, 'nachgeliefert': 3138, 'nachstehenden': 3139, 'nachstehender': 3140, 'nachste\\xadhenden': 3141, 'nachvollziehbarer': 3142, 'nach\\xadste\\xadhen\\xadden': 3143, 'negativen': 3144, 'nehmen': 3145, 'neuer': 3146, 'neues': 3147, 'nieder': 3148, 'niedergelassener': 3149, 'niedrige': 3150, 'niemals': 3151, 'niemandem': 3152, 'not\\xadwendig': 3153, 'nunmehr': 3154, 'nächstes': 3155, 'nötig': 3156, 'nötigen': 3157, 'of': 3158, 'oftmals': 3159, 'ohnehin': 3160, 'organisiert': 3161, 'originalverpackt': 3162, 'parteipolitischen': 3163, 'passieren': 3164, 'perfide': 3165, 'permanent': 3166, 'persönlich': 3167, 'phantasiert': 3168, 'plötzlich': 3169, 'plötzliche': 3170, 'politischen': 3171, 'polizeistaatlich': 3172, 'portas': 3173, 'positiven': 3174, 'privaten': 3175, 'pro': 3176, 'projektbezogen': 3177, 'prominenten': 3178, 'prozentigen': 3179, 'pro\\xadzentigen': 3180, 'präsentiert': 3181, 'psychische': 3182, 'psychologischen': 3183, 'quaken': 3184, 'rascher': 3185, 'realistische': 3186, 'rechnet': 3187, 'rechtzeitig': 3188, 'rechtzeitigen': 3189, 'regelmäßige': 3190, 'regeln': 3191, 'regionalen': 3192, 'reguläre': 3193, 'reiben': 3194, 'reibungslos': 3195, 'reinen': 3196, 'relativ': 3197, 'rennt': 3198, 'revidiert': 3199, 'richtet': 3200, 'richtigen': 3201, 'richtigstellen': 3202, 'rigorosen': 3203, 'runtergefahren': 3204, 'rückwirkend': 3205, 'sachliche': 3206, 'sagst': 3207, 'sammeln': 3208, 'sanfte': 3209, 'sanften': 3210, 'sanfter': 3211, 'sa\\xadgen': 3212, 'scharfer': 3213, 'schau\\xaden': 3214, 'schlagartig': 3215, 'schlage': 3216, 'schlecht': 3217, 'schlechter': 3218, 'schließlich': 3219, 'schließt': 3220, 'schließ\\xadlich': 3221, 'schloss': 3222, 'schlug': 3223, 'schlägt': 3224, 'schmerzhaft': 3225, 'schnelle': 3226, 'schnellen': 3227, 'schnellstmögliche': 3228, 'schnöde': 3229, 'schrittweise': 3230, 'schrittweisen': 3231, 'schwarzen': 3232, 'schwebt': 3233, 'schwer': 3234, 'schwe\\xadre': 3235, 'schwierigsten': 3236, 'schwächere': 3237, 'schwätzen': 3238, 'schöngerechnet': 3239, 'sechswöchigen': 3240, 'sehe': 3241, 'seid': 3242, 'seien': 3243, 'seinem': 3244, 'seiner': 3245, 'seines': 3246, 'seitens': 3247, 'selben': 3248, 'selbstständige': 3249, 'selbstständigen': 3250, 'setzt': 3251, 'sichergehen': 3252, 'sicherstellt': 3253, 'signalisieren': 3254, 'signalisiert': 3255, 'signifikant': 3256, 'sinken': 3257, 'sinnbefreit': 3258, 'sinnvoll': 3259, 'sofortigen': 3260, 'sofortiger': 3261, 'soft': 3262, 'solch': 3263, 'solchen': 3264, 'solide': 3265, 'solides': 3266, 'solle': 3267, 'sollte': 3268, 'sollten': 3269, 'sonstige': 3270, 'sorgt': 3271, 'so\\xaddass': 3272, 'spezielle': 3273, 'spielen': 3274, 'springende': 3275, 'spät': 3276, 'später': 3277, 'spätestens': 3278, 'spä\\xadter': 3279, 'spüren': 3280, 'staat\\xadlichen': 3281, 'standen': 3282, 'starten': 3283, 'statt': 3284, 'stattfindet': 3285, 'stattgefunden': 3286, 'statt\\xadfindet': 3287, 'statt\\xadgefunden': 3288, 'stecken': 3289, 'steigenden': 3290, 'steigt': 3291, 'steuerliche': 3292, 'stimmen': 3293, 'stimmt': 3294, 'straucheln': 3295, 'strengeren': 3296, 'strengster': 3297, 'streut': 3298, 'stur': 3299, 'stärker': 3300, 'stärksten': 3301, 'substanziell': 3302, 'suchen': 3303, 'super': 3304, 'systematisch': 3305, 'systemrelevante': 3306, 'sämtlicher': 3307, 'tagaus': 3308, 'tagein': 3309, 'takes': 3310, 'tatsächliche': 3311, 'tatsächlichen': 3312, 'tech\\xadnisch': 3313, 'teilnimmt': 3314, 'teilweise': 3315, 'teil\\xadweise': 3316, 'telefonisch': 3317, 'tierwohlge\\xadrechtes': 3318, 'titelte': 3319, 'totale': 3320, 'traditionelle': 3321, 'traditionellen': 3322, 'trauen': 3323, 'treffe': 3324, 'tritt': 3325, 'trotz': 3326, 'tut': 3327, 'tägliche': 3328, 'tätig': 3329, 'u.a': 3330, 'umfangreich': 3331, 'umfassenden': 3332, 'umfassender': 3333, 'umformen': 3334, 'umgegangen': 3335, 'umgehen': 3336, 'umgesetzt': 3337, 'umzustellen': 3338, 'unausgegorenen': 3339, 'unbedingt': 3340, 'unbegreiflicher': 3341, 'unbemerkte': 3342, 'unbürokratisch': 3343, 'unbürokratische': 3344, 'unbüro\\xadkratisch': 3345, 'unerklärlichen': 3346, 'unge\\xadrecht': 3347, 'unglaublichen': 3348, 'unmit\\xadtelbar': 3349, 'unnötiger': 3350, 'unschuldig': 3351, 'unschuldige': 3352, 'unseren': 3353, 'unse\\xadre': 3354, 'untergehen': 3355, 'unternommen': 3356, 'untersagt': 3357, 'unterschiedliche': 3358, 'unterschiedlichste': 3359, 'unterwegs': 3360, 'unterzeichnenden': 3361, 'unter\\xadstützen': 3362, 'unverantwortlich': 3363, 'unverzüglich': 3364, 'unzulänglich': 3365, 'unzählige': 3366, 'unübersehbar': 3367, 'up': 3368, 'veraltet': 3369, 'verankert': 3370, 'verantwortlich': 3371, 'verbessert': 3372, 'verboten': 3373, 'verbreitet': 3374, 'verbunden': 3375, 'verbundenen': 3376, 'vereinfachen': 3377, 'verfassungswidrig': 3378, 'vergangen': 3379, 'verhandeln': 3380, 'verharmlost': 3381, 'verheerend': 3382, 'verhin\\xaddert': 3383, 'verhängen': 3384, 'verkaufen': 3385, 'verkündeten': 3386, 'verlas\\xadsen': 3387, 'verlegen': 3388, 'verliehen': 3389, 'verlieren': 3390, 'verlorene': 3391, 'verlängern': 3392, 'vermeintliche': 3393, 'vermisst': 3394, 'vermutlich': 3395, 'versammeln': 3396, 'verschafft': 3397, 'verschieben': 3398, 'verschlechtern': 3399, 'verschoben': 3400, 'verschärfen': 3401, 'verschärfter': 3402, 'verspätet': 3403, 'verstanden': 3404, 'verstehen': 3405, 'verstärkt': 3406, 'versäumt': 3407, 'vertrauten': 3408, 'verunsichern': 3409, 'vervierfacht': 3410, 'verwalten': 3411, 'verwechselt': 3412, 'verwirklichen': 3413, 'verzapft': 3414, 'ver\\xadordnete': 3415, 'ver\\xadsprochen': 3416, 'vieler': 3417, 'vielfach': 3418, 'viermal': 3419, 'voll': 3420, 'voller': 3421, 'vollkommen': 3422, 'vonseiten': 3423, 'vorab': 3424, 'vorankommen': 3425, 'vorbei': 3426, 'vorbereitet': 3427, 'vorgelegte': 3428, 'vorgenommen': 3429, 'vorhin': 3430, 'vorschlägt': 3431, 'vorsichtige': 3432, 'vor\\xadherrschen': 3433, 'völlig': 3434, 'völliger': 3435, 'wagen': 3436, 'wahr': 3437, 'wahrgenommen': 3438, 'wahr\\xadscheinlich': 3439, 'warnen': 3440, 'weg': 3441, 'weggeblieben': 3442, 'weggebrochen': 3443, 'wegge\\xadbrochen': 3444, 'wegnehmen': 3445, 'wehgetan': 3446, 'wehrlos': 3447, 'weiterentwickelt': 3448, 'weitergeht': 3449, 'weiters': 3450, 'weiter\\xadgelaufen': 3451, 'weitreichende': 3452, 'welcher': 3453, 'welches': 3454, 'weltweiten': 3455, 'welt\\xadweiten': 3456, 'wen': 3457, 'wenden': 3458, 'wenig': 3459, 'wenige': 3460, 'werde': 3461, 'wert': 3462, 'wesentlich': 3463, 'wesentliche': 3464, 'wesentlichen': 3465, 'wesent\\xadlichen': 3466, 'wichtigen': 3467, 'wichtigsten': 3468, 'widersprechen': 3469, 'wiederherzustellen': 3470, 'wien.orf.at': 3471, 'will': 3472, 'willkommen': 3473, 'willkürlich': 3474, 'wirkenden': 3475, 'wirksam': 3476, 'wirksame': 3477, 'wissend': 3478, 'wissenschaftliche': 3479, 'wissentlich': 3480, 'wozu': 3481, 'wunderschön': 3482, 'wussten': 3483, 'wäh\\xadrend': 3484, 'wöchentlich': 3485, 'wünschen': 3486, 'würden': 3487, 'wüssten': 3488, 'zahlenmäßig': 3489, 'zeigt': 3490, 'zeitge\\xadrecht': 3491, 'zeitgleich': 3492, 'zentral': 3493, 'zerreißen': 3494, 'zertrümmert': 3495, 'ziehen': 3496, 'ziemlich': 3497, 'zitieren': 3498, 'zittern': 3499, 'zudrehen': 3500, 'zufolge': 3501, 'zugestimmt': 3502, 'zugleich': 3503, 'zugute': 3504, 'zumutbaren': 3505, 'zunimmt': 3506, 'zunächst': 3507, 'zurecht': 3508, 'zurechtrücken': 3509, 'zurückgelehnt': 3510, 'zurückgenommen': 3511, 'zurückkehren': 3512, 'zurückrutschen': 3513, 'zurückversetzt': 3514, 'zusammen': 3515, 'zusammenbringen': 3516, 'zusammengebracht': 3517, 'zusammengekom\\xadmen': 3518, 'zuständig': 3519, 'zusätzlichen': 3520, 'zu\\xadrückgehen': 3521, 'zwei\\xadten': 3522, '\\xa0\\xa0\\xa0\\xa0 \\xa0\\xa0\\xa0\\xa0 \\xa0\\xa0 ': 3523, 'Ähnliches': 3524, 'Ärztinnen': 3525, 'ÖBB': 3526, 'Österreichern': 3527, 'Österreiche\\xadrinnen': 3528, 'Österreichischen': 3529, 'Österreichweit': 3530, 'Ös\\xadterreich': 3531, 'Überbrückungsfinanzierung': 3532, 'Überlastung': 3533, 'Überprüfung': 3534, 'Über\\xadgriffe': 3535, 'Übrigens': 3536, 'ähnlich': 3537, 'ähnliche': 3538, 'äu\\xadßerst': 3539, 'äußersten': 3540, 'öffnete': 3541, 'öfters': 3542, 'ökonomisch': 3543, 'österreichi\\xadschen': 3544, 'überall': 3545, 'überarbeiten': 3546, 'überaus': 3547, 'überbordenden': 3548, 'überholt': 3549, 'überlagert': 3550, 'übernehmen': 3551, 'übernervöse': 3552, 'überschreiten': 3553, 'überschritten': 3554, 'überstanden': 3555, 'überwiegenden': 3556, 'überzeugt': 3557, 'über\\xadlastet': 3558, 'üblich': 3559, 'übrigens': 3560, '”': 3561, '•': 3562})\n"
     ]
    }
   ],
   "source": [
    "#initialize glove embeddings\n",
    "TEXT.build_vocab(training_data,min_freq=0,vectors = \"glove.6B.100d\")\n",
    "LABEL.build_vocab(training_data)\n",
    "\n",
    "#No. of unique tokens in text\n",
    "print(\"Size of TEXT vocabulary:\",len(TEXT.vocab))\n",
    "\n",
    "#No. of unique tokens in label\n",
    "print(\"Size of LABEL vocabulary:\",len(LABEL.vocab))\n",
    "\n",
    "#Commonly used words\n",
    "print(TEXT.vocab.freqs.most_common(10))\n",
    "\n",
    "#Word dictionary\n",
    "print(TEXT.vocab.stoi)"
   ],
   "metadata": {
    "collapsed": false,
    "pycharm": {
     "name": "#%%\n"
    }
   }
  },
  {
   "cell_type": "code",
   "execution_count": 7,
   "outputs": [
    {
     "name": "stdout",
     "output_type": "stream",
     "text": [
      "100000\n"
     ]
    }
   ],
   "source": [
    "print(len(training_data))"
   ],
   "metadata": {
    "collapsed": false,
    "pycharm": {
     "name": "#%%\n"
    }
   }
  },
  {
   "cell_type": "code",
   "execution_count": 24,
   "outputs": [],
   "source": [
    "#check whether cuda is available\n",
    "device = torch.device('cuda' if torch.cuda.is_available() else 'cpu')\n",
    "\n",
    "#set batch size\n",
    "BATCH_SIZE = 16\n",
    "\n",
    "#Load an iterator\n",
    "train_iterator, valid_iterator = data.BucketIterator.splits(\n",
    "    (train_data, valid_data),\n",
    "    batch_size = BATCH_SIZE,\n",
    "    sort_key = lambda x: len(x.text),\n",
    "    sort_within_batch=True,\n",
    "    device = device)"
   ],
   "metadata": {
    "collapsed": false,
    "pycharm": {
     "name": "#%%\n"
    }
   }
  },
  {
   "cell_type": "code",
   "execution_count": 25,
   "outputs": [
    {
     "name": "stdout",
     "output_type": "stream",
     "text": [
      "0\n"
     ]
    }
   ],
   "source": [
    "i = 0\n",
    "for x in valid_iterator:\n",
    "    # for word in x.text:\n",
    "    #     if 'counterfeit' in word:\n",
    "    #         print(x.text)\n",
    "    if i % 2000 == 0:\n",
    "        print(i)\n",
    "    i += 1\n",
    "    if i > 3:\n",
    "        break"
   ],
   "metadata": {
    "collapsed": false,
    "pycharm": {
     "name": "#%%\n"
    }
   }
  },
  {
   "cell_type": "code",
   "execution_count": 26,
   "outputs": [],
   "source": [
    "import torch.nn as nn\n",
    "\n",
    "class classifier(nn.Module):\n",
    "\n",
    "    #define all the layers used in model\n",
    "    def __init__(self, vocab_size, embedding_dim, hidden_dim, output_dim, n_layers,\n",
    "                 bidirectional, dropout):\n",
    "\n",
    "        #Constructor\n",
    "        super().__init__()\n",
    "\n",
    "        #embedding layer\n",
    "        self.embedding = nn.Embedding(vocab_size, embedding_dim)\n",
    "\n",
    "        #lstm layer\n",
    "        self.lstm = nn.LSTM(embedding_dim,\n",
    "                           hidden_dim,\n",
    "                           num_layers=n_layers,\n",
    "                           bidirectional=bidirectional,\n",
    "                           dropout=dropout,\n",
    "                           batch_first=True)\n",
    "\n",
    "        #dense layer\n",
    "        self.fc = nn.Linear(hidden_dim * 2, output_dim)\n",
    "\n",
    "        #activation function\n",
    "        self.act = nn.Sigmoid()\n",
    "\n",
    "    def forward(self, text, text_lengths):\n",
    "\n",
    "        #text = [batch size,sent_length]\n",
    "        embedded = self.embedding(text)\n",
    "        #embedded = [batch size, sent_len, emb dim]\n",
    "\n",
    "        #packed sequence\n",
    "        packed_embedded = nn.utils.rnn.pack_padded_sequence(embedded, text_lengths,batch_first=True)\n",
    "\n",
    "        packed_output, (hidden, cell) = self.lstm(packed_embedded)\n",
    "        #hidden = [batch size, num layers * num directions,hid dim]\n",
    "        #cell = [batch size, num layers * num directions,hid dim]\n",
    "\n",
    "        #concat the final forward and backward hidden state\n",
    "        hidden = torch.cat((hidden[-2,:,:], hidden[-1,:,:]), dim = 1)\n",
    "\n",
    "        #hidden = [batch size, hid dim * num directions]\n",
    "        dense_outputs=self.fc(hidden)\n",
    "\n",
    "        #Final activation function\n",
    "        outputs=self.act(dense_outputs)\n",
    "\n",
    "        return outputs"
   ],
   "metadata": {
    "collapsed": false,
    "pycharm": {
     "name": "#%%\n"
    }
   }
  },
  {
   "cell_type": "code",
   "execution_count": 27,
   "outputs": [],
   "source": [
    "#define hyperparameters\n",
    "size_of_vocab = len(TEXT.vocab)\n",
    "embedding_dim = 100\n",
    "num_hidden_nodes = 32\n",
    "num_output_nodes = 1\n",
    "num_layers = 2\n",
    "bidirection = True\n",
    "dropout = 0.2\n",
    "\n",
    "#instantiate the model\n",
    "model = classifier(size_of_vocab, embedding_dim, num_hidden_nodes,num_output_nodes, num_layers,\n",
    "                   bidirectional = True, dropout = dropout)"
   ],
   "metadata": {
    "collapsed": false,
    "pycharm": {
     "name": "#%%\n"
    }
   }
  },
  {
   "cell_type": "code",
   "execution_count": 28,
   "outputs": [
    {
     "name": "stdout",
     "output_type": "stream",
     "text": [
      "classifier(\n",
      "  (embedding): Embedding(3563, 100)\n",
      "  (lstm): LSTM(100, 32, num_layers=2, batch_first=True, dropout=0.2, bidirectional=True)\n",
      "  (fc): Linear(in_features=64, out_features=1, bias=True)\n",
      "  (act): Sigmoid()\n",
      ")\n",
      "The model has 415,757 trainable parameters\n",
      "torch.Size([3563, 100])\n"
     ]
    }
   ],
   "source": [
    "#architecture\n",
    "print(model)\n",
    "\n",
    "#No. of trianable parameters\n",
    "def count_parameters(model):\n",
    "    return sum(p.numel() for p in model.parameters() if p.requires_grad)\n",
    "\n",
    "print(f'The model has {count_parameters(model):,} trainable parameters')\n",
    "\n",
    "#Initialize the pretrained embedding\n",
    "pretrained_embeddings = TEXT.vocab.vectors\n",
    "model.embedding.weight.data.copy_(pretrained_embeddings)\n",
    "\n",
    "print(pretrained_embeddings.shape)"
   ],
   "metadata": {
    "collapsed": false,
    "pycharm": {
     "name": "#%%\n"
    }
   }
  },
  {
   "cell_type": "code",
   "execution_count": 29,
   "outputs": [],
   "source": [
    "import torch.optim as optim\n",
    "\n",
    "#define optimizer and loss\n",
    "optimizer = optim.Adam(model.parameters())\n",
    "criterion = nn.BCELoss()\n",
    "\n",
    "#define metric\n",
    "def binary_accuracy(preds, y):\n",
    "    #round predictions to the closest integer\n",
    "    rounded_preds = torch.round(preds)\n",
    "\n",
    "    correct = (rounded_preds == y).float()\n",
    "    acc = correct.sum() / len(correct)\n",
    "    return acc\n",
    "\n",
    "#push to cuda if available\n",
    "model = model.to(device)\n",
    "criterion = criterion.to(device)"
   ],
   "metadata": {
    "collapsed": false,
    "pycharm": {
     "name": "#%%\n"
    }
   }
  },
  {
   "cell_type": "code",
   "execution_count": 30,
   "outputs": [],
   "source": [
    "def train(model, iterator, optimizer, criterion):\n",
    "\n",
    "    #initialize every epoch\n",
    "    epoch_loss = 0\n",
    "    epoch_acc = 0\n",
    "\n",
    "    #set the model in training phase\n",
    "    model.train()\n",
    "\n",
    "    for batch in iterator:\n",
    "\n",
    "        #resets the gradients after every batch\n",
    "        optimizer.zero_grad()\n",
    "\n",
    "        #retrieve text and no. of words\n",
    "        text, text_lengths = batch.text\n",
    "\n",
    "        #convert to 1D tensor\n",
    "        predictions = model(text, text_lengths).squeeze()\n",
    "\n",
    "        #compute the loss\n",
    "        loss = criterion(predictions, batch.label)\n",
    "\n",
    "        #compute the binary accuracy\n",
    "        acc = binary_accuracy(predictions, batch.label)\n",
    "\n",
    "        #backpropage the loss and compute the gradients\n",
    "        loss.backward()\n",
    "\n",
    "        #update the weights\n",
    "        optimizer.step()\n",
    "\n",
    "        #loss and accuracy\n",
    "        epoch_loss += loss.item()\n",
    "        epoch_acc += acc.item()\n",
    "\n",
    "    return epoch_loss / len(iterator), epoch_acc / len(iterator)"
   ],
   "metadata": {
    "collapsed": false,
    "pycharm": {
     "name": "#%%\n"
    }
   }
  },
  {
   "cell_type": "code",
   "execution_count": 31,
   "outputs": [],
   "source": [
    "def evaluate(model, iterator, criterion):\n",
    "\n",
    "    #initialize every epoch\n",
    "    epoch_loss = 0\n",
    "    epoch_acc = 0\n",
    "\n",
    "    #deactivating dropout layers\n",
    "    model.eval()\n",
    "\n",
    "    #deactivates autograd\n",
    "    with torch.no_grad():\n",
    "\n",
    "        for batch in iterator:\n",
    "\n",
    "            #retrieve text and no. of words\n",
    "            text, text_lengths = batch.text\n",
    "\n",
    "            #convert to 1d tensor\n",
    "            predictions = model(text, text_lengths).squeeze()\n",
    "\n",
    "            #compute loss and accuracy\n",
    "            loss = criterion(predictions, batch.label)\n",
    "            acc = binary_accuracy(predictions, batch.label)\n",
    "\n",
    "            #keep track of loss and accuracy\n",
    "            epoch_loss += loss.item()\n",
    "            epoch_acc += acc.item()\n",
    "\n",
    "    return epoch_loss / len(iterator), epoch_acc / len(iterator)"
   ],
   "metadata": {
    "collapsed": false,
    "pycharm": {
     "name": "#%%\n"
    }
   }
  },
  {
   "cell_type": "code",
   "execution_count": 37,
   "outputs": [
    {
     "name": "stdout",
     "output_type": "stream",
     "text": [
      "\tTrain Loss: -33.560 | Train Acc: 66.44%\n",
      "\t Val. Loss: 35.438 |  Val. Acc: 36.86%\n",
      "\tTrain Loss: -33.560 | Train Acc: 66.44%\n",
      "\t Val. Loss: 35.437 |  Val. Acc: 36.86%\n",
      "\tTrain Loss: -33.560 | Train Acc: 66.44%\n",
      "\t Val. Loss: 35.445 |  Val. Acc: 36.86%\n",
      "\tTrain Loss: -33.560 | Train Acc: 66.44%\n",
      "\t Val. Loss: 35.441 |  Val. Acc: 36.86%\n",
      "\tTrain Loss: -33.560 | Train Acc: 66.44%\n",
      "\t Val. Loss: 35.450 |  Val. Acc: 36.86%\n",
      "\tTrain Loss: -33.560 | Train Acc: 66.44%\n",
      "\t Val. Loss: 35.825 |  Val. Acc: 36.86%\n",
      "\tTrain Loss: -33.560 | Train Acc: 66.44%\n",
      "\t Val. Loss: 36.202 |  Val. Acc: 36.86%\n",
      "\tTrain Loss: -33.560 | Train Acc: 66.44%\n",
      "\t Val. Loss: 35.833 |  Val. Acc: 36.86%\n",
      "\tTrain Loss: -33.560 | Train Acc: 66.44%\n",
      "\t Val. Loss: 36.209 |  Val. Acc: 36.86%\n",
      "\tTrain Loss: -33.560 | Train Acc: 66.44%\n",
      "\t Val. Loss: 36.204 |  Val. Acc: 36.86%\n",
      "\tTrain Loss: -33.560 | Train Acc: 66.44%\n",
      "\t Val. Loss: 36.593 |  Val. Acc: 36.86%\n",
      "\tTrain Loss: -33.560 | Train Acc: 66.44%\n",
      "\t Val. Loss: 36.596 |  Val. Acc: 36.86%\n",
      "\tTrain Loss: -33.560 | Train Acc: 66.44%\n",
      "\t Val. Loss: 36.594 |  Val. Acc: 36.86%\n",
      "\tTrain Loss: -33.560 | Train Acc: 66.44%\n",
      "\t Val. Loss: 36.217 |  Val. Acc: 36.86%\n",
      "\tTrain Loss: -33.560 | Train Acc: 66.44%\n",
      "\t Val. Loss: 36.213 |  Val. Acc: 36.86%\n",
      "\tTrain Loss: -33.560 | Train Acc: 66.44%\n",
      "\t Val. Loss: 36.212 |  Val. Acc: 36.86%\n",
      "\tTrain Loss: -33.560 | Train Acc: 66.44%\n",
      "\t Val. Loss: 36.585 |  Val. Acc: 36.86%\n",
      "\tTrain Loss: -33.560 | Train Acc: 66.44%\n",
      "\t Val. Loss: 36.584 |  Val. Acc: 36.86%\n",
      "\tTrain Loss: -33.560 | Train Acc: 66.44%\n",
      "\t Val. Loss: 36.586 |  Val. Acc: 36.86%\n",
      "\tTrain Loss: -33.560 | Train Acc: 66.44%\n",
      "\t Val. Loss: 36.590 |  Val. Acc: 37.31%\n"
     ]
    }
   ],
   "source": [
    "N_EPOCHS = 10\n",
    "best_valid_loss = float('inf')\n",
    "\n",
    "for epoch in range(N_EPOCHS):\n",
    "\n",
    "    #train the model\n",
    "    train_loss, train_acc = train(model, train_iterator, optimizer, criterion)\n",
    "\n",
    "    #evaluate the model\n",
    "    valid_loss, valid_acc = evaluate(model, valid_iterator, criterion)\n",
    "\n",
    "    #save the best model\n",
    "    if valid_loss < best_valid_loss:\n",
    "        best_valid_loss = valid_loss\n",
    "        torch.save(model.state_dict(), 'saved_weights.pt')\n",
    "\n",
    "    print(f'\\tTrain Loss: {train_loss:.3f} | Train Acc: {train_acc*100:.2f}%')\n",
    "    print(f'\\t Val. Loss: {valid_loss:.3f} |  Val. Acc: {valid_acc*100:.2f}%')"
   ],
   "metadata": {
    "collapsed": false,
    "pycharm": {
     "name": "#%%\n"
    }
   }
  },
  {
   "cell_type": "code",
   "execution_count": 25,
   "outputs": [],
   "source": [
    "torch.save(model.state_dict(), 'saved_weights/deep_classifier_03.pt')"
   ],
   "metadata": {
    "collapsed": false,
    "pycharm": {
     "name": "#%%\n"
    }
   }
  },
  {
   "cell_type": "code",
   "execution_count": 21,
   "outputs": [],
   "source": [
    "\n",
    "#load weights\n",
    "path='saved_weights/deep_classifier_03.pt'\n",
    "model.load_state_dict(torch.load(path));\n",
    "model.eval();\n",
    "\n",
    "#inference\n",
    "import spacy\n",
    "nlp = spacy.load('en_core_web_sm')\n",
    "\n",
    "def predict(model, sentence):\n",
    "    tokenized = [tok.text for tok in nlp.tokenizer(sentence)]  #tokenize the sentence\n",
    "    indexed = [TEXT.vocab.stoi[t] for t in tokenized]          #convert to integer sequence\n",
    "    length = [len(indexed)]                                    #compute no. of words\n",
    "    tensor = torch.LongTensor(indexed).to(device)              #convert to tensor\n",
    "    tensor = tensor.unsqueeze(1).T                             #reshape in form of batch,no. of words\n",
    "    length_tensor = torch.LongTensor(length)                   #convert to tensor\n",
    "    prediction = model(tensor, length_tensor)                  #prediction\n",
    "    return prediction.item()"
   ],
   "metadata": {
    "collapsed": false,
    "pycharm": {
     "name": "#%%\n"
    }
   }
  },
  {
   "cell_type": "code",
   "execution_count": 21,
   "outputs": [
    {
     "name": "stdout",
     "output_type": "stream",
     "text": [
      "0.803727924823761\n",
      "0.9885077476501465\n"
     ]
    }
   ],
   "source": [
    "#make predictions\n",
    "print(predict(model, \"Is there discrimination against black men in the US?\"))\n",
    "\n",
    "#insincere question\n",
    "print(predict(model, \"Why do black men think they should be treated well?\"))"
   ],
   "metadata": {
    "collapsed": false,
    "pycharm": {
     "name": "#%%\n"
    }
   }
  }
 ],
 "metadata": {
  "kernelspec": {
   "display_name": "Python 3",
   "language": "python",
   "name": "python3"
  },
  "language_info": {
   "codemirror_mode": {
    "name": "ipython",
    "version": 2
   },
   "file_extension": ".py",
   "mimetype": "text/x-python",
   "name": "python",
   "nbconvert_exporter": "python",
   "pygments_lexer": "ipython2",
   "version": "2.7.6"
  }
 },
 "nbformat": 4,
 "nbformat_minor": 0
}