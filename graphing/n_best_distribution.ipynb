{
 "cells": [
  {
   "cell_type": "code",
   "execution_count": 7,
   "metadata": {
    "collapsed": true
   },
   "outputs": [],
   "source": [
    "import pandas as pd\n",
    "import matplotlib.pyplot as plt\n",
    "import numpy as np"
   ]
  },
  {
   "cell_type": "code",
   "execution_count": 3,
   "outputs": [],
   "source": [
    "N_BEST = [1, 3, 7, 13, 20]\n",
    "WEIGHTS = [True, False]"
   ],
   "metadata": {
    "collapsed": false,
    "pycharm": {
     "name": "#%%\n"
    }
   }
  },
  {
   "cell_type": "code",
   "execution_count": 9,
   "outputs": [],
   "source": [
    "accuracies_weighted = []\n",
    "f1scores_weighted = []\n",
    "accuracies = []\n",
    "f1scores = []\n",
    "\n",
    "for n_best in N_BEST:\n",
    "    for b_weight in WEIGHTS:\n",
    "        if n_best == 1 and b_weight:\n",
    "            continue\n",
    "\n",
    "        file = f'../results/measures_bm25_01_0.15_ShuffTrue_StratTrue_Weigh{b_weight}_NoStopTrue_StemFalse_LowFalse_NoPunTrue_Nbest{n_best}.csv'\n",
    "        metrics = pd.read_csv(file, sep='\\t')\n",
    "        acc = metrics['accuracy'].mean()\n",
    "        f1 = metrics['macro avg.f1-score'].mean()\n",
    "\n",
    "        if b_weight:\n",
    "            accuracies_weighted.append(acc)\n",
    "            f1scores_weighted.append(f1)\n",
    "        else:\n",
    "            accuracies .append(acc)\n",
    "            f1scores.append(f1)\n",
    "\n",
    "accuracies_weighted = [accuracies[0]] + accuracies_weighted\n",
    "f1scores_weighted = [f1scores[0]] + f1scores_weighted"
   ],
   "metadata": {
    "collapsed": false,
    "pycharm": {
     "name": "#%%\n"
    }
   }
  },
  {
   "cell_type": "code",
   "execution_count": 25,
   "outputs": [
    {
     "data": {
      "text/plain": "<Figure size 432x288 with 1 Axes>",
      "image/png": "[encoded data removed]"
     },
     "metadata": {
      "needs_background": "light"
     },
     "output_type": "display_data"
    }
   ],
   "source": [
    "labels = N_BEST\n",
    "\n",
    "x = np.arange(len(labels))  # the label locations\n",
    "width = 0.175  # the width of the bars\n",
    "\n",
    "fig, ax = plt.subplots()\n",
    "rects1 = ax.bar(x - 3*width/2, accuracies, width, label='Accuracies no weights')\n",
    "rects2 = ax.bar(x - width/2, accuracies_weighted, width, label='Accuracies w weights')\n",
    "rects3 = ax.bar(x + width/2, f1scores, width, label='F1-scores no weights')\n",
    "rects4 = ax.bar(x + 3*width/2, f1scores_weighted, width, label='F1-scores w weights')\n",
    "\n",
    "# Add some text for labels, title and custom x-axis tick labels, etc.\n",
    "ax.set_ylabel('Performance')\n",
    "ax.set_title('Performance per n_best configuration')\n",
    "ax.set_xticks(x)\n",
    "ax.set_xticklabels(labels)\n",
    "ax.legend(loc=\"lower right\")\n",
    "\n",
    "#ax.bar_label(rects1, padding=3)\n",
    "#ax.bar_label(rects2, padding=3)\n",
    "\n",
    "fig.tight_layout()\n",
    "plt.savefig('../results/measures_bm25_n_best_comparison.png')\n",
    "plt.show()\n",
    "\n",
    "\n"
   ],
   "metadata": {
    "collapsed": false,
    "pycharm": {
     "name": "#%%\n"
    }
   }
  }
 ],
 "metadata": {
  "kernelspec": {
   "display_name": "Python 3",
   "language": "python",
   "name": "python3"
  },
  "language_info": {
   "codemirror_mode": {
    "name": "ipython",
    "version": 2
   },
   "file_extension": ".py",
   "mimetype": "text/x-python",
   "name": "python",
   "nbconvert_exporter": "python",
   "pygments_lexer": "ipython2",
   "version": "2.7.6"
  }
 },
 "nbformat": 4,
 "nbformat_minor": 0
}