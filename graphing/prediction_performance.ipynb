{
 "cells": [
  {
   "cell_type": "code",
   "execution_count": 15,
   "metadata": {
    "collapsed": true
   },
   "outputs": [],
   "source": [
    "import pandas as pd\n",
    "from sklearn import metrics"
   ]
  },
  {
   "cell_type": "code",
   "execution_count": 16,
   "outputs": [],
   "source": [
    "predictions = pd.DataFrame()\n",
    "\n",
    "for i in range(10):\n",
    "    predictions_part = pd.read_csv(f'../results/bert_predictions_{i}.csv', sep='\\t')\n",
    "    predictions = predictions.append(predictions_part)"
   ],
   "metadata": {
    "collapsed": false,
    "pycharm": {
     "name": "#%%\n"
    }
   }
  },
  {
   "cell_type": "code",
   "execution_count": 17,
   "outputs": [
    {
     "data": {
      "text/plain": "{'0': {'precision': 0.6326530612244898,\n  'recall': 0.6671790930053805,\n  'f1-score': 0.6494575383464273,\n  'support': 1301},\n '1': {'precision': 0.5227272727272727,\n  'recall': 0.624031007751938,\n  'f1-score': 0.5689045936395759,\n  'support': 1032},\n '2': {'precision': 0.8265387689848122,\n  'recall': 0.7457627118644068,\n  'f1-score': 0.7840758293838862,\n  'support': 2773},\n 'accuracy': 0.7011359185272229,\n 'macro avg': {'precision': 0.6606397009788583,\n  'recall': 0.678990937540575,\n  'f1-score': 0.6674793204566298,\n  'support': 5106},\n 'weighted avg': {'precision': 0.7157321160404407,\n  'recall': 0.7011359185272229,\n  'f1-score': 0.706285952390572,\n  'support': 5106}}"
     },
     "execution_count": 17,
     "metadata": {},
     "output_type": "execute_result"
    }
   ],
   "source": [
    "metrics.classification_report(predictions['label'], predictions['prediction'], output_dict=True)"
   ],
   "metadata": {
    "collapsed": false,
    "pycharm": {
     "name": "#%%\n"
    }
   }
  },
  {
   "cell_type": "code",
   "execution_count": null,
   "outputs": [],
   "source": [],
   "metadata": {
    "collapsed": false,
    "pycharm": {
     "name": "#%%\n"
    }
   }
  }
 ],
 "metadata": {
  "kernelspec": {
   "display_name": "Python 3",
   "language": "python",
   "name": "python3"
  },
  "language_info": {
   "codemirror_mode": {
    "name": "ipython",
    "version": 2
   },
   "file_extension": ".py",
   "mimetype": "text/x-python",
   "name": "python",
   "nbconvert_exporter": "python",
   "pygments_lexer": "ipython2",
   "version": "2.7.6"
  }
 },
 "nbformat": 4,
 "nbformat_minor": 0
}