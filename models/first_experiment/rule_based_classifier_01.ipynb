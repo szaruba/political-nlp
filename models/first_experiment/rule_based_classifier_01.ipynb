{
 "cells": [
  {
   "cell_type": "code",
   "execution_count": 2,
   "outputs": [],
   "source": [
    "from spacy import displacy\n",
    "import spacy\n",
    "import re\n",
    "from spacy.matcher import Matcher"
   ],
   "metadata": {
    "collapsed": false,
    "pycharm": {
     "name": "#%%\n"
    }
   }
  },
  {
   "cell_type": "code",
   "execution_count": 2,
   "metadata": {
    "collapsed": true
   },
   "outputs": [
    {
     "name": "stdout",
     "output_type": "stream",
     "text": [
      "Diese Diese sb sind\n",
      "IHS IHS nk laut\n",
      "Frühjahr Frühjahr nk im\n",
      "diesen Lockdown Lockdown nk ohne\n",
      "die Schäden Schäden sb wären\n",
      "Diese sb sind AUX []\n",
      "sind ROOT sind AUX [Diese, laut, aber, geringer, ,, und, .]\n",
      "laut mo sind AUX [IHS]\n",
      "IHS nk laut ADP []\n",
      "aber mo sind AUX []\n",
      "geringer pd sind AUX [im]\n",
      "als cm im ADP []\n",
      "im cc geringer ADV [als, Frühjahr]\n",
      "Frühjahr nk im ADP []\n",
      ", punct sind AUX []\n",
      "und cd sind AUX [wären]\n",
      "ohne mo wären AUX [Lockdown]\n",
      "diesen nk Lockdown NOUN []\n",
      "Lockdown nk ohne ADP [diesen]\n",
      "wären cj und CCONJ [ohne, Schäden, vermutlich, größer]\n",
      "die nk Schäden NOUN []\n",
      "Schäden sb wären AUX [die]\n",
      "vermutlich mo wären AUX []\n",
      "noch mo größer ADV []\n",
      "größer pd wären AUX [noch]\n",
      ". punct sind AUX []\n"
     ]
    }
   ],
   "source": [
    "\n",
    "\n",
    "nlp = spacy.load(\"de_dep_news_trf\")\n",
    "doc = nlp(\"Diese sind laut IHS aber geringer als im Frühjahr, und ohne diesen Lockdown wären die Schäden vermutlich noch größer.\")\n",
    "for chunk in doc.noun_chunks:\n",
    "    print(chunk.text, chunk.root.text, chunk.root.dep_,\n",
    "            chunk.root.head.text)\n",
    "\n",
    "for token in doc:\n",
    "    print(token.text, token.dep_, token.head.text, token.head.pos_,\n",
    "            [child for child in token.children])"
   ]
  },
  {
   "cell_type": "code",
   "execution_count": 3,
   "outputs": [
    {
     "name": "stderr",
     "output_type": "stream",
     "text": [
      "/home/stefan/.virtualenvs/diplom-code-env/lib/python3.8/site-packages/spacy/displacy/__init__.py:97: UserWarning: [W011] It looks like you're calling displacy.serve from within a Jupyter notebook or a similar environment. This likely means you're already running a local web server, so there's no need to make displaCy start another one. Instead, you should be able to replace displacy.serve with displacy.render to show the visualization.\n",
      "  warnings.warn(Warnings.W011)\n"
     ]
    },
    {
     "data": {
      "text/plain": "<IPython.core.display.HTML object>",
      "text/html": "<span class=\"tex2jax_ignore\"><!DOCTYPE html>\n<html lang=\"de\">\n    <head>\n        <title>displaCy</title>\n    </head>\n\n    <body style=\"font-size: 16px; font-family: -apple-system, BlinkMacSystemFont, 'Segoe UI', Helvetica, Arial, sans-serif, 'Apple Color Emoji', 'Segoe UI Emoji', 'Segoe UI Symbol'; padding: 4rem 2rem; direction: ltr\">\n<figure style=\"margin-bottom: 6rem\">\n<svg xmlns=\"http://www.w3.org/2000/svg\" xmlns:xlink=\"http://www.w3.org/1999/xlink\" xml:lang=\"de\" id=\"7b96e28fa2da479b82b60bd1c3237494-0\" class=\"displacy\" width=\"3375\" height=\"662.0\" direction=\"ltr\" style=\"max-width: none; height: 662.0px; color: #000000; background: #ffffff; font-family: Arial; direction: ltr\">\n<text class=\"displacy-token\" fill=\"currentColor\" text-anchor=\"middle\" y=\"572.0\">\n    <tspan class=\"displacy-word\" fill=\"currentColor\" x=\"50\">Diese</tspan>\n    <tspan class=\"displacy-tag\" dy=\"2em\" fill=\"currentColor\" x=\"50\">PRON</tspan>\n</text>\n\n<text class=\"displacy-token\" fill=\"currentColor\" text-anchor=\"middle\" y=\"572.0\">\n    <tspan class=\"displacy-word\" fill=\"currentColor\" x=\"225\">sind</tspan>\n    <tspan class=\"displacy-tag\" dy=\"2em\" fill=\"currentColor\" x=\"225\">AUX</tspan>\n</text>\n\n<text class=\"displacy-token\" fill=\"currentColor\" text-anchor=\"middle\" y=\"572.0\">\n    <tspan class=\"displacy-word\" fill=\"currentColor\" x=\"400\">laut</tspan>\n    <tspan class=\"displacy-tag\" dy=\"2em\" fill=\"currentColor\" x=\"400\">ADP</tspan>\n</text>\n\n<text class=\"displacy-token\" fill=\"currentColor\" text-anchor=\"middle\" y=\"572.0\">\n    <tspan class=\"displacy-word\" fill=\"currentColor\" x=\"575\">IHS</tspan>\n    <tspan class=\"displacy-tag\" dy=\"2em\" fill=\"currentColor\" x=\"575\">PROPN</tspan>\n</text>\n\n<text class=\"displacy-token\" fill=\"currentColor\" text-anchor=\"middle\" y=\"572.0\">\n    <tspan class=\"displacy-word\" fill=\"currentColor\" x=\"750\">aber</tspan>\n    <tspan class=\"displacy-tag\" dy=\"2em\" fill=\"currentColor\" x=\"750\">ADV</tspan>\n</text>\n\n<text class=\"displacy-token\" fill=\"currentColor\" text-anchor=\"middle\" y=\"572.0\">\n    <tspan class=\"displacy-word\" fill=\"currentColor\" x=\"925\">geringer</tspan>\n    <tspan class=\"displacy-tag\" dy=\"2em\" fill=\"currentColor\" x=\"925\">ADV</tspan>\n</text>\n\n<text class=\"displacy-token\" fill=\"currentColor\" text-anchor=\"middle\" y=\"572.0\">\n    <tspan class=\"displacy-word\" fill=\"currentColor\" x=\"1100\">als</tspan>\n    <tspan class=\"displacy-tag\" dy=\"2em\" fill=\"currentColor\" x=\"1100\">ADP</tspan>\n</text>\n\n<text class=\"displacy-token\" fill=\"currentColor\" text-anchor=\"middle\" y=\"572.0\">\n    <tspan class=\"displacy-word\" fill=\"currentColor\" x=\"1275\">im</tspan>\n    <tspan class=\"displacy-tag\" dy=\"2em\" fill=\"currentColor\" x=\"1275\">ADP</tspan>\n</text>\n\n<text class=\"displacy-token\" fill=\"currentColor\" text-anchor=\"middle\" y=\"572.0\">\n    <tspan class=\"displacy-word\" fill=\"currentColor\" x=\"1450\">Frühjahr,</tspan>\n    <tspan class=\"displacy-tag\" dy=\"2em\" fill=\"currentColor\" x=\"1450\">NOUN</tspan>\n</text>\n\n<text class=\"displacy-token\" fill=\"currentColor\" text-anchor=\"middle\" y=\"572.0\">\n    <tspan class=\"displacy-word\" fill=\"currentColor\" x=\"1625\">und</tspan>\n    <tspan class=\"displacy-tag\" dy=\"2em\" fill=\"currentColor\" x=\"1625\">CCONJ</tspan>\n</text>\n\n<text class=\"displacy-token\" fill=\"currentColor\" text-anchor=\"middle\" y=\"572.0\">\n    <tspan class=\"displacy-word\" fill=\"currentColor\" x=\"1800\">ohne</tspan>\n    <tspan class=\"displacy-tag\" dy=\"2em\" fill=\"currentColor\" x=\"1800\">ADP</tspan>\n</text>\n\n<text class=\"displacy-token\" fill=\"currentColor\" text-anchor=\"middle\" y=\"572.0\">\n    <tspan class=\"displacy-word\" fill=\"currentColor\" x=\"1975\">diesen</tspan>\n    <tspan class=\"displacy-tag\" dy=\"2em\" fill=\"currentColor\" x=\"1975\">DET</tspan>\n</text>\n\n<text class=\"displacy-token\" fill=\"currentColor\" text-anchor=\"middle\" y=\"572.0\">\n    <tspan class=\"displacy-word\" fill=\"currentColor\" x=\"2150\">Lockdown</tspan>\n    <tspan class=\"displacy-tag\" dy=\"2em\" fill=\"currentColor\" x=\"2150\">NOUN</tspan>\n</text>\n\n<text class=\"displacy-token\" fill=\"currentColor\" text-anchor=\"middle\" y=\"572.0\">\n    <tspan class=\"displacy-word\" fill=\"currentColor\" x=\"2325\">wären</tspan>\n    <tspan class=\"displacy-tag\" dy=\"2em\" fill=\"currentColor\" x=\"2325\">AUX</tspan>\n</text>\n\n<text class=\"displacy-token\" fill=\"currentColor\" text-anchor=\"middle\" y=\"572.0\">\n    <tspan class=\"displacy-word\" fill=\"currentColor\" x=\"2500\">die</tspan>\n    <tspan class=\"displacy-tag\" dy=\"2em\" fill=\"currentColor\" x=\"2500\">DET</tspan>\n</text>\n\n<text class=\"displacy-token\" fill=\"currentColor\" text-anchor=\"middle\" y=\"572.0\">\n    <tspan class=\"displacy-word\" fill=\"currentColor\" x=\"2675\">Schäden</tspan>\n    <tspan class=\"displacy-tag\" dy=\"2em\" fill=\"currentColor\" x=\"2675\">NOUN</tspan>\n</text>\n\n<text class=\"displacy-token\" fill=\"currentColor\" text-anchor=\"middle\" y=\"572.0\">\n    <tspan class=\"displacy-word\" fill=\"currentColor\" x=\"2850\">vermutlich</tspan>\n    <tspan class=\"displacy-tag\" dy=\"2em\" fill=\"currentColor\" x=\"2850\">ADV</tspan>\n</text>\n\n<text class=\"displacy-token\" fill=\"currentColor\" text-anchor=\"middle\" y=\"572.0\">\n    <tspan class=\"displacy-word\" fill=\"currentColor\" x=\"3025\">noch</tspan>\n    <tspan class=\"displacy-tag\" dy=\"2em\" fill=\"currentColor\" x=\"3025\">ADV</tspan>\n</text>\n\n<text class=\"displacy-token\" fill=\"currentColor\" text-anchor=\"middle\" y=\"572.0\">\n    <tspan class=\"displacy-word\" fill=\"currentColor\" x=\"3200\">größer.</tspan>\n    <tspan class=\"displacy-tag\" dy=\"2em\" fill=\"currentColor\" x=\"3200\">ADV</tspan>\n</text>\n\n<g class=\"displacy-arrow\">\n    <path class=\"displacy-arc\" id=\"arrow-7b96e28fa2da479b82b60bd1c3237494-0-0\" stroke-width=\"2px\" d=\"M70,527.0 C70,439.5 200.0,439.5 200.0,527.0\" fill=\"none\" stroke=\"currentColor\"/>\n    <text dy=\"1.25em\" style=\"font-size: 0.8em; letter-spacing: 1px\">\n        <textPath xlink:href=\"#arrow-7b96e28fa2da479b82b60bd1c3237494-0-0\" class=\"displacy-label\" startOffset=\"50%\" side=\"left\" fill=\"currentColor\" text-anchor=\"middle\">sb</textPath>\n    </text>\n    <path class=\"displacy-arrowhead\" d=\"M70,529.0 L62,517.0 78,517.0\" fill=\"currentColor\"/>\n</g>\n\n<g class=\"displacy-arrow\">\n    <path class=\"displacy-arc\" id=\"arrow-7b96e28fa2da479b82b60bd1c3237494-0-1\" stroke-width=\"2px\" d=\"M245,527.0 C245,439.5 375.0,439.5 375.0,527.0\" fill=\"none\" stroke=\"currentColor\"/>\n    <text dy=\"1.25em\" style=\"font-size: 0.8em; letter-spacing: 1px\">\n        <textPath xlink:href=\"#arrow-7b96e28fa2da479b82b60bd1c3237494-0-1\" class=\"displacy-label\" startOffset=\"50%\" side=\"left\" fill=\"currentColor\" text-anchor=\"middle\">mo</textPath>\n    </text>\n    <path class=\"displacy-arrowhead\" d=\"M375.0,529.0 L383.0,517.0 367.0,517.0\" fill=\"currentColor\"/>\n</g>\n\n<g class=\"displacy-arrow\">\n    <path class=\"displacy-arc\" id=\"arrow-7b96e28fa2da479b82b60bd1c3237494-0-2\" stroke-width=\"2px\" d=\"M420,527.0 C420,439.5 550.0,439.5 550.0,527.0\" fill=\"none\" stroke=\"currentColor\"/>\n    <text dy=\"1.25em\" style=\"font-size: 0.8em; letter-spacing: 1px\">\n        <textPath xlink:href=\"#arrow-7b96e28fa2da479b82b60bd1c3237494-0-2\" class=\"displacy-label\" startOffset=\"50%\" side=\"left\" fill=\"currentColor\" text-anchor=\"middle\">nk</textPath>\n    </text>\n    <path class=\"displacy-arrowhead\" d=\"M550.0,529.0 L558.0,517.0 542.0,517.0\" fill=\"currentColor\"/>\n</g>\n\n<g class=\"displacy-arrow\">\n    <path class=\"displacy-arc\" id=\"arrow-7b96e28fa2da479b82b60bd1c3237494-0-3\" stroke-width=\"2px\" d=\"M245,527.0 C245,264.5 735.0,264.5 735.0,527.0\" fill=\"none\" stroke=\"currentColor\"/>\n    <text dy=\"1.25em\" style=\"font-size: 0.8em; letter-spacing: 1px\">\n        <textPath xlink:href=\"#arrow-7b96e28fa2da479b82b60bd1c3237494-0-3\" class=\"displacy-label\" startOffset=\"50%\" side=\"left\" fill=\"currentColor\" text-anchor=\"middle\">mo</textPath>\n    </text>\n    <path class=\"displacy-arrowhead\" d=\"M735.0,529.0 L743.0,517.0 727.0,517.0\" fill=\"currentColor\"/>\n</g>\n\n<g class=\"displacy-arrow\">\n    <path class=\"displacy-arc\" id=\"arrow-7b96e28fa2da479b82b60bd1c3237494-0-4\" stroke-width=\"2px\" d=\"M245,527.0 C245,177.0 915.0,177.0 915.0,527.0\" fill=\"none\" stroke=\"currentColor\"/>\n    <text dy=\"1.25em\" style=\"font-size: 0.8em; letter-spacing: 1px\">\n        <textPath xlink:href=\"#arrow-7b96e28fa2da479b82b60bd1c3237494-0-4\" class=\"displacy-label\" startOffset=\"50%\" side=\"left\" fill=\"currentColor\" text-anchor=\"middle\">pd</textPath>\n    </text>\n    <path class=\"displacy-arrowhead\" d=\"M915.0,529.0 L923.0,517.0 907.0,517.0\" fill=\"currentColor\"/>\n</g>\n\n<g class=\"displacy-arrow\">\n    <path class=\"displacy-arc\" id=\"arrow-7b96e28fa2da479b82b60bd1c3237494-0-5\" stroke-width=\"2px\" d=\"M1120,527.0 C1120,439.5 1250.0,439.5 1250.0,527.0\" fill=\"none\" stroke=\"currentColor\"/>\n    <text dy=\"1.25em\" style=\"font-size: 0.8em; letter-spacing: 1px\">\n        <textPath xlink:href=\"#arrow-7b96e28fa2da479b82b60bd1c3237494-0-5\" class=\"displacy-label\" startOffset=\"50%\" side=\"left\" fill=\"currentColor\" text-anchor=\"middle\">cm</textPath>\n    </text>\n    <path class=\"displacy-arrowhead\" d=\"M1120,529.0 L1112,517.0 1128,517.0\" fill=\"currentColor\"/>\n</g>\n\n<g class=\"displacy-arrow\">\n    <path class=\"displacy-arc\" id=\"arrow-7b96e28fa2da479b82b60bd1c3237494-0-6\" stroke-width=\"2px\" d=\"M945,527.0 C945,352.0 1255.0,352.0 1255.0,527.0\" fill=\"none\" stroke=\"currentColor\"/>\n    <text dy=\"1.25em\" style=\"font-size: 0.8em; letter-spacing: 1px\">\n        <textPath xlink:href=\"#arrow-7b96e28fa2da479b82b60bd1c3237494-0-6\" class=\"displacy-label\" startOffset=\"50%\" side=\"left\" fill=\"currentColor\" text-anchor=\"middle\">cc</textPath>\n    </text>\n    <path class=\"displacy-arrowhead\" d=\"M1255.0,529.0 L1263.0,517.0 1247.0,517.0\" fill=\"currentColor\"/>\n</g>\n\n<g class=\"displacy-arrow\">\n    <path class=\"displacy-arc\" id=\"arrow-7b96e28fa2da479b82b60bd1c3237494-0-7\" stroke-width=\"2px\" d=\"M1295,527.0 C1295,439.5 1425.0,439.5 1425.0,527.0\" fill=\"none\" stroke=\"currentColor\"/>\n    <text dy=\"1.25em\" style=\"font-size: 0.8em; letter-spacing: 1px\">\n        <textPath xlink:href=\"#arrow-7b96e28fa2da479b82b60bd1c3237494-0-7\" class=\"displacy-label\" startOffset=\"50%\" side=\"left\" fill=\"currentColor\" text-anchor=\"middle\">nk</textPath>\n    </text>\n    <path class=\"displacy-arrowhead\" d=\"M1425.0,529.0 L1433.0,517.0 1417.0,517.0\" fill=\"currentColor\"/>\n</g>\n\n<g class=\"displacy-arrow\">\n    <path class=\"displacy-arc\" id=\"arrow-7b96e28fa2da479b82b60bd1c3237494-0-8\" stroke-width=\"2px\" d=\"M245,527.0 C245,2.0 1625.0,2.0 1625.0,527.0\" fill=\"none\" stroke=\"currentColor\"/>\n    <text dy=\"1.25em\" style=\"font-size: 0.8em; letter-spacing: 1px\">\n        <textPath xlink:href=\"#arrow-7b96e28fa2da479b82b60bd1c3237494-0-8\" class=\"displacy-label\" startOffset=\"50%\" side=\"left\" fill=\"currentColor\" text-anchor=\"middle\">cd</textPath>\n    </text>\n    <path class=\"displacy-arrowhead\" d=\"M1625.0,529.0 L1633.0,517.0 1617.0,517.0\" fill=\"currentColor\"/>\n</g>\n\n<g class=\"displacy-arrow\">\n    <path class=\"displacy-arc\" id=\"arrow-7b96e28fa2da479b82b60bd1c3237494-0-9\" stroke-width=\"2px\" d=\"M1820,527.0 C1820,264.5 2310.0,264.5 2310.0,527.0\" fill=\"none\" stroke=\"currentColor\"/>\n    <text dy=\"1.25em\" style=\"font-size: 0.8em; letter-spacing: 1px\">\n        <textPath xlink:href=\"#arrow-7b96e28fa2da479b82b60bd1c3237494-0-9\" class=\"displacy-label\" startOffset=\"50%\" side=\"left\" fill=\"currentColor\" text-anchor=\"middle\">mo</textPath>\n    </text>\n    <path class=\"displacy-arrowhead\" d=\"M1820,529.0 L1812,517.0 1828,517.0\" fill=\"currentColor\"/>\n</g>\n\n<g class=\"displacy-arrow\">\n    <path class=\"displacy-arc\" id=\"arrow-7b96e28fa2da479b82b60bd1c3237494-0-10\" stroke-width=\"2px\" d=\"M1995,527.0 C1995,439.5 2125.0,439.5 2125.0,527.0\" fill=\"none\" stroke=\"currentColor\"/>\n    <text dy=\"1.25em\" style=\"font-size: 0.8em; letter-spacing: 1px\">\n        <textPath xlink:href=\"#arrow-7b96e28fa2da479b82b60bd1c3237494-0-10\" class=\"displacy-label\" startOffset=\"50%\" side=\"left\" fill=\"currentColor\" text-anchor=\"middle\">nk</textPath>\n    </text>\n    <path class=\"displacy-arrowhead\" d=\"M1995,529.0 L1987,517.0 2003,517.0\" fill=\"currentColor\"/>\n</g>\n\n<g class=\"displacy-arrow\">\n    <path class=\"displacy-arc\" id=\"arrow-7b96e28fa2da479b82b60bd1c3237494-0-11\" stroke-width=\"2px\" d=\"M1820,527.0 C1820,352.0 2130.0,352.0 2130.0,527.0\" fill=\"none\" stroke=\"currentColor\"/>\n    <text dy=\"1.25em\" style=\"font-size: 0.8em; letter-spacing: 1px\">\n        <textPath xlink:href=\"#arrow-7b96e28fa2da479b82b60bd1c3237494-0-11\" class=\"displacy-label\" startOffset=\"50%\" side=\"left\" fill=\"currentColor\" text-anchor=\"middle\">nk</textPath>\n    </text>\n    <path class=\"displacy-arrowhead\" d=\"M2130.0,529.0 L2138.0,517.0 2122.0,517.0\" fill=\"currentColor\"/>\n</g>\n\n<g class=\"displacy-arrow\">\n    <path class=\"displacy-arc\" id=\"arrow-7b96e28fa2da479b82b60bd1c3237494-0-12\" stroke-width=\"2px\" d=\"M1645,527.0 C1645,177.0 2315.0,177.0 2315.0,527.0\" fill=\"none\" stroke=\"currentColor\"/>\n    <text dy=\"1.25em\" style=\"font-size: 0.8em; letter-spacing: 1px\">\n        <textPath xlink:href=\"#arrow-7b96e28fa2da479b82b60bd1c3237494-0-12\" class=\"displacy-label\" startOffset=\"50%\" side=\"left\" fill=\"currentColor\" text-anchor=\"middle\">cj</textPath>\n    </text>\n    <path class=\"displacy-arrowhead\" d=\"M2315.0,529.0 L2323.0,517.0 2307.0,517.0\" fill=\"currentColor\"/>\n</g>\n\n<g class=\"displacy-arrow\">\n    <path class=\"displacy-arc\" id=\"arrow-7b96e28fa2da479b82b60bd1c3237494-0-13\" stroke-width=\"2px\" d=\"M2520,527.0 C2520,439.5 2650.0,439.5 2650.0,527.0\" fill=\"none\" stroke=\"currentColor\"/>\n    <text dy=\"1.25em\" style=\"font-size: 0.8em; letter-spacing: 1px\">\n        <textPath xlink:href=\"#arrow-7b96e28fa2da479b82b60bd1c3237494-0-13\" class=\"displacy-label\" startOffset=\"50%\" side=\"left\" fill=\"currentColor\" text-anchor=\"middle\">nk</textPath>\n    </text>\n    <path class=\"displacy-arrowhead\" d=\"M2520,529.0 L2512,517.0 2528,517.0\" fill=\"currentColor\"/>\n</g>\n\n<g class=\"displacy-arrow\">\n    <path class=\"displacy-arc\" id=\"arrow-7b96e28fa2da479b82b60bd1c3237494-0-14\" stroke-width=\"2px\" d=\"M2345,527.0 C2345,352.0 2655.0,352.0 2655.0,527.0\" fill=\"none\" stroke=\"currentColor\"/>\n    <text dy=\"1.25em\" style=\"font-size: 0.8em; letter-spacing: 1px\">\n        <textPath xlink:href=\"#arrow-7b96e28fa2da479b82b60bd1c3237494-0-14\" class=\"displacy-label\" startOffset=\"50%\" side=\"left\" fill=\"currentColor\" text-anchor=\"middle\">sb</textPath>\n    </text>\n    <path class=\"displacy-arrowhead\" d=\"M2655.0,529.0 L2663.0,517.0 2647.0,517.0\" fill=\"currentColor\"/>\n</g>\n\n<g class=\"displacy-arrow\">\n    <path class=\"displacy-arc\" id=\"arrow-7b96e28fa2da479b82b60bd1c3237494-0-15\" stroke-width=\"2px\" d=\"M2345,527.0 C2345,264.5 2835.0,264.5 2835.0,527.0\" fill=\"none\" stroke=\"currentColor\"/>\n    <text dy=\"1.25em\" style=\"font-size: 0.8em; letter-spacing: 1px\">\n        <textPath xlink:href=\"#arrow-7b96e28fa2da479b82b60bd1c3237494-0-15\" class=\"displacy-label\" startOffset=\"50%\" side=\"left\" fill=\"currentColor\" text-anchor=\"middle\">mo</textPath>\n    </text>\n    <path class=\"displacy-arrowhead\" d=\"M2835.0,529.0 L2843.0,517.0 2827.0,517.0\" fill=\"currentColor\"/>\n</g>\n\n<g class=\"displacy-arrow\">\n    <path class=\"displacy-arc\" id=\"arrow-7b96e28fa2da479b82b60bd1c3237494-0-16\" stroke-width=\"2px\" d=\"M3045,527.0 C3045,439.5 3175.0,439.5 3175.0,527.0\" fill=\"none\" stroke=\"currentColor\"/>\n    <text dy=\"1.25em\" style=\"font-size: 0.8em; letter-spacing: 1px\">\n        <textPath xlink:href=\"#arrow-7b96e28fa2da479b82b60bd1c3237494-0-16\" class=\"displacy-label\" startOffset=\"50%\" side=\"left\" fill=\"currentColor\" text-anchor=\"middle\">mo</textPath>\n    </text>\n    <path class=\"displacy-arrowhead\" d=\"M3045,529.0 L3037,517.0 3053,517.0\" fill=\"currentColor\"/>\n</g>\n\n<g class=\"displacy-arrow\">\n    <path class=\"displacy-arc\" id=\"arrow-7b96e28fa2da479b82b60bd1c3237494-0-17\" stroke-width=\"2px\" d=\"M2345,527.0 C2345,89.5 3195.0,89.5 3195.0,527.0\" fill=\"none\" stroke=\"currentColor\"/>\n    <text dy=\"1.25em\" style=\"font-size: 0.8em; letter-spacing: 1px\">\n        <textPath xlink:href=\"#arrow-7b96e28fa2da479b82b60bd1c3237494-0-17\" class=\"displacy-label\" startOffset=\"50%\" side=\"left\" fill=\"currentColor\" text-anchor=\"middle\">pd</textPath>\n    </text>\n    <path class=\"displacy-arrowhead\" d=\"M3195.0,529.0 L3203.0,517.0 3187.0,517.0\" fill=\"currentColor\"/>\n</g>\n</svg>\n</figure>\n</body>\n</html></span>"
     },
     "metadata": {},
     "output_type": "display_data"
    },
    {
     "name": "stdout",
     "output_type": "stream",
     "text": [
      "\n",
      "Using the 'dep' visualizer\n",
      "Serving on http://0.0.0.0:5000 ...\n",
      "\n",
      "Shutting down server on port 5000.\n"
     ]
    }
   ],
   "source": [
    "nlp = spacy.load('de_core_news_sm')\n",
    "doc = nlp(\"Diese sind laut IHS aber geringer als im Frühjahr, und ohne diesen Lockdown wären die Schäden vermutlich noch größer.\")\n",
    "displacy.serve(doc, style=\"dep\")"
   ],
   "metadata": {
    "collapsed": false,
    "pycharm": {
     "name": "#%%\n"
    }
   }
  },
  {
   "cell_type": "code",
   "execution_count": 28,
   "outputs": [
    {
     "name": "stdout",
     "output_type": "stream",
     "text": [
      "[diesen]\n",
      "[]\n",
      "[11, 14, 10, 1]\n",
      "[ohne, diesen, Lockdown]\n",
      "['ADP', 'DET', 'NOUN']\n",
      "['APPR', 'PDAT', 'NN']\n",
      "['mo', 'nk', 'nk']\n",
      "[ohne, diesen, Lockdown, wären, die, Schäden, vermutlich, noch, größer]\n",
      "['ADP', 'DET', 'NOUN', 'AUX', 'DET', 'NOUN', 'ADV', 'ADV', 'ADV']\n",
      "['APPR', 'PDAT', 'NN', 'VAFIN', 'ART', 'NN', 'ADV', 'ADV', 'ADJD']\n",
      "['mo', 'nk', 'nk', 'cj', 'nk', 'sb', 'mo', 'mo', 'pd']\n",
      "[und, ohne, diesen, Lockdown, wären, die, Schäden, vermutlich, noch, größer]\n",
      "['CCONJ', 'ADP', 'DET', 'NOUN', 'AUX', 'DET', 'NOUN', 'ADV', 'ADV', 'ADV']\n",
      "['KON', 'APPR', 'PDAT', 'NN', 'VAFIN', 'ART', 'NN', 'ADV', 'ADV', 'ADJD']\n",
      "['cd', 'mo', 'nk', 'nk', 'cj', 'nk', 'sb', 'mo', 'mo', 'pd']\n",
      "[Diese, sind, laut, IHS, aber, geringer, als, im, Frühjahr, ,, und, ohne, diesen, Lockdown, wären, die, Schäden, vermutlich, noch, größer, .]\n",
      "['PRON', 'AUX', 'ADP', 'PROPN', 'ADV', 'ADV', 'ADP', 'ADP', 'NOUN', 'PUNCT', 'CCONJ', 'ADP', 'DET', 'NOUN', 'AUX', 'DET', 'NOUN', 'ADV', 'ADV', 'ADV', 'PUNCT']\n",
      "['PDS', 'VAFIN', 'APPR', 'NE', 'ADV', 'ADJD', 'KOKOM', 'APPRART', 'NN', '$,', 'KON', 'APPR', 'PDAT', 'NN', 'VAFIN', 'ART', 'NN', 'ADV', 'ADV', 'ADJD', '$.']\n",
      "['sb', 'ROOT', 'mo', 'nk', 'mo', 'pd', 'cm', 'cc', 'nk', 'punct', 'cd', 'mo', 'nk', 'nk', 'cj', 'nk', 'sb', 'mo', 'mo', 'pd', 'punct']\n"
     ]
    }
   ],
   "source": [
    "print([token for token in doc[13].lefts])\n",
    "print([token for token in doc[13].rights])\n",
    "print([token.i for token in doc[13].ancestors])\n",
    "\n",
    "for ancestor in doc[13].ancestors:\n",
    "    print([token for token in ancestor.subtree])\n",
    "    print([token.pos_ for token in ancestor.subtree])\n",
    "    print([token.tag_ for token in ancestor.subtree])\n",
    "    print([token.dep_ for token in ancestor.subtree])"
   ],
   "metadata": {
    "collapsed": false,
    "pycharm": {
     "name": "#%%\n"
    }
   }
  },
  {
   "cell_type": "code",
   "execution_count": 9,
   "outputs": [
    {
     "name": "stderr",
     "output_type": "stream",
     "text": [
      "/home/stefan/.virtualenvs/diplom-code-env/lib/python3.8/site-packages/spacy/displacy/__init__.py:97: UserWarning: [W011] It looks like you're calling displacy.serve from within a Jupyter notebook or a similar environment. This likely means you're already running a local web server, so there's no need to make displaCy start another one. Instead, you should be able to replace displacy.serve with displacy.render to show the visualization.\n",
      "  warnings.warn(Warnings.W011)\n"
     ]
    },
    {
     "data": {
      "text/plain": "<IPython.core.display.HTML object>",
      "text/html": "<span class=\"tex2jax_ignore\"><!DOCTYPE html>\n<html lang=\"de\">\n    <head>\n        <title>displaCy</title>\n    </head>\n\n    <body style=\"font-size: 16px; font-family: -apple-system, BlinkMacSystemFont, 'Segoe UI', Helvetica, Arial, sans-serif, 'Apple Color Emoji', 'Segoe UI Emoji', 'Segoe UI Symbol'; padding: 4rem 2rem; direction: ltr\">\n<figure style=\"margin-bottom: 6rem\">\n<svg xmlns=\"http://www.w3.org/2000/svg\" xmlns:xlink=\"http://www.w3.org/1999/xlink\" xml:lang=\"de\" id=\"36743367b42f49e19d1aa3e6d745e49c-0\" class=\"displacy\" width=\"1100\" height=\"312.0\" direction=\"ltr\" style=\"max-width: none; height: 312.0px; color: #000000; background: #ffffff; font-family: Arial; direction: ltr\">\n<text class=\"displacy-token\" fill=\"currentColor\" text-anchor=\"middle\" y=\"222.0\">\n    <tspan class=\"displacy-word\" fill=\"currentColor\" x=\"50\">Der</tspan>\n    <tspan class=\"displacy-tag\" dy=\"2em\" fill=\"currentColor\" x=\"50\">DET</tspan>\n</text>\n\n<text class=\"displacy-token\" fill=\"currentColor\" text-anchor=\"middle\" y=\"222.0\">\n    <tspan class=\"displacy-word\" fill=\"currentColor\" x=\"225\">Lockdown</tspan>\n    <tspan class=\"displacy-tag\" dy=\"2em\" fill=\"currentColor\" x=\"225\">PROPN</tspan>\n</text>\n\n<text class=\"displacy-token\" fill=\"currentColor\" text-anchor=\"middle\" y=\"222.0\">\n    <tspan class=\"displacy-word\" fill=\"currentColor\" x=\"400\">hat</tspan>\n    <tspan class=\"displacy-tag\" dy=\"2em\" fill=\"currentColor\" x=\"400\">AUX</tspan>\n</text>\n\n<text class=\"displacy-token\" fill=\"currentColor\" text-anchor=\"middle\" y=\"222.0\">\n    <tspan class=\"displacy-word\" fill=\"currentColor\" x=\"575\">viele</tspan>\n    <tspan class=\"displacy-tag\" dy=\"2em\" fill=\"currentColor\" x=\"575\">DET</tspan>\n</text>\n\n<text class=\"displacy-token\" fill=\"currentColor\" text-anchor=\"middle\" y=\"222.0\">\n    <tspan class=\"displacy-word\" fill=\"currentColor\" x=\"750\">Menschenleben</tspan>\n    <tspan class=\"displacy-tag\" dy=\"2em\" fill=\"currentColor\" x=\"750\">NOUN</tspan>\n</text>\n\n<text class=\"displacy-token\" fill=\"currentColor\" text-anchor=\"middle\" y=\"222.0\">\n    <tspan class=\"displacy-word\" fill=\"currentColor\" x=\"925\">gerettet.</tspan>\n    <tspan class=\"displacy-tag\" dy=\"2em\" fill=\"currentColor\" x=\"925\">VERB</tspan>\n</text>\n\n<g class=\"displacy-arrow\">\n    <path class=\"displacy-arc\" id=\"arrow-36743367b42f49e19d1aa3e6d745e49c-0-0\" stroke-width=\"2px\" d=\"M70,177.0 C70,89.5 220.0,89.5 220.0,177.0\" fill=\"none\" stroke=\"currentColor\"/>\n    <text dy=\"1.25em\" style=\"font-size: 0.8em; letter-spacing: 1px\">\n        <textPath xlink:href=\"#arrow-36743367b42f49e19d1aa3e6d745e49c-0-0\" class=\"displacy-label\" startOffset=\"50%\" side=\"left\" fill=\"currentColor\" text-anchor=\"middle\">nk</textPath>\n    </text>\n    <path class=\"displacy-arrowhead\" d=\"M70,179.0 L62,167.0 78,167.0\" fill=\"currentColor\"/>\n</g>\n\n<g class=\"displacy-arrow\">\n    <path class=\"displacy-arc\" id=\"arrow-36743367b42f49e19d1aa3e6d745e49c-0-1\" stroke-width=\"2px\" d=\"M245,177.0 C245,89.5 395.0,89.5 395.0,177.0\" fill=\"none\" stroke=\"currentColor\"/>\n    <text dy=\"1.25em\" style=\"font-size: 0.8em; letter-spacing: 1px\">\n        <textPath xlink:href=\"#arrow-36743367b42f49e19d1aa3e6d745e49c-0-1\" class=\"displacy-label\" startOffset=\"50%\" side=\"left\" fill=\"currentColor\" text-anchor=\"middle\">sb</textPath>\n    </text>\n    <path class=\"displacy-arrowhead\" d=\"M245,179.0 L237,167.0 253,167.0\" fill=\"currentColor\"/>\n</g>\n\n<g class=\"displacy-arrow\">\n    <path class=\"displacy-arc\" id=\"arrow-36743367b42f49e19d1aa3e6d745e49c-0-2\" stroke-width=\"2px\" d=\"M595,177.0 C595,89.5 745.0,89.5 745.0,177.0\" fill=\"none\" stroke=\"currentColor\"/>\n    <text dy=\"1.25em\" style=\"font-size: 0.8em; letter-spacing: 1px\">\n        <textPath xlink:href=\"#arrow-36743367b42f49e19d1aa3e6d745e49c-0-2\" class=\"displacy-label\" startOffset=\"50%\" side=\"left\" fill=\"currentColor\" text-anchor=\"middle\">nk</textPath>\n    </text>\n    <path class=\"displacy-arrowhead\" d=\"M595,179.0 L587,167.0 603,167.0\" fill=\"currentColor\"/>\n</g>\n\n<g class=\"displacy-arrow\">\n    <path class=\"displacy-arc\" id=\"arrow-36743367b42f49e19d1aa3e6d745e49c-0-3\" stroke-width=\"2px\" d=\"M770,177.0 C770,89.5 920.0,89.5 920.0,177.0\" fill=\"none\" stroke=\"currentColor\"/>\n    <text dy=\"1.25em\" style=\"font-size: 0.8em; letter-spacing: 1px\">\n        <textPath xlink:href=\"#arrow-36743367b42f49e19d1aa3e6d745e49c-0-3\" class=\"displacy-label\" startOffset=\"50%\" side=\"left\" fill=\"currentColor\" text-anchor=\"middle\">oa</textPath>\n    </text>\n    <path class=\"displacy-arrowhead\" d=\"M770,179.0 L762,167.0 778,167.0\" fill=\"currentColor\"/>\n</g>\n\n<g class=\"displacy-arrow\">\n    <path class=\"displacy-arc\" id=\"arrow-36743367b42f49e19d1aa3e6d745e49c-0-4\" stroke-width=\"2px\" d=\"M420,177.0 C420,2.0 925.0,2.0 925.0,177.0\" fill=\"none\" stroke=\"currentColor\"/>\n    <text dy=\"1.25em\" style=\"font-size: 0.8em; letter-spacing: 1px\">\n        <textPath xlink:href=\"#arrow-36743367b42f49e19d1aa3e6d745e49c-0-4\" class=\"displacy-label\" startOffset=\"50%\" side=\"left\" fill=\"currentColor\" text-anchor=\"middle\">oc</textPath>\n    </text>\n    <path class=\"displacy-arrowhead\" d=\"M925.0,179.0 L933.0,167.0 917.0,167.0\" fill=\"currentColor\"/>\n</g>\n</svg>\n</figure>\n</body>\n</html></span>"
     },
     "metadata": {},
     "output_type": "display_data"
    },
    {
     "name": "stdout",
     "output_type": "stream",
     "text": [
      "\n",
      "Using the 'dep' visualizer\n",
      "Serving on http://0.0.0.0:5000 ...\n",
      "\n",
      "Shutting down server on port 5000.\n"
     ]
    }
   ],
   "source": [
    "\n",
    "doc = nlp(\"Der Lockdown hat viele Menschenleben gerettet.\")\n",
    "displacy.serve(doc, style=\"dep\")"
   ],
   "metadata": {
    "collapsed": false,
    "pycharm": {
     "name": "#%%\n"
    }
   }
  },
  {
   "cell_type": "code",
   "execution_count": 47,
   "outputs": [],
   "source": [
    "samples = []\n",
    "sentences = []\n",
    "opinions_target = []\n",
    "opinions_strict_target = []\n",
    "direct_target = []\n",
    "sentiments_target = []\n",
    "references_target = []\n",
    "\n",
    "with open('protocols/labelled/only_lockdown.csv', 'r') as f:\n",
    "    next(f)\n",
    "    for line in f:\n",
    "        col_vals = re.split('\\\\t', line)\n",
    "        samples.append(col_vals)\n",
    "        opinions_target.append(col_vals[6])\n",
    "        sentences.append(col_vals[13])\n",
    "        sentiments_target.append(col_vals[0])\n",
    "        references_target.append(col_vals[1])\n",
    "        opinions_strict_target.append(col_vals[5])\n",
    "        direct_target.append(col_vals[2])"
   ],
   "metadata": {
    "collapsed": false,
    "pycharm": {
     "name": "#%%\n"
    }
   }
  },
  {
   "cell_type": "code",
   "execution_count": 11,
   "outputs": [
    {
     "name": "stdout",
     "output_type": "stream",
     "text": [
      "2173597318666664694\t31\t32\n",
      "Lockdown\n"
     ]
    }
   ],
   "source": [
    "doc = nlp(sentences[1])\n",
    "\n",
    "matcher = Matcher(nlp.vocab)\n",
    "pattern = [{\"TEXT\": {\"REGEX\": '[lL]ock.?[dD]own'}}]\n",
    "matcher.add('lockdownmatcher', [pattern])\n",
    "matches = matcher(doc)\n",
    "for match_id, start, end in matches:\n",
    "    print(f\"{match_id}\\t{start}\\t{end}\")\n",
    "    print(doc[start])"
   ],
   "metadata": {
    "collapsed": false,
    "pycharm": {
     "name": "#%%\n"
    }
   }
  },
  {
   "cell_type": "code",
   "execution_count": 14,
   "outputs": [
    {
     "name": "stdout",
     "output_type": "stream",
     "text": [
      "[Das heißt, diese Planbarkeit ist jetzt gar nicht machbar – für Sie nicht –, nur die Unternehmer kommen mit dieser Unplanbarkeit gar nicht zurecht, weil dieser Lockdown ja jetzt nur für eine Woche bestimmt ist., aus diesem Lockdown wieder herauszukommen, ohne die Gesundheit der Menschen in Österreich oder auch europaweit aufs Spiel zu setzen, Kickl hat am 13. März von einem Lockdown gesprochen – also alles zudrehen, nichts geht mehr in diesem Land.\n",
      ", Ja, der Lockdown war richtig., wenn man jetzt den Lockdown schrittweise lockert, dass dann das Wirtschaftssystem eigentlich genauso aussieht,, Regelmäßige begleitende Datenerhe­bun­gen in dieser Phase des Lockdowns, in der Lehrer_innen, Schüler_innen und Eltern auf digitales Unterrichten und Lernen absolut angewiesen sind, Kurz und Gesundheitsminister Anschober haben es versäumt, die fünf Wochen seit dem Lockdown zu nützen, um Daten zu gewinnen,, Ihnen war der Lockdown nicht scharf genug, wie sich der Lockdown auch ökonomisch auswirkt, Der Lockdown in unserem Land war eine gesundheitspolitische Präventivmaßnahme, eine Maßnahme, die das ganze Land betroffen hat und die es in diesem Ausmaß, in dieser Dimension noch nie gegeben hat.\n",
      ", Regelmäßige begleitende Datenerhebungen in dieser Phase des Lockdowns, in der Lehrpersonal und Studierende auf digitales Unterrichten und Lernen absolut ange­wiesen sind, Zum Zweiten möchte ich noch kurz anmerken, weil hier gerade von der FPÖ ständig behauptet wird  – die Wirtschaftskammer hat da sehr viel geleistet, lieber Kollege Loacker  –, es gebe Auswirkungen der Coronakrise dadurch, dass diese Maßnahmen gesetzt wurden – es ist mir wirklich wichtig, das jetzt zu erwähnen –: Am 13. März hat es eine Pressekonferenz von Klubobmann Kickl und Frau Kollegin Belakowitsch gegeben, bei der der „Lockdown“ gefordert wurde.\n",
      ", Es wurde der „Lockdown“ für Österreich gefor­dert, damit man endlich mit der Salamitaktik aufhört, die Regierung solle viel schneller handeln, und man müsse der österreichischen Bevölkerung „reinen Wein einschenken“ und die Wahrheit sprechen., Seit 16.3.2020 befindet sich Österreich im Lock-Down.\n",
      ", Am 13. März setzt du dich mit Kickl hin und sagst: Lockdown, alles nieder!\n",
      ", in seiner Rede hier behauptet, ich hätte in einer Pressekonferenz gemeinsam mit Klubobmann Kickl behauptet, wir wollen den totalen Lockdown – Punkt, Wir wollten den totalen Lockdown am Flughafen Wien und die absolute Grenzschließung.\n",
      ", Ich erinnere nochmals eindrücklich daran – das lässt sich im Protokoll nachlesen –, dass sich ein gewisser Herr Klub­obmann Kickl am 20. März hier ans Podium gestellt und die Regierung dafür gegeißelt hat, dass nicht ein sofortiger gesamter Lockdown – und nicht nur die Grenzschließun­gen  – durchgeführt wurde., – Ich darf vorher Folgendes klarstellen, weil Sie immer sa­gen, Herr Kickl hätte einen Lockdown gefordert und fordere jetzt das Gegenteil: Das ist richtig, Herr Kickl und die Freiheitliche Partei haben einen Lockdown gefordert, aber nicht nur betreffend die Bevölkerung, wie Sie das gemacht haben, sondern vor allem was die Grenzen betrifft, was den Flughafen betrifft und was die schwarzen Freunderl zum Beispiel in Tirol betrifft, während Sie sich allein auf die Bevölkerung verlassen haben.\n",
      ", Ich darf, da den Medien ja oft misstraut wird, für die vier Kollegen der Freiheitlichen Partei, die gerade herinnen sind – es ist ja, wenn es um sachliche Debatten und um soziale Maßnahmen für unse­re Familien geht, anscheinend nicht so üblich, dass man an der Debatte teilnimmt und sich hier einbringt  –, einfach aus der OTS des Freiheitlichen Parlamentsklubs vom 13. März zitieren: „Coronavirus: Kickl für ‚Lock­down‘ Österreichs“., Daher schlage die FPÖ einen ‚Lockdown‘ vor.\n",
      ", – Das ist das, was die Freiheitlichen am 13. März vorgeschlagen haben: ein Lockdown für Österreich.\n",
      ", Wir wollen wieder zurück in eine Normalität, wie wir sie vor dem Lockdown kannten und wie wir sie geschätzt haben.\n",
      ", Wie kommen wir heraus aus dem Lockdown?\n",
      ", Das ist ein Beitrag dazu, dass wir aus diesem Lockdown herauskommen.\n",
      ", Umso unbegreiflicher, dass Anträge zur Normalisierung, zur Beendigung des Lockdowns im Gesundheitswesen  im Gesund­heitsausschuss wieder abgelehnt worden sind, Zum Abschluss nur noch einmal ganz kurz zu Italien: Italien hat eine Woche vor Ös­terreich den Lockdown gemacht, Vor sechs Wochen ist unsere Republik in einen Lockdownmodus gegangen.\n",
      ", die Zeit des Lockdowns nicht genützt, um jetzt die Phase der Öffnung mit Daten substanziell zu begleiten, Die Vielfalt der Meinungen wurde jedoch ab Anfang März systematisch weniger, bis letztlich in den Iden des März nicht nur der wirtschaftliche und soziale Shutdown beschlossen worden ist, sondern auch der Lockdown für die Meinungsfreiheit und die Wissenschaftsfreiheit., dass es vielleicht nicht das Beste ist, nur stur auf die Zahl der Co­ronatoten zu schauen, sondern dass man vielleicht auch an die Opfer des Lockdowns denken muss und dass es da vielleicht zu einer Bilanz kommt,, Die FPÖ hat am 13.3.– man kann das auch online nachlesen – noch einen Lockdown eingefordert, ja, massive Maßnahmen.\n",
      ", Am Anfang – und ich möchte das noch einmal betonen – war es so: Kickl hat am 13. März den Lockdown gefordert , Rendi-Wagner hat Ende März von diesem Pult aus gesagt, Mitte April könnte es sein, dass wir die 30 000er-Marke an Infizierten überschreiten, und dann wären die Kapazitäts­grenzen sozusagen erreicht, was die Spitäler und auch die Intensivbetten anbelangt.\n",
      ", dass Ihnen der Lockdown nicht scharf genug war, zwei Monate lang einen Lockdown in unserem Gesundheitssystem gehabt, Die Folgeschäden, die aus diesen Maßnahmen, aus diesem Lockdown des Gesundheitssystems für die Österreicher und Österreiche­rinnen entstehen, werden um ein Vielfaches höher sein als das, was der Coronavirus angestellt hat, meine sehr geehrten Damen und Herren!, die sozialen und vor allem auch die wirtschaftlichen Folgen des Lockdowns sind unübersehbar, Der Lockdown hat eine soziale und wirtschaftliche Krise ausgelöst, die beispielhaft ist in der zweiten Republik., Es wurde wirklich alles in Kauf genommen, um den Lockdown, um die Beschränkungen, die es noch gibt, um die plötzliche neue Machtfülle für die Bundesregierung und die alleinige Meinungshoheit und das Eigenlob fortzusetzen und in die neue Normalität zu retten., durch Einhalten einfacher Hygienemaßnahmen und die Disziplin der österreichischen Bevölkerung die Infektionsraten schon vor dem Lockdown deutlich zurückgegangen, Ich habe erst gestern mit einem Fitnessstudiobetreiber aus meiner Region gesprochen, bei dem seit dem Lockdown Mitte März keine Hantel geschwungen wurde und der dennoch erst ein Mal eine kleine Minizahlung erhalten hat; viele haben aber noch nicht einmal irgendet­was bekommen.\n",
      ", Er hat den Einnahmenentfall zu Be­ginn des Lockdowns – der war da nämlich – mit der Budgetänderung verwechselt.\n",
      ", nach der Phase des Lockdowns schneller als andere wieder in die Phase der Öffnung kommen, Dank der Entscheidungsstärke unserer Regierung sind wir rascher als andere in den Lockdown gegangen, aus dem Lockdown wieder rasch herauszukommen, Sie haben vor dem Lockdown, in der wichtigsten Phase, in der die Unsicherheit begonnen hat, der Wirtschaft in Österreich signalisiert: Auf den Staat könnt ihr euch nicht verlas­sen!\n",
      ", Nach elf Wochen coronabedingtem Lockdown, Shutdown sind wir jetzt am We­ge der Normalisierung.\n",
      ", Wenn alle Leute merken, was da an Angstmacherei, an unnötiger Angstmacherei dahinter war, dann werden auch Ihre Umfragewerte, Herr Bundeskanzler, einen Lockdown erleben, und das ist gut so., Auch österreichische Hilfsorganisationen warnen vor den sozialen und wirtschaftlichen Folgen des Lockdowns für afrikanische Staaten, etwa die Caritas Österreich, die eine humanitäre Katastrophe befürchtet, u.a. durch sie steigenden Preise während einer Pandemie.\n",
      ", so wie auch bei meiner letzten Reise nach Tirana, die ich noch vor dem Lockdown machen durfte – ich bin dem dortigen Botschafter Steiner sehr dankbar für die Hilfe , in Wirklichkeit gab es für das Außenminis­terium nie einen Lockdown, in Wahrheit sind wir seit Anfang des Jahres konstant im Krisenbewältigungsmodus: zuerst zum Jahreswechsel durch einen massiven Angriff auf die Cyberinfrastruktur des Außenministeriums, den wir dank schnellen Handelns und Erkennens durch große Anstrengungen abwehren konnten., Es waren letzten Endes nämlich unsere Botschaften in Lima, Kuala Lumpur, Canberra und Peking, die diese Rückholaktion organisiert haben, die dafür gesorgt haben, dass die Bürger überhaupt ihre Hotels und Quartiere verlassen und zum Flughafen kommen konnten, obwohl vielleicht lokal strengster Lockdown herrschte, die am Höhepunkt der Krise dafür gesorgt haben, dass es Landegenehmigungen und Exportgenehmigungen gab, als es darum ging, dringend benötigtes medizinisches Material nach Österreich zu bringen., Dieses Ein-Milliarden-Euro-Paket ermöglicht uns Gemeinden, am Ende des Lock­downs Planungssicherheit zu haben und für die Zukunft zu investieren.\n",
      ", Wir werden die 31 Millionen Nächtigungen, die wir im Jahr davor gehabt haben, in diesen Monaten in Österreich nicht mehr aufholen, und der durch diesen Lockdown eingetretene Scha­den liegt bei 2 Milliarden Euro.\n",
      ", weil der Shutdown, der Lockdown, für diese Branche sehr, sehr einschneidend war, In Italien hat jeder während des Lockdowns geglaubt, diese Unterstützungseinrichtungen hätten – analog zu ande­ren infrastrukturellen Einrichtungen –, Die Familie hat den Lockdown aufgefangen, und dennoch hat man den Eindruck, dass in der politischen Diskussion die Familie ganz oft in einen negativen Kontext gerückt wird und es heißt: Armutsfalle, Überlastung oder auch Gewalt.\n",
      ", Laut den Zahlen, die die Frauenministerin heute genannt hat, gab es vor der Krise im Jänner 936 Fälle und im April, als das ganze Monat Lockdown war, waren es 1 075.\n",
      ", Während des Lockdowns waren wirklich auch die Kinderrechte massiv eingeschränkt, Da rede ich gar nicht von den möglicherweise erforderlichen Kostendeckungen für die Sozialversicherungen oder für die Krankenkassen; da rede ich noch gar nicht von den zusätzlichen Kosten durch den Behandlungsrückstau, der wegen des Lockdown im Ge­sundheitswesen passiert ist; da spreche ich noch gar nicht von den notwendigen Inves­titionsanreizen, damit wir unser Gesundheitssystem so umformen, dass die nächste Krise noch besser bestanden wird; und da rede ich noch gar nicht von den Kosten, die zur Absicherung der Arzneimittelversorgung und der Versorgung mit Medizinprodukten notwendig sind.\n",
      ", Der Antrag hat folgenden Gesamtwortlaut: der Abgeordneten Dietmar Keck, Kolleginnen und Kollegen betreffend höchstnotwendige Unterstützung von Gnadenhöfen und privaten Vereinen, die sich um Tiere in Not kümmern eingebracht im Zuge der Debatte zu TOP 7, Bericht des Budgetausschusses über die Regierungsvorlage : Bundesgesetz über die Bewilligung des Bundesvoran­schlages für das Jahr 2020  samt Anlagen  zur Untergliederung 24 Die Covid 19 – Krise hat durch den rigorosen Lockdown zu großer Not bei Vereinen geführt, die sich um Tiere kümmern, die sonst keine Chance mehr auf ein tierwohlge­rechtes Leben gehabt hätten.\n",
      ", Durch den Lockdown wird es einen großen Kollateralschaden geben, finanziell und gesundheitlich, Der Antragsteller, Herr Kollege Kickl, hat ja bekanntlich – man muss es an dieser Stelle wiederholen – Mitte März selber harte Maßnahmen und einen Lockdown gefordert , und jetzt hinterfragt er das.\n",
      ", wenn der Lockdown eine Woche später statt­gefunden hätte, Am 16. März hat in Österreich der Lockdown zur Eindämmung der Coronaviruspandemie begonnen.\n",
      ", Ich darf Ihnen nur mitteilen, dass es auch in Ihrem Vorbildland Italien schon intensive Diskussionen gibt, wie es dort zu dem Lockdown kam.\n",
      ", – Na ja, man muss schon eines sagen: Das ist ja gar nicht so lustig und geht wieder dorthin; Kickl, ihr habt ja - -  – Ihr habt ja alle, auch Kickl, am 13. März den Lockdown gefordert.\n",
      ", Der Lockdown hat uns genau gezeigt, was es in den Ortschaften in Österreich braucht:, fast zeitgleich mit dem Coronalockdown eingetroffen, Erlauben Sie mir eine kurze Chronologie: Schon vor dem Lockdown hat es erste Stimmen gegeben, dass der Sport eine Entschädigung braucht.\n",
      ", Kinder haben Rechte, diese sind in den letzten Wochen des Lockdowns kaum zur Sprache gekommen.\n",
      ", ob es notwendig gewesen ist, diesen Lockdown zu machen, jetzt hat er dahin gehend eine Modellierung durchgeführt , ob es der richtige Zeitpunkt war,, Auch viele Polizistinnen und Polizisten waren aufgrund der unklaren Kommunikation und der unklaren Verordnungen der Meinung, dass private Besuche während des Lock­downs verboten waren.\n",
      ", schließlich war der von der Bundesregierung verordnete Lockdown nicht absehbar, Es ist jetzt ungefähr drei Monate her, da hat diese Bundesregierung der Republik Österreich einen Lockdown verordnet – einen Lockdown, der zu fürchterlichen wirtschaftlichen Folgen geführt hat., Es gibt viele Länder, die gesundheitlich besser durchgekommen sind, aber auch sehr viele, nämlich die meisten, denen es wirtschaftlich besser geht als Österreich, und nicht, weil sie dort vielleicht keinen Lockdown hatten., Da gab es einen Lockdown, der hier einstimmig beschlos­sen worden ist., Wir haben den Lockdown, wir haben das Herunterfahren zur Kenntnis genom­men, und der Herr Bundeskanzler hat sich überhaupt nicht hinterfragt.\n",
      ", Zum Zweiten: Sie kritisieren nach wie vor den Lockdown.\n",
      ", Aber Sie waren es mit Klubobmann Kickl, die am 13. März dieses Jahres den völligen Lockdown für Österreich eingefordert haben.\n",
      ", Fangen wir dort an, wo alles angefangen hat – beim Coronalockdown!\n",
      ", Den Lockdown haben wir also nicht aus Spaß und Jux und Tollerei gemacht – übrigens, ihr habt ihn ja selber gefordert, das habt ihr heute eh schon öfters gehört –, sondern wir haben ihn deswegen gemacht, weil es einfach notwendig war., Ich möchte jetzt einiges zurechtrücken, was hier seitens der ÖVP wieder einmal verzapft wurde – zu Beginn der Debatte von Klubobmann Wöginger, aber auch Kollege Pöttinger hat das angeführt und hat den angeblichen Zickzackkurs der FPÖ kritisiert, denn wir wären ja die Ersten gewesen, die den totalen Lockdown Österreichs gefordert hätten.\n",
      ", dass der Umsatzrückgang allein für Österreichs Gastronomie während des Corona-Lockdowns täglich ca 60 Millionen Euro betrug und laut Experten auch nicht wieder aufholbar ist, Die Ausgangslage Der Lockdown hat eine soziale und wirtschaftliche Krise ausgelöst, die beispielhaft ist in der Zweiten Republik., Zahlen aus China und Italien – diese Länder mussten sich ja schon früher zu einem Lockdown entschließen – ließen befürchten, dass sich auch bei uns in Österreich die Zahl der Über­griffe auf Frauen im häuslichen Bereich, also im Privatbereich, erhöhen würde., Aufgrund des Stresses, unter dem viele Paare und Familien durch den Lockdown, durch Kurzarbeit oder Arbeitslosigkeit, Homeschooling und so weiter standen, war ja auch zu erwarten, dass es vermehrt zu Gewalteskalationen kommen könnte., Der Lockdown ist mittlerweile beendet und wir kehren auch Schritt für Schritt zur Nor­malität zurück.\n",
      ", auch dankbar dafür, dass bereits während der Coronakrise, während des Lockdowns 2 Millionen Euro für eine Sensibilisierungs­kampagne bereitgestellt wurden, Auf der einen Seite sagen Sie: Der Lockdown ist beendet , die Normalität kehrt zurück!, gleichzeitig wird aber die Teilnahme an der europäischen Zeitverwendungsstudie abgelehnt, denn – hey!\n",
      ", Um die Lasten der Coronakrise so gut wie möglich bewältigbar zu machen, müssen wir uns langsam, aber sicher neben den wirtschaftlichen Konsequenzen auch Gedanken über die psychologischen Konsequenzen des Lockdowns machen, Konsequenzen, welche vor allem die Zukunft und das Leben der Frauen in diesem Land besonders stark be­treffen werden., so wie Österreich sehr konsequent und rasch mit einem Shutdown, einem Lockdown reagiert, März vor dem Lockdown hat die von Ihnen geführte Bun­desregierung und die Mehrheitsfraktion von ÖVP und Grünen versucht, einen seit dem Epidemiegesetz 1950 bestehenden gesetzlichen Anspruch auf vollen Schadenersatz und Verdienstentgang abzuschaffen.\n",
      ", Meine Frage ist: Warum haben Sie nicht wie die Nachbarländer Schweiz und Deutsch­land einen Weg gewählt, bei dem wie in der Schweiz innerhalb von vier Tagen nach dem Lockdown alle ihr Geld gehabt haben, weil es gegen nachfolgende Überprüfung mit der Steuer ausbezahlt wurde, oder wie in Deutschland, wo das durch die Finanzverwaltung erfolgt ist und der Effekt der sofortigen Zahlung der war, dass in Deutschland die Ar­beitslosigkeit in einem viel geringeren Ausmaß gestiegen ist als in Österreich?\n",
      ", Auch die Bevölkerung hat am Anfang alles akzeptiert, was im Zuge dieses Lockdowns angeordnet worden ist.\n",
      ", nach ein paar Wochen Tiefschlaf rechtzeitig einen Lockdown zusammengebracht haben, so­dass die Kapazitäten unseres Gesundheitssystems nicht überschritten worden sind, sehr schnell in den Lockdown gegangen, mich gut daran erinnern, wie wir im Wirtschaftsausschuss zusammengekom­men sind, als der Lockdown passiert ist,, Das war nach dem Lockdown natürlich eine sehr dramatische Maßnahme.\n",
      ", Damit wäre auch Amazon, der ja der Hauptprofiteur von die­sem Lockdown war, draußen, denn die 50 000 Euro spielen eine geringe Rolle.\n",
      ", Wir erleben auch eine schwe­re Rezession, im Übrigen nicht wegen des Lockdowns, sondern wegen der weltweiten Pandemie.\n",
      ", während des Lockdowns wirklich eine hohe Expertise und Varianten entwickelt, nicht nur in den Zeiten des Lockdowns und der Coronakrise gesehen, wie wichtig die Produktion und die flächendeckende Versorgung mit Lebensmitteln sind, Seit dem Lockdown, seit einigen Monaten beobachten wir, dass bei den Hilfspaketen, beginnend mit kleinen Hilfspaketen, die Türkisen beson­ders straucheln., Ob in der Arbeitswelt oder im Privatleben, es war uns auch während des Lockdowns großteils möglich, miteinander Kontakt zu halten und in man­cherlei Hinsicht Arbeitsprozesse zu vereinfachen und effizienter zu gestalten., Geschätzte Kollegin­nen und Kollegen, wir müssen aber darüber reden, was die Coronakrise, was der Lock­down mit unserer Gesellschaft macht, was das für unsere Gesellschaft bedeutet.\n",
      ", Nun hat sich anlässlich der Covid-Krise herausgestellt, dass manche, die zum Beispiel projektbezogen eine solche befristete Stelle haben, ihre Projektaufgaben durch den Coronalockdown nicht zeitge­recht erledigen konnten., „Sozial schwächere Gruppen, auch Frauen“ – und Arbeitslose – „seien am stärksten getroffen.“ Heute schreiben wir den 8. Juli, 117 Tage sind seit dem Lockdown vergangen, und wir behandeln jetzt eine Regierungsvorlage hinsichtlich einer Einmalzahlung beim Bezug von Arbeitslosengeld und Familienbeihilfe.\n",
      ", Der Lockdown war notwendig., Ich möchte ihnen Danke dafür sagen, dass sie in der Zeit des Lockdowns unsere Gesellschaft durch die Krise getragen haben und die Stütze der Gesellschaft in der Zeit des Lockdowns waren.\n",
      ", Weil wir beschlos­sen haben, diese Unterstützung ab 16.3., mit dem Lockdown, zu gewähren, ist es tech­nisch möglich, das jetzt mit der Juliauszahlung mitzuüberweisen, sodass die Menschen sichergehen können und eine Planungssicherheit haben, wann sie dieses Geld bekommen., Sie sind noch im April, Sie versuchen noch, die Probleme, die im März-Lockdown entstanden sind, zu lösen.\n",
      ", dass der Umsatzrückgang allein für Österreichs Gastronomie während des Corona-Lockdowns täglich ca 60 Millionen Euro betrug und laut Experten auch nicht wieder aufholbar ist, Es ist ja auch nicht so, dass Unternehmen Planbarkeit haben, denn keiner weiß, ob nicht im Herbst der nächste Lockdown kommt.\n",
      ", auch rückwirkend bis zum Lockdown, Auch wenn wir viele Maßnahmen gesetzt haben, um die Ge­sellschaft, um unsere Familien entsprechend zu unterstützen, war in diesem Lockdown dennoch eine Steigerung der Gewaltbereitschaft spürbar., Während des Lockdowns und seit dem Lock­down sind leider die Fälle gestiegen und auch die Zahl der Annäherungsverbote ist ge­stiegen.\n",
      ", Die Frechheit ist in Wahrheit aber, dass man mit den Heldinnen und Helden des Lockdowns, jenen Leuten, die in der schwierigen Zeit für uns da waren – die Ärztinnen und Ärzte, die Menschen in den Gesundheitsberufen, aber auch unsere Polizistinnen und Polizisten –, nicht ein Wort geredet und gefragt hat: Wollt ihr das, die Nachverfolgung von kranken Menschen, überhaupt machen?\n",
      ", Dass das Krisenmanagement in Österreich funktioniert und die Maßnahmen zum richtigen Zeitpunkt gesetzt wurden, beweist ein Blick über unsere Grenzen: nach Schweden, das immer wieder von jenen, die den Lockdown eigentlich nicht wollten, ge­nannt wird und wo es eine Mehrzahl von Todesfällen im Vergleich zu den anderen eu­ropäischen Ländern gibt; neben Nord- und Südamerika – heute in den Zeitungen: in Nordamerika sind es über 3 Millionen Infizierte – oder auch neben Israel, wo sich sehr viele Schüler in der Schule und bei den Feiern angesteckt haben.\n",
      ", Im Bereich der Umwelteinflüsse, vor allem im Bereich der Luftverschmutzung, gab es zuletzt eine heftige Diskussion, weil die Luftverschmutzung durch den Lockdown ja teil­weise zurückgegangen ist.\n",
      ", Bevor ich auf den Bericht eingehe, möchte ich aber noch die Gelegenheit nützen, auch dem ORF, um den es jetzt im letzten Bericht geht, für die hervorragende Arbeit während der Zeit des Lockdowns und danach zu danken.\n",
      ", Sie ist aber eine kreative Künstlerin, die sich im Lockdown – zu dem Zeitpunkt, zu dem die Künstler ja auch im Regen stehen gelassen worden sind, denn da hat es auch nichts gegeben, man hat sie ja auch auf der Straße stehen lassen – darüber Gedanken gemacht hat.\n",
      ", Produzieren wir deshalb einen Lockdown?\n",
      ", Man könnte hergehen und sagen: Ja, selbstverständlich ist es so, dass die von Ihnen ver­ordnete Ganzjahresmaskerade – der einzige Maskenball, der das ganze Jahr noch statt­findet  – natürlich auch dazu beiträgt, diese Grippeepidemie einzudämmen; dass ein Lockdown natürlich diese Zahl von 1 000, 4 000 Toten auch reduzieren würde.\n",
      ", Kommt ein neuer Lockdown, dann könnte sogar die Zahl von zwei Millionen Betroffenen erreicht werden.\n",
      ", Verordnungsermächtigungen ermöglichen es der gesamten österreichi­schen Bundesregierung und einzelnen Ressortministern, einen neuen Lockdown unmit­telbar umzusetzen, in die Grund- und Freiheitsrechte der Bürger, Gewerbetreibenden, Freiberufler und Vereinsmitglieder „polizeistaatlich“ einzugreifen und Gesetze nach Be­lieben per Verordnung zu verlängern, Herr Kickl, Sie haben im März, ein paar Tage bevor die eigentlichen Ausgangsbeschränkungen gekommen sind, selber gefordert, dass es der radikale Lockdown sein muss.\n",
      ", Man wusste schon Ende März, dass die Infektionsrate von selber abgeflacht ist – allein durch die Disziplin der österreichischen Bevölkerung – und es in Österreich gar keinen Lockdown gebraucht hätte, es vor allem diese lange wirkenden Maßnahmen gar nicht gebraucht hätte.\n",
      ", das erste Ziel von uns allen – bei allen Schwierigkeiten, die wir sonst haben, Diskursen, die wir führen – muss sein, dass es keinen zweiten Lockdown in Österreich mehr braucht, denn der wäre wirtschaftlich fatal, der wäre gesundheitspolitisch verheerend und der würde uns auch in der sozialen Lage in Österreich große, große Schwierigkeiten bereiten, Meine sehr verehrten Damen und Herren, nur kurz zwei Sätze zu den kritischen Stim­men, die ich heute noch gehört habe: Das eine: Herr Kickl, Sie waren ja vor wenigen Monaten noch der Vorreiter in Sachen Lockdown, mit einem Höllentempo, haben gefor­dert, gefordert, gefordert , und heute sind Sie der Chefcoronaleugner der Republik.\n",
      ", Der zweite Wahnsinn aus meiner Sicht ist, dass Sie mit diesen Betretungsverboten durch die Hintertür wiederum in diesen einzelnen Gebieten einen umfassenden Lockdown ma­chen können.\n",
      ", ein Lockdown ist nur noch zehn Tage lang möglich;, Als wir im Februar den Lockdown gefordert haben, als wir gefordert haben, es müsse etwas passieren, hat sich die Regierung zurückgelehnt, hat gesagt: Es ist alles gut!\n",
      ", Dann ist der Lockdown ausgerufen worden, und was ist passiert?\n",
      ", Für all das, was er mit Verordnungen im Frühjahr schon durchgesetzt hat – bis zum Lockdown, den er verhängt hat, aber nicht hätte verhängen dürfen –, verschafft er sich jetzt die gesetzliche Grundlage.\n",
      ", – Da sind Ausgangsverbote bis zum kompletten Lockdown drinnen, da sind Betretungsverbote für den öffentlichen Raum drinnen – für einzelne, bestimmte Plätze, aber auch für den gesamten öffentlichen Raum.\n",
      ", Sehr geehrte Damen und Herren, ich sage ganz klar: Wir wollen den Lockdown mit allen Mitteln verhindern, mit allen Mitteln, die uns zur Verfügung stehen.\n",
      ", Vom Lockdownforderer bis zum Virusleugner – aber jetzt weg von der Literatur, Herr Kickl, das ist es nicht wert., Wir wollen einen zwei­ten Lockdown verhindern, und wir wollen, dass die Schulen offen bleiben, aber die Eltern können, wenn die Zahl der grippalen Infekte wieder zunimmt, sehr schnell in die Situation kommen, dass sie Zeit für die Kinder zu Hause brauchen, daher diese gesetzliche Regelung bis Ende Februar: eine gute Lösung im Sinne unserer Familien mit Kindern., Ich habe zu Beginn des Lockdowns hier im Hohen Haus gesagt, dass sich unsere Kinder darauf verlassen, dass wir Erwachsenen gute Entschei­dungen treffen.\n",
      ", Ich glaube, es wäre fair und richtig, dass man da für den Betrachtungszeitraum den 15. März ansetzt; da ist der Lockdown erfolgt.\n",
      ", In der Coronaausnahmesituation während des Lockdowns hat es in den Familien sehr gut funktioniert, weil die Eltern ganz selbstverständlich eingesprungen sind und die dop­pelte bis dreifache Belastung auf sich genommen haben, Das Leben mit Kindern ist ja wunderschön, aber dennoch sind viele Eltern in der Zeit während des Lockdowns bis an die Grenzen des Machbaren gegangen., wäh­rend der Zeit des Lockdowns, Zuerst kamen der Lockdown und die Maßnahmen der Regierung, jetzt zittern diese Menschen um ihren Arbeitsplatz.\n",
      ", Für Kinder, deren Eltern getrennt leben, war insbesondere die Zeit des Lockdowns eine große Herausforderung.\n",
      ", Zusätzlich darf nicht vergessen werden, dass während der Lockdown-Phase Home Schooling, keine Treffen mit Freundinnen und Freunden, keine sozialen Kontakte außerhalb des Familienverbandes - eine enorme Belastung für Kinder und Jugendliche darstellte., Auch der Kinder- und Jugendnotruf \"Rat auf Draht\", der telefonisch rund um die Uhr sieben Tage die Woche erreichbar ist und die Beratung anonym sowie kostenlos durch­führt, berichtete besorgniserregende Entwicklungen seit Beginn der Corona Pandemie bzw. der Lockdown-Phase., •             Erhebung zum konkreten Wissensstand von Kindern und Jugendlichen, um ge­zielte Angebote setzen zu können und zu wissen, wie der Corona-Lockdown sich im Detail ausgewirkt hat.\n",
      ", während des Lockdowns nicht signifikant angestiegen, Hier wird und wurde schon beim ersten Lockdown oder in der ersten Phase der Krise absolut willkürlich und sinnbefreit agiert, einen Lockdown gegeben hat, der maßgeblich von der Bundesregierung initiiert worden ist, Der Live-Indikator der Österreichischen Nationalbank zeigt zwar momentan eine Erholung im Vergleich zum Lockdown an , doch zuletzt hat die Dynamik wieder leicht abgenommen., Im Lockdown waren 189.000 Menschen weniger beschäftigt als noch im Vorjahr.\n",
      ", vom Lockdown im März massiv getroffen, Das große Damoklesschwert, das über den Unternehmen, den Unternehmerinnen und Unternehmern in diesem Land hängt, ist die Möglichkeit eines zweiten Lockdowns.\n",
      ", Was würde es wirklich bedeuten, wenn ein zweiter Lockdown kommt, Ich fordere in diesem Antrag von der Bun­desregierung, dass sie einen zweiten Lockdown ausschließt.\n",
      ", Sie wissen, welche fatalen Folgen dieser Lockdown für die Wirtschaft und vor allem für die gesamte österreichische Bevölkerung haben würde.\n",
      ", betreffend „Zweiten Lock­down ausschließen –, Der Antrag hat folgenden Gesamtwortlaut: des Abgeordneten Erwin Angerer und weiterer Abgeordneter betreffend Zweiten Lockdown ausschließen – Planungssicherheit für die Wirtschaft her­stellen eingebracht im Zuge der Debatte zu TOP 2: Bericht des Tourismusausschusses über den Antrag 900/A der Abgeordneten Karl Schmidhofer, Barbara Neßler, Kolleginnen und Kollegen betreffend ein Bundesgesetz, mit dem das Bundesgesetz über besondere För­derungen von kleinen und mittleren Unternehmen  geändert wird  in der 55.\n",
      ", In den letzten Monaten mussten sich viele Betriebe und Unternehmen in Folge von COVID-19 und des verordneten Lockdowns massiv verschulden und befinden sich nach wie vor, wenn auch mit branchenabhängigen Unterschieden, in einer wirtschaftlich äu­ßerst schwierigen Lage., Für zusätzliche Verunsicherung und damit weiterhin fehlende Planbarkeit für die heimi­schen Unternehmen und Beschäftigten sorgt der seit Wochen immer wieder auch von Regierungsseite ins Spiel gebrachte mögliche zweite Lockdown.\n",
      ", So schloss ausgerechnet Wirtschaftsministerin Schramböck einen zweiten Lockdown gegenüber der Kleinen Zeitung vom 8. Oktober 2020 mit den Worten: „Ich habe keine Glaskugel. Israel hätte sich auch nicht gedacht, dass es dazu kommenwird.” nicht aus.\n",
      ", die Auswirkungen eines zweiten Lockdowns für die Wirtschaft in Öster­reich, Ein neuerlicher Lockdown freilich könnte die Wirtschaftsleistung im vierten Quartal auf das Niveau des zweiten Quartals herunterdrücken und im gesamten Prognosezeitraum einen Wertschöpfungsverlust von 4,5 Prozent bewirken, warnt das Wifo.“ APA0140 Fr, 09.Okt 2020 Vor dem Hintergrund dieser dramatischen Auswirkungen eines zweiten Lockdowns ist es dringend erforderlich, dass die Bundesregierung umgehend öffentlich einen zweiten Lockdown in Österreich ausschließt.\n",
      ", In eben diese Kerbe schlägt die Wirtschaftskammer, wenn Präsident Mahrer und Gene­ralsekretär Kopf in diesem Zusammenhang in einer Aussendung vom 9. Oktober 2020 „wirtschaftspolitische Vernunft“ und die Verhinderung eines neuerlichen Lockdowns ein­fordern: „Viele österreichische Betriebe werden weiterhin mit der größten Wirtschaftskrise der vergangenen Jahrzehnte ringen.\n",
      ", Ein zweiter Lockdown ist undenkbar und daher unter allen Umständen zu vermeiden., wenn die Bundesregierung einen Lockdown definitiv ausschließt, umgehend und öffentlich einen zweiten Lock­down definitiv auszuschließen, um so die dringend erforderliche Planungssicherheit für die Unternehmen sicherzustellen und damit positive Signale für die Betriebe und ihrer Beschäftigten auszusenden, Als vergangene Woche dort der erste Corona-Fall bekannt wurde, wurde der Lock-down noch einmal verschärft., Der beste Weg, eigent­lich der einzige Weg, dieses Thema nachhaltig aus der Welt zu schaffen, ist es, die Co­vid-19-Zahlen in Europa und Österreich nachhaltig in den Griff zu kriegen, denn schließ­lich haben wir alle hier in diesem Raum ein gemeinsames Ziel, nämlich mit aller Kraft einen zweiten Lockdown zu vermeiden und den Weg aus der Krise zu finden., Das Damoklesschwert eines möglichen Lockdowns schwebt im Raum, und das kommt nicht von der Opposition – weil Sie so schauen, Herr Kollege Wöginger –, das kommt von Ihrer eigenen Wirtschaftsministerin, die das vor einer Woche gesagt hat, meine Damen und Herren, die das medial gesagt hat., es natürlich kontraproduktiv, wenn Ihre Kollegin Schramböck in den Medien he­rumfantasiert, ob es vielleicht einen zweiten Lockdown geben wird oder nicht, Wenn man ein Unternehmer ist und überlegt, eine Investition zu tätigen, und dann kommt die Wirtschaftsministerin und redet von einem zweiten Lockdown, dann denkt man sich: Na, wenn sogar die über einen Lockdown nachdenkt, ist er eher wahrscheinlich.\n",
      ", Denken Sie nicht an einen Lockdown!\n",
      ", Wir planen keinen Lockdown.\n",
      ", – Natürlich denken alle an einen Lockdown, wenn Sie in Ihrer Regierung immer von einem Lockdown schwätzen.\n",
      ", Die Wirtschaftsministerin phantasiert jetzt schon vom nächsten Lockdown, der Gesundheitsminister sagt: Nein, Lockdown wird es keiner!, aber wir wissen aus dem COVID-19-Maßnahmengesetz, dass Betretungsverbo­te auch verhängt werden können, ohne dass es ein völliger Lockdown wird – also die Unsicherheit ist gestreut.\n",
      ", Vielleicht eine Zahl: Einen Lockdown haben mittlerweile 82 Staaten auf dieser Welt realisiert.\n",
      ", Mein Ziel – und ich denke, unser aller Ziel – ist es, dass wir die geeigneten Maßnahmen jetzt setzen, damit es in Österreich nie mehr einen weiteren Lockdown braucht.\n",
      ", Wir wissen aus Modellierungsversuchen, dass die Um­setzung des Lockdowns – im Frühling, im März des heurigen Jahres – eine Woche spä­ter bedeutet hätte, dass wir viermal mehr Infektionen gehabt hätten.\n",
      ", Der richtige Zeitpunkt der Forderung nach einem Lockdown, im Übrigen viel umfassender formuliert, als wir ihn dann umgesetzt haben - -  – Ich finde es ja spannend, dass einer, der Corona sonst verharmlost, jetzt darauf drängt, dass man den Lockdown früher hätte verwirklichen müssen., Zur Frage 22 – das ist die Antwort auch zu den Fragen 26 und 28 –: Alle unsere Maßnahmen und unser Handeln dienen dem Ziel, einen zweiten Lockdown zu verhindern.\n",
      ", dass ein Lock­down nur im äußersten Fall, nämlich bei einem drohenden flächendeckenden Zusam­menbruch unseres Gesundheitssystems, und nur mit Zustimmung des Hauptausschus­ses des Parlaments möglich wäre, Ich möchte zum Schluss noch einen Satz sagen, der mir auch mit Blick auf die Phasen des Lockdowns – weil ja hier immer ein zweiter Lockdown im Raum steht – wichtig ist., Eine letzte Bemerkung noch, weil es hier heute einmal geheißen hat, das rosa Einhorn oder – ich glaube – der rosa Elefant, der Lockdown, wird immer und immer wieder ins Spiel gebracht: Also der Minister rennt seit Wochen sozusagen durch die Gegend und sagt in jedes Mikrofon, das ihm unter die Nase gehalten wird: Wir sind meilenweit von einem Lockdown entfernt!\n",
      ", die ihr euch ständig hinstellt und die ganze Zeit von einem Lockdown redet und die ganze Zeit irgendwelche entsprechenden Gerüchte streut, Kollege Schallmeiner hat erklärt, es würde nur die Opposition von einem zweiten Lockdown reden.\n",
      ", – Ich berichtige tatsächlich: In der Diskussion der Wiener SpitzenkandidatInnen am 6. Oktober hat Birgit Hebein einen zweiten Lockdown nicht ausgeschlossen, und am 8. Oktober konnte man in der „Kleinen Zeitung“ lesen, dass ÖVP-Ministerin Schramböck einen zweiten Lock­down nicht ausschließt.\n",
      ", Wir wissen, dass wir keine tatsächliche Berichtigung von einer tatsächlichen Berichtigung machen können, aber, Herr Loacker, ich möchte das hier schon richtigstellen: Sie behaupten, Kollegin Hebein hätte gesagt, sie kann sich einen zweiten Lockdown vorstellen.\n",
      ", Was ich vermisst habe, ist ein Bekenntnis dazu, dass es auch Sie mit Ihrem doch überaus scharfen Lockdown waren, der letztlich bewirkt hat, dass die Unternehmen in die Krise geschlittert sind, dass Einnahmen von einem Tag auf den anderen weggebrochen sind, die Kosten weiter­gelaufen sind und Menschen ihren Job verloren haben.\n",
      ", Ich möchte auch ganz bewusst nach Deutschland schauen, wo damit und auch mit der Verantwortung, die eine Regierung in der Frage: Lockdown, ja oder nein?, hat, ganz anders umgegangen wird., mit dem Lockdown verursacht haben, wobei Sie gleichzeitig auch den Entschädi­gungs­anspruch vor allem der Unternehmer abgeschafft haben, Ein Damoklesschwert bei den aktuellen Wirtschaftsprognosen ist ein möglicher zweiter Lockdown.\n",
      ", Dieser zweite Lockdown wäre natürlich der Todesstoß für die heimische Wirt­schaft.\n",
      ", Der Lockdown – und die NEOS haben bei dieser Entscheidung am Anfang mitge­stimmt – hat unsere Wirtschaft um 25 Prozent einbrechen lassen – die schrittweisen Lockerungen haben dann jedoch spürbar zur Entlastung und Erholung beigetragen., – Sie haben es ja heute schon getan: Sie haben gestern einen zweiten Lockdown ausgeschlossen, jetzt schließen Sie in Kuchl alles.\n",
      ", Gestern haben Sie noch gesagt, Sie schließen einen zweiten Lockdown aus.\n",
      ", Diese Maßnahme unterstützt jene Betriebe, die durch den Lockdown besonders von einem Umsatzeinbruch betroffen sind.\n",
      ", Wir sehen allein aus den IHS-Studien zum Lockdown, dass mindestens 140 000 Kinder von der Schule nicht oder nur unzulänglich erreicht werden konnten.\n",
      ", Es war in so einer Zeit wirklich nicht einfach, ein Volksbegehren am Laufen zu halten und Unterschriften zu sammeln: Es gibt eine Pandemie, die sehr viel der öffentlichen Aufmerksamkeit genom­men hat; es gab dann Computer- und IT-Pannen – auch beim Innenministerium –; und dann war Ende Juni die Eintragungswoche, nach einem Lockdown, da sind viele Men­schen zu Hause geblieben, weil sie eher nicht mit anderen Menschen am Gemeindeamt in der Schlange stehen wollten.\n",
      ", Besonders im Lockdown verloren fossile Energieträger wie Kohle und Gas schlagartig an Bedeutung., Es war ein noch lauer Abend, der letzte vor dem Lockdown, viele waren noch essen oder mit Freunden unterwegs.\n",
      ", Es war der Abend vor dem Lockdown.\n",
      ", Er hat gesagt, gleich als Erstes nach dem Lockdown wird er „in das Lokal zurückkehren und mit den Kellnern dort ein Bier trinken, weil mein Lieblingslokal lasse ich mir von dem nicht wegnehmen“.\n",
      ", – wehrlos erschossen wurden, unschuldig erschossen wurden –, unschuldige Menschen, die an diesem Abend gemeinsam mit ihren Freunden etwas trinken waren, weil sie den Abend vor dem Lockdown noch genießen wollten, Es war nicht nur 4 Stunden vor dem Lockdown, es war auch der 2. November, an dem die katholischen Christen Allerseelen feiern.\n",
      ", Der zweite Lockdown – wir haben heute den ersten Tag dieses zweiten Lockdowns – wird diese Entwicklung und diese dramatische Situation noch weiter verschärfen.\n",
      ", Es war schon vor dem zweiten Lockdown so, dass das Wifo, das Wirtschaftsforschungsinstitut, davon ausgegangen ist, dass aufgrund dieser sieben, acht Monate Coronazeit das Bruttoinlandsprodukt in Österreich um 6,8 Prozent sinken wird – 6,8 Prozent weniger BIP!\n",
      ", Dieser Totallockdown, der heute startet, wird unsere Wirtschaft weiter einbrechen lassen und wird weiter Zehntausende, ja Hunderttausende Arbeitsplätze kosten.\n",
      ", Eine aktuelle Prognose des Wifo geht von einem Risikoszenario aus, dem zufolge es in Österreich aufgrund des neuerlichen Lockdowns zu einem Einbruch von über 9 Prozent kommen wird.\n",
      ", Die zweite Pleite- und Kündigungswelle der heimischen Wirtschaft hat schon begonnen, bevor der zweite Lockdown begonnen hat, nämlich vor einigen Monaten, vor allem in Bereichen der heimischen Großindustrie, aber auch im Bereich des Tourismus und der Gastronomie.\n",
      ", heute beginnt der Totallockdown für unser Land  – danke für diesen Hinweis, das freut ganz viele Österreicherinnen und Österreicher wirklich , dass durch die Wirtschaftshilfen, die jetzt durch diesen zweiten vollen Lockdown noch viel mehr werden, Ihr Budget sehr stark belastet ist,, Man muss sich nämlich vorstellen, dass wir in den kommenden Tagen mit dem Budget 2020/2021 ein Zahlenwerk diskutieren, das von der Regierung, die es vorgelegt hat, auch schon wieder zusammengeschossen worden ist, zusammengeschossen und zertrümmert worden ist, genauso wie es beim Budget 2020 der Fall gewesen ist, über das wir vor einigen Monaten diskutiert haben, und zwar mit derselben Methode zusammengeschossen, wie Sie es damals gemacht haben, nämlich mit der Verhängung eines totalen Lockdowns.\n",
      ", Zur Erinnerung: Dieser totale Lockdown ist derjenige, von dem uns die Vertreter dieser Bundesregierung erklärt haben, dass er gar nicht möglich ist., Der Herr Gesund­heits­minister hört heute noch die Enten quaken, seit damals, als wir diesen Lockdown in den Raum gestellt haben.\n",
      ", von dem Lockdown, der gerade jetzt kommt, wo die Infektionszahlen, mit denen Sie tagein tagaus die österreichische Bevölkerung bombardieren – nach dem Motto:, der gesamte harte Lockdown, den Sie jetzt verordnet haben, ist zahlenmäßig nicht einmal ansatzweise abgebildet, Die reiben sich angesichts Ihres Lockdowns die Hände, denn das sind die großen Profiteure.\n",
      ", dass wir uns nicht von einem Lockdown in den nächsten Lockdown und in den nächsten Lockdown und in den nächsten Lockdown hinüberturnen wollen, an dessen Ende dann ein groß angelegtes Menschen­experiment mit einer unausgegorenen Massenimpfung stehen soll, Noch etwas: Ich weiß ja nicht genau, wer aufseiten der Volkspartei den Lockdown zum jetzigen Zeitpunkt bestellt hat – wer aus dem Seilbahnbereich., Der einzige Lockdown, der Österreich helfen könnte, wäre der Lockdown für diese Bundesregierung.\n",
      ", zwar wirklich sehr harte, Lockdown in Kraft tritt, Der zweite harte Lockdown trifft die Menschen in Österreich mit voller Wucht.\n",
      ", Es zahlen die Arbeitnehmerinnen und Arbeitnehmer, Unternehmerinnen und Unternehmer, Lehrerinnen und Lehrer, Eltern und Kinder den Preis für Ihre Versäumnisse, die Zeche für die Fehler der vergangenen Monate, da Sie nicht alles darangesetzt haben, diesen zweiten harten Lockdown zu verhindern.\n",
      ", Besonders eindrucksvoll war ein Brief einer Mutter dreier Kinder, die mir geschrieben hat, dass sie und ihr Mann schon im Frühjahr, beim ersten Lockdown, ihren Job verloren haben., In die Zukunft zu gehen aber, auch mit der Digi­talisierung, bedeutet in so einer Situation nicht, dass schon wieder Chaos ausbricht, wenn der Lockdown kommt, und sowohl Lehrerinnen und Lehrer als auch Eltern und die Kinder nicht wissen, was sie jetzt tun sollen: Sollen sie zu Hause bleiben, weil sie da vielleicht die besseren Unterrichtsstunden über Zoom bekommen, oder sollen sie in die Schule gehen, weil dort der bessere Unterricht stattfindet?\n",
      ", Wenn ich gerade von der Vorrednerin höre, dass die Regierung so wenig getan hat, um diesen Lockdown, der jetzt wieder da ist, abzuwenden – bitte schön, Alle Aufrufe zur Eigenver­antwortung und alle Auflagen, die von der Regierung gekommen sind, um den zweiten Lockdown zu verhindern, das war für euch alles ein Blödsinn.\n",
      ", Es ist unverantwortlich, dass SPÖ und NEOS – von den Freiheitlichen will ich gar nicht reden – beim Beschluss dieses Lock­downs nicht mitgegangen sind, Wir wissen, dass es um Milliarden danebenliegt, nämlich aufgrund des Lockdowns, und das letzte Mal haben wir als Oppo­sitionsparteien hier darauf hingewiesen: Das Hohe Haus darf wissentlich keine falschen Zahlen beschließen!\n",
      ", durch den Lockdown eins und den Lockdown zwei vollkommen überholt, Aufgrund des völligen Versagens der Regierung im Corona-Krisen Management – in den USA sind unter einem Präsidenten Trump die Zahl der Neuinfektionen geringer als in Österreich – musste ein zweiter Lockdown beschlossen werden und man muss mit lockdownähnlichen Maß­nahmen bis Jahresende rechnen., Ja, dieses Budget 2021 entsteht unter äußerst schwierigen Bedingungen, und – keine Frage –, der Lockdown wird massive Auswirkungen auf das Budget haben, auf das heurige aber.\n",
      ", Noch kurz zur Abstimmung in Bezug auf die Verordnung zum Lockdown, Dieser Lockdown hätte verhindert werden können und auch müssen.\n",
      ", Am 6. November ist die Bevölkerung noch davon ausgegangen, dass der sogenannte Lockdown light, also der zweite Lockdown, bis 30. November dauern wird.\n",
      ", Im Budget­hearing hat aber bereits der Regierungsexperte Prof. Badelt aufhorchen lassen, denn er ist bereits damals, am 6. November, davon ausgegangen, dass dieser Lockdown bis eine Woche vor Weihnachten dauern wird.\n",
      ", Auch in Wien hatten wir einen prominenten Fall, dass ein mit dem Bundeskanzler befreundeter Unternehmer die Schließung seines Lokals bereits zu einem Zeitpunkt angekündigt hat, zu dem die Bevölkerung noch keine Kenntnis über die Details des bevorstehenden zweiten Lockdowns hatte.\n",
      ", Letzten Freitag hatten wir die Schlussberatungen im Budgetausschuss, und am Freitag titelte der „Kurier“ bereits: „,Gefahr im Verzug‘: So soll der neue, harte Lockdown aus­sehen“.\n",
      ", – Und was, glauben Sie, hat mir Herr Finanzminister Blümel am Freitag geantwortet, als ich ihn nach den budgetären Auswirkungen des harten Lockdowns gefragt habe?\n",
      ", in dieser Verordnung über den harten Lockdown drinnen stehen wird, die er gemeinsam mit anderen Mitgliedern der Bundesregierung am nächsten Tag bekannt gegeben hat, Das heißt, der „Kurier“ und andere Medien wussten, was in dieser Verordnung steht , der Finanzminister wusste es nicht, und die Konsequenzen des zweiten Lockdowns, des harten Lockdowns, sind auch nicht in diesem Budget enthalten.\n",
      ", Der Lockdown light wurde im Budget 2021 mit circa 1,6 Milliarden Euro berücksichtigt.\n",
      ", Der harte Lockdown ist – wie bereits erwähnt – im Budget 2021 nicht abgebildet und wird auch nicht abgebildet werden, obwohl der Finanzminister hiezu noch einige Tage Zeit hätte.\n",
      ", Lassen Sie mich abschließend noch auf den Lockdown-Umsatzersatz eingehen:, Richtigerweise müssten für den Lockdown-Umsatzersatz die Finanzämter zuständig sein, und dann könnte man den Lockdown-Umsatzersatz auch antragslos – so wie bei der Familien­beihilfe – ausgestalten., Herr Finanzminister, Sie haben uns vor ungefähr einem Monat den Entwurf Ihres Bud­gets für 2021 vorgelegt – das war vor dem leichten Lockdown, es war vor allem aber vor dem harten Lockdown, der heute um 0 Uhr in Kraft getreten ist., Diesbezüg­lich sind wir nicht die Einzigen, die das sagen, es wurde schon von vielen Seiten attes­tiert, dass im Sommer vieles verschlafen worden ist – auf jeden Fall wurde verschlafen, eine entsprechende Abbildung dieses Lockdowns im Budget darzustellen., Darüber hinaus möchte ich auch ganz klar sagen: Falls es im Winter zu einem dritten Lockdown kommt, dann können Sie auch dieses Budget wieder in den Papierkübel schmeißen., Jetzt haben wir den harten Lockdown – da gibt es vorsichtige Berechnungen und Schätzungen, bei denen es heißt, es werden wahrscheinlich eher 450, Dieser harte Lockdown wird uns ungefähr fünf Jahre kosten, Ab heute gilt in Österreich ein verschärfter Lockdown, die Auswirkungen auf das gesell­schaftliche und wirtschaftliche Leben sind beträchtlich., Egal wann es einen solchen Lockdown gibt, für die Wirtschaft gibt es keinen guten Zeitpunkt für eine solche Maßnahme, und gerade vor dem anlaufenden Weihnachts­geschäft ist dieser Schritt natürlich besonders schmerzhaft., In Deutschland sind der Lockdown und die damit verbundenen Wirtschaftshilfen eine Woche früher als in Österreich angekündigt worden;, die durch die Verschärfung des Lockdowns jetzt neu betrof­fen sind, Das bestätigt auch IHS-Chef Martin Kocher in der Tageszeitung „Die Presse“ am 16.11., er sagt dort zum Lockdown: „Die Alternativen sind schlechter als das, was jetzt passiert“.\n",
      ", Aber natürlich: Der Lockdown hat auch Auswirkungen auf das Wachstum 2021 – das ist völlig richtig – und auf die Einnahmen des Staates., Leider mussten wir aufgrund der Entwicklung der Infektionszahlen in einem zweiten Lockdown Betriebe der Hotellerie, der Gastronomie – im ersten Schritt – und jetzt, ab heute, leider auch viele andere Betriebe und Einrichtungen schließen.\n",
      ", dass es sehr schnell, nämlich innerhalb von wenigen Tagen, von ein, zwei Wochen, gelungen ist, zunächst für die Hotellerie und Gastronomie für diese Phase des Lockdowns mit dem 80-prozentigen Umsatzersatz rasche Hilfe bereitzustellen, wozu Kollege Schellhorn, der ja sonst nicht um Kritik an den Regierungsparteien und auch am Herrn Finanzminister verlegen ist, immerhin getwittert hat: „Ratz/Fatz – 5 min mit Finanzonline“, und jetzt auch der Umsatzersatz für die weiteren vom Lockdown betroffenen Branchen und Unternehmen rasch in die Gänge kommen und bei den Betrieben ankommen, Heute verhandeln wir ein Budget, das auf einer Datenbasis berechnet worden ist – und das hat der Finanz­minister ja auch gar nicht abgestritten –, in der dieser neuerliche harte Lockdown gar nicht berücksichtigt ist.\n",
      ", offensichtlich so getan, als wüssten Sie nichts von diesem harten Lockdown, dass der Lock­down soft bis kurz vor Weihnachten dauern wird, Es ist aber schon spannend, dass ein befreundeter Unternehmer vom Herrn Bundes­kanzler und von Ihnen in Wien schon Wochen, bevor dieser sanfte Lockdown gekommen ist, geschrieben hat,, Kommt ein sanfter Lockdown, kommt ein scharfer Lockdown?\n",
      ", – Meine Damen und Herren, das ist die perfide Politik der ÖVP, die Sie jetzt seit Monaten betreiben und die uns jetzt schon wieder in einen Lockdown geführt hat, der für viele Leute draußen eine echte existenzielle Bedrohung ist.\n",
      ", Schon nach dem ersten Lockdown war es so, dass viele Unternehmer nicht gewusst haben, wie sie denn diese Verluste aufholen und ausgleichen sollen, aber jetzt tun sie sich noch viel, viel, viel schwerer., Erst am Mittwoch letzter Woche – es ist noch nicht einmal eine Woche her – sind wir hier herinnen gesessen und haben den Lockdown light verlängert.\n",
      ", Über die Sommermonate und nach Ende des Ersten Lockdown sind die Arbeits­losen­zahlen zwar kurzfristig wieder zurückgegangen,, Sie ist ein gutes Beispiel dafür, wie Kunst- und Kulturinstitutionen, aber auch -initiativen, Künstler, Künstlerinnen, wer auch immer, versuchen, Formate zu finden, wie sie in diesem Lockdown arbeiten können.\n",
      ", Es gibt den erst kürzlich im Sommer eingerichteten Überbrückungsfonds: Es gibt jetzt einen Lockdownbonus, 1 300 Euro dazu, also sind es im November 2 300 Euro, und ich kriege Gott sei Dank immer mehr Zuschriften, dass Leute darum ansuchen und das auch sehr rasch bekommen – da möchte ich mich bei all jenen bedanken, die das in der Sozialversicherung verwalten.\n",
      ", mir ist wichtig, zu sehen, dass es die Künstler und Künstlerinnen sind, die Formen finden,, Vor allem auch dieser zweite Lock­down, in den wir mit dem heutigen Tag gehen mussten, trifft diese Bereiche ganz besonders hart – an dieser Stelle ein ganz großes Dankeschön an das Finanz­ministerium, an die Mitarbeiterinnen und Mitarbeiter und vor allem auch an Finanz­minister Gernot Blümel, dass es innerhalb weniger Tage gelungen ist, diesen 80-pro­zentigen Umsatzersatz aufzustellen, ihn sehr rasch und unbürokratisch abzuwickeln und damit für diese Branche wirklich auch eine bestmögliche Unterstützung zu bieten., Liebe Kolleginnen und Kollegen, obwohl sich auch Westeuropa im Teillockdown oder in Zuständen eines Lockdowns befindet, hat Westeuropa Schulen offen gehalten, – Diese Regierung und der Bundeskanzler wahrscheinlich nicht, denn das vorgelegte Budget adressiert in keinster Weise die Defizite aus dem ersten Lockdown und schon gar nicht jene aus der jetzigen Situation., Wir haben noch im Oktober von einem Minus von 6,8 Prozent gesprochen, mittlerweile sind es 7,7 Prozent, und nach dem Lockdown geht es Richtung 9 Prozent.\n",
      ", Er hat aber gemeint, wir könnten uns das leisten, weil es in den letzten Jahren eine solide Budgetpolitik gegeben habe, und es werde alles getan, um einen zweiten Lockdown zu verhindern.\n",
      ", Mittlerweile fragen sich aber viele Österreicher: Was wurde getan, um diesen zweiten Lockdown zu verhindern?\n",
      ", Warum werden Beatmungsgeräte ins Ausland verliehen, wenn der einzige Grund eines Lockdowns der ist, dass unser Gesundheitssystem über­lastet werden könnte?\n",
      ", – Wir haben den zweiten Lock­down.\n",
      ", Wie im Frühjahr treffen der Lockdown und das Budget aufeinander.\n",
      ", Natürlich kommen mit dem zweiten Lockdown erhebliche Schäden auf die heimische Volkswirtschaft zu.\n",
      ", ohne diesen Lockdown wären die Schäden vermutlich noch größer, Die Staatshilfen werden auf alle ausgeweitet, die aufgrund des erweiterten Lockdowns ihren Betrieb schließen mussten.\n",
      ", wenn der Lockdown, vor allem für den Tourismus, noch länger gilt, die über die Dauer des aktuellen Lock­downs weit hinausgeht, falls es wie aktuell zu einem Lockdown kommt, Es gilt daher, so rasch wie möglich das gesamte Beihilfenrecht auszunutzen und einen Fixkostenzuschuss  auch nach 107 für den Fall des Lockdowns umzusetzen - Unternehmen, die behördlich geschlossen werden, wissen, dass sie für diese Zeit mit einem Verlustausgleich rechnen können, Weitere Lockdowns sollen unbedingt verhin­dert werden - trotzdem sollen in rechtzeitigen Gesprächen mit der Europäischen Kom­mission Hilfen vorbereitet werden, um bei Schließung schnell wirken zu können., wie die Verluste seit dem ersten Lockdown cash-wirksam kompensiert werden, Der Fixkostenzuschuss soll sowohl für den Lockdown-Fall als auch für den Nicht-Lockdown-Fall wirken.\n",
      ", Es werden sich zwar je nach Lockdown die beihilfen­recht­lichen Möglichkeiten ändern, aber es darf sich für Unternehmen der Behördenweg und das Instrument nicht ändern.\n",
      ", Lockdowns dafür genützt werden, um auf eine langfristig wirksame Corona-Strategie umzustellen., Diese Zahlen, sehr geehrte Damen und Herren, sind sogar noch schöngerechnet, ja veraltet, denn sie basieren auf einer Prognose, die den aktuellen harten Lockdown gar nicht berücksichtigt.\n",
      ", offensichtlich aus den Erkenntnissen und den Erfahrungen des ersten Lockdowns und der ersten Welle überhaupt nichts gelernt, und zwar nicht nach dem totalen Lockdown, wie das Herr Bundeskanzler Kurz vorschlägt, sondern vorher, als evidenz­basierte Grundlage für weitere Maßnahmen, Stattdessen befinden wir uns nun im zweiten harten Lockdown, und das durch Zahlen, die das in keiner Weise hergeben.\n",
      ", Wie das als Begründung für einen harten Lockdown herhalten soll, das erschließt sich mir in keiner Weise.\n",
      ", Kommen wir zurück: Kollege Kaniak hat gerade bei den Zahlen, die dem Lockdown zugrunde liegen, so getan, als ob diese nicht stimmen würden.\n",
      ", Das ist der Grund, warum es eben seit Mitternacht einen harten Lockdown gibt.\n",
      ", warum auch dieser Lockdown alternativlos ist, weil die Medizinerinnen, die Mediziner, die Sanitäterinnen und Sanitäter, die Menschen, die in den Spitälern arbeiten, die dort jeden Tag dafür sorgen sollen, dass Menschen gepflegt werden, dass Menschen gesund gemacht werden, Es ist unsere Aufgabe als Politiker, diesen Menschen zu helfen, und das geht halt am besten, indem wir den Zustrom von erkrankten Menschen minimieren, und deshalb gibt es den Lock­down., hoffentlich so weit herunten sein, dass wir aus diesem Lockdown wieder aussteigen können, dann hoffentlich auch so weit herunten sein, dass wir keinen dritten Lockdown mehr brauchen, Aufgrund des neuen Lockdowns kann man davon ausgehen, dass im Jahr 2021 ebenfalls 2 Milliarden Euro für alle 2 095 Gemeinden in Österreich fehlen werden.\n",
      ", wie man den Lockdownverlierern budgetär unter die Arme wird greifen können, Es braucht ein Budget für spezielle Förderangebote, um die durch Lockdowns verlorene Bildungszeit wieder aufholen zu können.\n",
      ", Seit heute sind wir im zweiten Lockdown und – wir haben es schon gehört – die Folgen dieses Lockdowns sind nicht im Budget eingepreist.\n",
      ", Die Hilfestellungen, die wir angeboten haben – Rückverweis, überarbeiten, den nächsten Lockdown berücksichtigen –, werden schnöde abgewiesen., Nein, am ersten Tag des harten Lockdowns versammeln sich 183 plus 20 – nein, der Bundeskanzler ist weggeblieben – plus Personal hier, um ein Budget zu diskutieren, das Makulatur ist.\n",
      ", Gleichzeitig gibt es für einen Teil der Branchen 80 Prozent Umsatzentschädigung ohne Anrechnung von Kurzarbeit – super für die Betroffenen und vielleicht für den einen Monat ein bisschen eine Entschädigung dafür, dass Sie bis heute vergessen haben, für den Lockdown eins im Frühjahr den Großteil auszubezahlen.\n",
      ", Wenn ich mir diesbezüglich die neue COVID-19-Notmaßnahmenverordnung anschaue, die den zweiten Lockdown begründet, die Notwendigkeit des angeblich notwendigen zweiten Lockdowns, Bereits aufgrund des erzwungenen ersten Lockdowns, mussten viele dieser Orga­ni­sationen ihren Betrieb stark einschränken bzw. komplett einstellen., dass sowohl beim ersten Lockdown als auch jetzt beim zweiten der Staat reibungslos funktioniert , auch wenn das manche anders sehen, In diesem Sinne darf ich vielleicht anregen – und mein Dank gilt wirklich den Beam­ten/Beamtinnen, aber natürlich auch den Vertragsbediensteten, die ja bei Erwähnung des öffentlichen Dienstes sehr oft zu kurz kommen; also diese beiden Gruppen sind ganz zentral, sie halten unseren Staat aufrecht –: Lassen Sie sich nicht von den NEOS abbringen , sondern folgen Sie meinem Wunsch und zahlen Sie durchaus Prämien an all jene, die während des Lockdowns, aber auch im Sommer dieses Jahres Großes geleistet haben, aus!\n",
      ", in der ersten Lock­downphase gesehen, wie stark die Zahl der Anfragen bei der Volksanwaltschaft ge­stiegen ist und wie notwendig es auch ist,, Genau in der Woche, in der es wieder einen Lockdown gibt und das Thema wahr­scheinlich überlagert wird, in der laufenden Budgetdebatte oder im Zuge des Lockdowns medial untergehen, Damals haben wir die Sonderbetreuungszeiten beschlossen; und die Frau Minister hat sich im Sozialausschuss noch hingestellt und gesagt: Das gilt, wenn der Lockdown kommt und die Schulen zu sind!\n",
      ", In diesen schwierigen Zeiten, noch dazu während dieses Lockdowns, greifen ÖVP und Grüne nach dem Geld der hart arbeitenden Menschen in diesem Land., Arbeitsministerin Aschbacher hat heute die neuen Arbeitslosenzahlen präsentiert, die natürlich steigen – und das, bevor der zweite Lockdown seine Spuren hinterlassen konnte.\n",
      ", Wenn man die Coronapolitik der Bundesregierung so anschaut, dann müssen wir alle davon ausgehen, dass am 7. Dezember alle Sperren aufgehoben werden, das Infektionsgeschehen weitergeht und wir im Jänner oder im Februar den dritten Lockdown haben.\n",
      ", Die Vereine brauchen aber nicht nur für die Zeit des zweiten Lockdowns Planungssicherheit, sondern auch jetzt schon die Gewissheit, dass der Hilfsfonds für Vereine bis mindestens Ende des ersten Quartals 2021 verlängert wird.\n",
      ", Wenigstens haben Sie, sehr geehrter Herr Vizekanzler, jetzt, im zweiten Lockdown, zumindest schon verstanden, dass Spitzensport eine berufliche Tätigkeit ist und daher weiterlaufen muss.\n",
      ", Aus dem ersten Lockdown wissen wir bereits, dass sich der Gesund­heitszustand der Bevölkerung durch Bewegungsmangel massiv verschlechtert hat., Ich glaube, schon während des ersten Lockdowns wurde bewiesen, wie leis­tungsfähig der öffentliche Dienst trotz Homeoffice – überall, wo es gegangen ist – ist.\n",
      ", Schlussappell: Auch wenn derzeit wieder ein Lockdown herrscht, sollten trotzdem alle in Bewegung bleiben, und das werden wir ja wohl noch zusammenbringen.\n",
      ", Ich denke, dass Ankündigungen wie die sogenannte freiwillige Massentestung oder der vermeintliche Rechtsanspruch auf Sonderbetreuungszeit für Eltern im Zusam­menhang mit Schulschließungen nach diesem Lockdown weitere Beschwerden bei der Volksanwaltschaft zur Folge haben werden.\n",
      ", Deswegen würde ich es für sinnvoll halten, wenn auch im Budget der Volksanwaltschaft die Folgen des aktuellen Lockdowns eingepreist werden, dass Sie auch während der momentanen Pandemie und vor allem während des Lockdowns rasch in der Abarbeitung dieser Anträge vorankommen, betreffend „Repara­tur des Umsatzersatzes im Lockdown“, Thomas Drozda, Genossinnen und Genossen betreffend Reparatur des Umsatzersatzes im Lockdown eingebracht im Zuge der Debatte zum Bericht des Budgetausschusses über die Regie­rungsvorlage : Bundesgesetz über die Bewilligung des Bundesvoranschlages für das Jahr 2021  samt Anlagen , UG 32  Die Kultur- und Veranstaltungsbranche ist von der COVID-19-Krise massiv betroffen.\n",
      ", Durch den von der Bundesregierung verkündeten zweiten Lockdown im November hat sich die Situation nochmals verschlechtert.\n",
      ", Anlässlich des zweiten Lockdowns, Für die Ausdehnung des Lockdowns ist nun eine Erweiterung der Branchen vorgesehen.\n",
      ", nicht direkt von der „Lock­down Verordnung“ des Gesundheitsministeriums betroffen, Ein Licht- oder Tontechniker hat beispielsweise keinen Anspruch auf Umsatz­ersatz, auch wenn er seinem Beruf nicht nachgehen kann, da im Lockdown keine Veranstaltungen stattfinden.\n",
      ", Aus diesem Grund stellen die unterfertigten Abgeordneten nachstehenden Der Nationalrat wolle beschließen: „Die Bundesregierung, insbesondere der Finanzminister und Kulturminister, wird aufge­fordert sicherzustellen, dass vom 80prozentigen Umsatzersatz im Lockdown auch freie Kunst- und Kulturschaffende sowie Zulieferer profitieren sowie dass vereinbarte Gagen bei Absagen von Veranstaltungen und Gewährung von Umsatzersatz in jedem Fall auszubezahlen sind.“\n",
      ", So haben die Bundesmuseen mit enormen Besucherrückgängen zu kämpfen, wie auf wien.orf.at am 10. August 2020 zu lesen war: „Harte Einbußen im KHM und Belvedere Das Kunsthistorische Museum , das seine Tore nach dem „Lock-down“ am 30. Mai wieder öffnete, begrüßte im ersten Halbjahr 2020 im Vergleich zum Vorjahres­zeitraum nur mehr weniger als ein Drittel der Besucherinnen und Besucher .\n",
      ", jetzt neu – dem Lockdownbonus und dem Umsatzersatz für Kulturbetriebe, von dem die Zulieferer hoffentlich auch noch etwas haben und bei dem die Einreichmodalitäten erst geklärt werden müssen, dass man alle Kunst- und Kultureinrichtungen schon im ersten Teillockdown sperren musste – und das wissend um die unglaublichen Bemühungen aller Kultureinrichtungen, die Sicherheit und die Gesundheit der Besucher zu gewährleisten,, Der Umsatzersatz von 80 Prozent für den aktuellen Lockdown kommt allen Kulturbetrieben zugute.\n",
      ", Es war mir natürlich auch bewusst, dass die freischaffenden Künstler ebenso eine Kompensation für diesen zweiten Lockdown brauchen, deshalb gibt es für sie eine Kompensation bei der SVS von 1 300 Euro netto zusätzlich im Monat im Rahmen unserer Überbrückungsfinanzierung., zusätzlich diese Lockdownkompensation von der SVS bekommen, Ich möchte, da ich jetzt das erste Mal hier im Rahmen des Plenums zum Budget 2021 spreche, einfach nur eine Feststellung tätigen, sie ist heute schon oftmals gekommen: Wir diskutieren hier ein Budget, das wir letzte Woche in langen Budgetverhandlungen im Ausschuss behandelt haben, das überhaupt nicht dem Stadium entspricht, in dem wir jetzt stecken, in dem nämlich der Lockdown zwei, der heute begonnen hat, überhaupt keine Berücksichtigung findet.\n",
      ", Sie haben im ersten Lockdown die Situation so wahrgenommen, dass das Verständnis für sie, für ihre Lebenssituation vonseiten der Regierung gefehlt hat.\n",
      ", Ich würde wirklich bitten, das zu lesen, im Zuge des Lockdowns ist ja auch viel Zeit., Aber so wie insgesamt: Das Budget ist ja auch aufgrund des zweiten Lockdowns und der ganzen Coronasituation, die ja nicht ins Budget eingepreist sind, in Wahrheit ein Fantasiebudget mit Fantasiezahlen, von dem wir alle hier wissen, dass es so auch nicht halten wird.\n",
      ", schlecht bezahlten Jobs arbeiten, aber es sind gerade jene Frauen, die eine niedrige Pension erhalten, die die sogenannten System­erhalterinnen sind – die in der Pflege arbeiten, die im Handel arbeiten –, die jetzt wieder die Heldinnen in dieser Lockdownkrise sind, In Zeiten des Lockdowns und der eingeschränkten Einkaufsmöglichkeiten wird sehr viel online bestellt, und ich würde dazu aufrufen, das vielleicht bei regionalen Anbietern zu machen.\n",
      ", Nicht nur, dass eine Vielzahl von Untersuchungen, Operationen und Rehabilitationen nicht durch­ge­führt wurden, und sich damit unter Umständen der Gesundheitszustand der Betroffenen verschlechtert hat, sind vor allem die Beschränkungen der Lockdowns für die Menschen starke psychische Belastungen.\n",
      ", Oder um es anders zu formulieren: Allein die beschlossene Umsatzentschädigung für die Betriebsschließungen während der ersten drei Wochen Lockdown light von Anfang November bis heute verursacht Kosten von mehr als dem Doppelten dessen, was wir für unser gesamtes jährliches Gesundheitsbudget zur Ver­fügung haben.\n",
      ", Da reden wir von Kosten von 2 bis 3 Milliarden Euro für die Entschä­digung für Umsatzausfall nur durch den Lockdown light im Vergleich zu 1,8 Milliarden Euro, die wir im Gesundheitsbereich haben.\n",
      ", Wir arbeiten derzeit sehr, sehr intensiv an der Frage, wie es nach dem 6. Dezember, nach dem Lockdown weitergehen kann., Wie können wir am Ende des Lockdowns ganz bestimmte Zielgruppen, die sehr frequente Kundenkontakte haben, anderen persönlich begegnen und diese auch berühren, verstärkt in die Testprogramme integrieren?, Tonnen an Fleisch landeten im ersten Lockdown im Müll, Tonnen an Fleisch werden auch im zweiten Lockdown originalverpackt im Müll landen.\n",
      ", Dieses Wirtschaftsreparaturpaket hat die Umsetzung nachstehender Maßnahmen [...] sicherzustellen: - Voller Entschädigungsanspruch für alle Betriebe, die durch das Betretungsverbot betroffen sind, in jener Höhe, den diese erhalten hätten, wenn ihr Betrieb auf Grundlage des EpidemieG geschlossen worden wäre; - Sofortige antragslose Akontozahlung durch die Finanzämter an alle Unternehmer, die sämtliche Kosten und einen entsprechenden Unternehmerlohn für die nächsten drei Monate abdeckt; - Abwicklung sämtlicher Maßnahmen über die Finanzämter.“ In aller Kürze noch eine zweite wichtige Frage an Sie, Herr Minister: Über Puls 4 haben Sie mitgeteilt – ich zitiere –: Das Ziel ist es, dass dieser Lockdown so lange anhält, bis wir den Impfstoff haben.\n",
      ", Der neuerliche zweite Lockdown mit Ausganssperren, Schulschließungen, großflächi­gen Betretungsverboten für Betriebe des Handels, der Gastronomie und Beherber­gungs­betriebe sowie einer massiven Auswirkung dieser Maßnahmen auf die Wert­schöpfungskette in den Zulieferbetrieben, der Industrie und Gewerbe ab dem 17. November 2020 verlangt daher nach einer grundlegenden Neuausrichtung des staat­lichen Schadenersatzes für solch massive Eingriffe in die österreichische Wirtschaft.\n",
      ", Und jetzt noch der Lockdown, alles zu: furchtbar, aber alternativlos.\n",
      ", Der Lockdown ist die einzig mögliche Reaktion auf diese dramatischen Zustände, er ist alternativlos , und die Bundesregierung hat das einzig Richtige gemacht – ja machen müssen!, Diese lange und starke Belastung hält an, sie hat sich nach dem Ende des ersten Lockdowns nicht verbessert, und wir sind erst am Anfang des zweiten Lockdowns.\n",
      ", Als weiteren wichtigen Punkt möchte ich einfach noch einmal etwas klarstellen – denn wer weiß, was mit derartigen Mythen sonst passiert –: Es wurde von einem Redner der FPÖ ein Puls-4-Interview mit mir zitiert, zum Teil zitiert, wobei der Vorwurf war, ich hätte indirekt per Kommunikation über Puls 4 – das wäre eine interessante Entscheidungs­findung und Kommunikation; eigentlich ist das Parlament und ist die Regierung der Ort, wo man etwas Derartiges entscheiden müsste, was wir im Übrigen nicht wollen – angekündigt, dass der Lockdown über den 6. Dezember hinaus fortgesetzt wird.\n",
      ", Mit der Formulierung, dass der Lockdown anhält, war aber nicht gemeint, dass er fortgesetzt wird, sondern dass die Wirkung des Lockdowns anhält.\n",
      ", dass der Lockdown so nachhaltig ist,, Wir sind wieder gefordert: Wir sind in Abstimmung mit dem Gesundheitsministerium und mit dem Bundeskanzleramt betreffend die Planungsarbeiten für Massentests, die nach dem Ende des Lockdowns stattfinden sollen.\n",
      ", Abschließend ein genereller Dank an alle Soldatinnen und Soldaten, an alle Verantwor­tungsträger, Vorgesetzten, die im vergangenen Jahr Besonderes geleistet haben, für die Sicherheit gesorgt haben, für die Bekämpfung der Pandemie gesorgt haben, und ich möchte mich auch im Vorhinein schon dafür bedanken, dass sie uns auch wieder bei den Testungen, die nach dem zweiten Lockdown stattfinden, unterstützen., Es muss etwas passiert sein, denn jetzt haben wir einen zweiten Lockdown, und die Regierung steht da, als hätte sie das erste Mal in ihrem Leben von Corona und den Problemen der Wirtschaft gehört.\n",
      ", Die Unternehmen haben den Lockdown des Frühjahres überstanden, dann ist es mit der Wirtschaft endlich wieder aufwärtsgegangen, aber es ist leider so, dass diese Regierung über den Sommer alles verschlafen hat – sämtliche Vorbereitungsmaßnahmen, die not­wendig gewesen wären, die für die Wirtschaft notwendig gewesen wären, wurden nicht getroffen., auch indirekt vom zweiten Lockdown betroffenen, auch indirekt vom zweiten Lockdown betroffenen, In den letzten Monaten mussten sich viele Betriebe und Unternehmen in Folge von COVID-19 und des verordneten Lockdowns massiv verschulden und befinden sich nach wie vor, wenn auch mit branchenabhängigen Unterschieden, in einer wirtschaftlich äußerst schwierigen Lage., Laut Budgetbericht liegen dem Budget 2021 – noch ohne Miteinbeziehung des mittler­weile „verordneten“ Lockdowns - folgende Daten zugrunde: „Im Jahr 2020 ist die wirtschaftliche Entwicklung in Österreich sehr stark von der welt­weiten COVID-19 Pandemie gekennzeichnet.\n",
      ", die Auswirkungen eines zweiten Lockdowns für die Wirtschaft in Öster­reich, „Ein neuerlicher Lockdown in diesem Herbst könnte die BIP-Raten - laut Wifo heuer minus 6,8 Prozent, 2021 plus 4,4 Prozent - um 2,5 bis 4,0 Prozentpunkte senken, warnte das Wirtschaftsforschungsinstitut am Freitag.\n",
      ", Ein neuerlicher Lockdown freilich könnte die Wirtschaftsleistung im vierten Quartal auf das Niveau des zweiten Quartals herunterdrücken und im gesamten Prognosezeitraum einen Wertschöpfungsverlust von 4,5 Prozent bewirken, warnt das Wifo.“ APA0140 Fr, 09.Okt 2020 Wir haben die Bundesregierung bereits vor einigen Wochen mit einem Antrag dazu auf­gefordert, vor dem Hintergrund dieser dramatischen Auswirkungen eines zweiten Lockdowns, umgehend öffentlich einen zweiten Lockdown in Österreich auszuschließen.\n",
      ", In eben diese Kerbe schlug auch die Wirtschaftskammer, wenn Präsident Mahrer und Generalsekretär Kopf in diesem Zusammenhang in einer Aussendung vom 9. Oktober 2020 „wirtschaftspolitische Vernunft“ und die Verhinderung eines neuerlichen Lock­downs einforderten: „Viele österreichische Betriebe werden weiterhin mit der größten Wirtschaftskrise der vergangenen Jahrzehnte ringen.\n",
      ", Ein zweiter Lockdown ist undenkbar und daher unter allen Umständen zu vermeiden., Mit Wirksamkeit vom 03.11.2020 ist nunmehr der zweite Lock-Down in Kraft getreten, dem auch die WKO ganz offensichtlich zugestimmt hat., Die entsprechenden Auswirkungen dieses zweiten Lockdowns beurteilt bzw. beziffert das WIFO in einer Aussendung vom 5. November 2020 wie folgt: „Der wegen der Corona-Pandemie seit Dienstag geltende zweite Lockdown in Öster­reich wird die heimische Wirtschaft heuer und nächstes Jahr stärker in Mitleidenschaft ziehen als bisher angenommen.\n",
      ", APA0170 / 05.Nov 2020 Als finanziellen Ausgleich für jene Unternehmen, die vom zweiten Lockdown betroffen sind, wurde ein 80 %iger Umsatzersatz des Umsatzes des Vorjahresmonats ver­sprochen.\n",
      ", direkt vom Lockdown, Der verordnete Lockdown von Gastronomie, Hotellerie, Event- und Veranstaltungs-branche treffe aber auch indirekt viele Betriebe hart, dass auch die indirekt betroffenen Zulieferfirmen der aufgrund des zweiten Lockdowns ge­schlossenen Betriebe einen Umsatzersatz erhalten, und andererseits den Fixkosten­zuschuss II unmittelbar umzusetzen, anders als im ersten Lockdown – die Wertschöpfungsketten und die Grenzen offen sind, dass das ein ganz wichtiger Faktor ist, – Weil Sie den zweiten Lockdown verursacht haben.\n",
      ", Die Inves­titionsprämie ist sicher eine ganz gute Maßnahme, aber ich möchte im Lockdown dazusagen:, – Damit befeuern Sie die Spaltung der Gesellschaft, und damit tragen auch Sie Verantwortung für den Lockdown.\n",
      ", Wir befinden uns im zweiten Lockdown, und die Kosten dieser Maßnahmen sind nicht im Budget 2021 abgebildet.\n",
      ", Die Infektionen der letzten Tage haben aber dazu geführt, dass wir uns noch einmal in einem Lockdown befinden und nun vor der Situation stehen, dass wir die Saison möglicherweise nicht starten können.\n",
      ", Es wäre allerdings schon gut – und die Frau Kollegin, Tourismussprecherin Neßler, könnte bei ihrem Bundes­minister Anschober dafür Sorge tragen –, wenn nicht dasselbe passiert, was im Frühjahr war, als wir zwischen dem Lockdown  und dem Beginn der Saison sechs Wochen gebraucht haben,, nicht den zweiten Lockdown – finanziell gerade so über die Runden kommen, Ich darf mit einem positiven Thema beginnen, und zwar auch in Lockdownzeiten: Auch in schwierigen Zeiten gibt es keine Probleme, keine Versorgungsengpässe bei Lebensmitteln, weil unsere österreichischen Bauern­familien rund um die Uhr fleißig arbeiten und Lebensmittel in ausreichender Menge und in hoher Qualität zur Verfügung stellen – letztendlich ist das auch unsere Aufgabe beziehungsweise unser Job.\n",
      ", Urlaub am Bauernhof, private Beherbergungsbetriebe sowie Buschenschanken und Heurige leiden genauso unter dem Lockdown, und deshalb auch an dieser Stelle ein herzliches Dankeschön an unsere Frau Minister, die für diese Betriebe den Umsatzersatz im selben Ausmaß wie für Gastronomie und Tourismus sicherstellt.\n",
      ", Nicht nur die kurzfristigen Bildungsverluste, sondern auch die mittel- und langfristigen Verluste reichen von 100 bis 200 Euro Einkommensverlust für jeden einzelnen Monat im Schullockdown, und die wirtschaftlichen Verluste und Kosten liegen bei 2 Milliarden Euro pro Monat mit geschlossenen Schulen.\n",
      ", Wir wissen aber schon aus der ersten Phase des Lockdowns, dass es 140 000 Kinder gibt, die kein eigenes Endgerät zu Hause haben.\n",
      ", die Regierung wäre auch gut beraten, wenn sie bud­getär dafür sorgen würde,, der Abgeordneten Hermann Brückl, MA, Kolleginnen und Kolleginnen betreffend „aus­reichende Budgetmittel für Schulschließungs- und Lockdown-Verlierer, betreffend ausreichende Budgetmittel für Schulschließungs- und Lockdown-Verlierer, Sie lehnt einen Bildungslockdown ab.\n",
      ", um mit diesen Maßnahmen die Folgeschäden des Schul-Lockdowns möglichst gering zu halten, Dieser „Pop-up Chancenindex“ startet wohl auch erst im Oktober 2021 – 18 Monate nach den ersten Schulschließungen während des Covid-19-Pandemie Lockdowns im Frühjahr 2020.\n",
      ", Auf die Frage, die Sie sich permanent stellen: Hat die Bundesregierung den Lockdown und damit auch die Umstellung auf Distancelearning zu spät verhängt, Der Lockdown und die Umstellung auf Distancelearning waren notwendig, und ich bitte Sie:, Mit der Schließung der Schulen im ersten Lockdown wurde der Unter­richt in die eigenen vier Wände verschoben und „distance learning“ zur Notwen­digkeit.\n",
      ", Wenn es in den ersten paar Monaten 2021 zu einem dritten Lockdown kommen sollte: Wie werden Sie damit umgehen, dass 1,1 Millionen Schülerinnen und Schüler dann ein ganzes Jahr verlieren?\n",
      ", Gerade jetzt im zweiten Lockdown ist das sehr wichtig., Moder­nem Frauenbild drohen Rückschritte; Negative Entwicklung für Frauen; Frauen tragen die Hauptlast; „Die unbemerkte Multiarbeit von Frauen“; Es bleibt an den Frauen hängen; Coronakrise wird die Situation noch verschlechtern; „Krise führt zu Tradition statt Wandel“; Frauen von Coronakrise schwerer betroffen; Wer die Möglichkeit hat, soll zu Hause betreuen; Wer Bedarf hat, dem stehen die Einrichtungen offen; Frauen sind die großen Verliererinnen in der Covid-Krise; Sonderbetreuung gilt im Lockdown nicht; „Frauen zerreißen sich und fühlen sich trotzdem wie Versagerinnen“.\n",
      ", Ich bringe Ihnen noch eine ganz aktuelle: „Frauen bringen uns auch durch den zweiten Lockdown“.\n",
      ", Frauen bringen uns auch durch den zweiten Lockdown: wieder ein Lockdown, wieder eine große Herausfor­de­rung, und wieder trifft es zum überwiegenden Teil die Frauen.\n",
      ", Wir wissen das aus den gestiegenen Zahlen der Wegweisungen und der Betretungsverbote während des ersten Lockdowns.\n",
      ", Die Frauen haben während des Lockdowns laut Studien rund 5 100 Euro an Lebenseinkommen verloren, und das betrifft auch die selbstständigen Frauen.\n",
      ", während des Lockdowns wieder vermehrt in traditionelle Rollen gerutscht, Dort hat man den ersten Lockdown mit einer Studie begleitet und eine – aufgepasst!\n",
      ", Wir befinden uns inmitten der Coronapandemie, inmitten des zweiten Lock­downs.\n",
      ", In dieser Woche werden in Apotheken, in Arztpraxen niedergelassener Ärzte und auch im Handel bundesländerspezifische Beratungsinformationen zur Verfügung stehen, damit auch während des Lockdowns sichergestellt ist, dass alle Frauen wissen, wo sie Hilfe bekommen.\n",
      ", gerade behauptet, beim ersten Lockdown, als es für die Frauen schwierig geworden ist, eine Pressekonferenz mit Frau Ministerin Raab und Frau Ministerin Zadić, in der sie bekannt gegeben haben, welche Maßnahmen sie getroffen haben,, Während des Lockdowns haben sie das Gefühl, dass sie wieder in die traditionellen Rollen zurückrutschen.\n",
      ", Frauen übernehmen ihre Verantwortung – von der Kinder­betreuung bis zur Pflege von Angehörigen – unter den schwierigsten Bedingungen, sie kümmern sich um Familie, Arbeit, Haushalt und um die Sorgen betreffend Lockdowns und sonstige Dinge.\n",
      ", Wir haben jetzt einen zweiten sogenannten harten Lockdown, und das Einzige, was von Ihnen kommt, ist ein freundliches Lächeln.\n",
      ", Sie machen einen zweiten Lockdown, Sie sperren den Leuten ihre Existenz!\n",
      ", Es ist die Oberstufe seit einigen Wochen im Distancelearning, es sind derzeit, im Lock­down, die Unterstufe, die Sekundarstufe I und die Volksschule auch im Distancelearning, aber diese Schulen sind offen., So erfreulich es ist, dass im Rahmen des zweiten Lock­downs die Unternehmensunterstützungen an den Erhalt der Beschäftigung gebun­den wurden –, Der zweite Lockdown wird seine Folgen erst zeigen, die Stellenabbau­program­me werden weitergehen und der dritte Lockdown steht ante portas, so wie die Regierung vor sich hinstolpert und von Woche zu Woche überlegt, was sie vielleicht noch machen könnte., Das steigt wöchentlich dramatisch an und wir stehen jetzt erst am Anfang dieses zweiten oder eigentlich dritten Lockdowns., Über die Sommermonate und nach Ende des ersten Lockdowns sind die Arbeitslosen­zahlen zwar kurzfristig wieder zurückgegangen,, Auch mein Nebenjob, den ich mir im Sommer suchen musste, ist nun vom zweiten Lockdown betroffen.\n",
      ", Es ist nicht der Fall, denn all diese konkreten Familien beginnen jetzt im zweiten Lock­down bei den Lebensmitteln zu sparen, und die Frage ist, wo sie dann im dritten Lock­down sparen müssen.\n",
      ", die jetzt im zweiten Lockdown wirklich nicht mehr können, Wenn Sie aber zwei oder drei Lockdowns machen, wenn Sie Unternehmen monatelang zusperren, Es hilft auch nichts, wenn Sie zugleich jenen Leistungsträgerinnen und -trägern, die aus Ost- und Südosteuropa kommen und auch im Lockdown weiter für uns arbeiten, etwa in der Pflege und im Einzelhandel, weiterhin die Indexierung der Familienleistungen vor Augen führen.\n",
      ", Insofern verlangt auch dieser Lockdown von uns allen enorm viel ab, von jedem und jeder Einzelnen, der beziehungsweise die betroffen ist., jetzt direkt vom Lockdown betroffen, Alle können jetzt durch diesen Lockdown kom­men, weil die Coronakurzarbeit dafür adaptiert wurde.\n",
      ", Diese Erfahrung aus dem ersten Lockdown haben wir für diese Phase jetzt im Herbst weiterentwickelt, damit die Kinder vor allem in einem vertrauten, zumutbaren Umfeld unterstützt werden.\n",
      ", Sie würde auch viele Vorteile für Eltern und ihre Kinder bringen; gerade jetzt im Lockdown spüren Eltern, wie schwierig es ist, dass man Arbeit und Kinder­betreuung unter einen Hut bringt, und genau diese Doppelresidenz wäre zum Wohle der Eltern und Kinder in unserem Land und würde Großes beitragen.\n",
      ", Ihr glaubt, am 30. November ist das mit dem Lockdown vorbei und dann wird sich das schon irgendwie regeln – dann machen wir vielleicht irgendetwas Erratisches noch einmal mit irgendeinem Umsatzersatz, aber damit ist es nicht getan.\n",
      ", Diese Kurzarbeitsregelung wird uns auch im zweiten Lockdown helfen , das haben wir schon im ersten Lockdown gesehen.\n",
      ", „Wegen des Lockdowns verschlechtert sich die Lage am Arbeitsmarkt jetzt wieder dramatisch, Verstärkt wird diese Belastung jetzt noch einmal besonders durch den aktuellen Lockdown.\n",
      ", Ich denke, auch mit den vielen Maßnahmen, die im ersten Lockdown getroffen wurden, ist nichts anderes passiert, als einen künstlichen Stau­damm zu errichten.\n",
      ", ich gehe ziemlich sicher davon aus, weil jetzt der zweite Lockdown auch nichts anderes macht, Im ersten Lockdown hat man etwas Schönes gesagt: systemrelevante Berufe.\n",
      ", Wir schmeißen Milliarden Euro in den medizinischen Bereich, aber wir haben jetzt zum zweiten Mal die Situation, dass der Lockdown zu einem Zeitpunkt kommt, an dem die Infektionswerte eigentlich schon wieder zurückgehen, und sei es nur ein paar Tage.\n",
      ", Nun folgte wieder ein Lockdown ohne wissenschaftliche Evidenz und ohne Begleit­forschung.\n",
      ", Ein Blindflug in einen dritten Lockdown ist damit zu befürchten.\n",
      ", das bräuchte es dringend für eine interdisziplinäre Betrachtung und Bewertung der Maßnahmen, die wir im Lockdown setzen., Bitte geben Sie ihm einen Stoß, dass er sich etwas Gescheites überlegt, dass es eine Möglichkeit gibt, auch in den kommenden Wochen des Lockdowns an Bücher zu kommen.\n",
      ", Sie haben durch die Notvergabe sichergestellt, dass diese Verbindungen im Lockdown eins funktioniert haben.\n",
      ", Das hat uns ein bisschen Geld gekostet, 53,7 Millionen Euro für die Westbahn und die ÖBB zusammen, und leider schaut es so aus, als würde es auf­grund des Lockdown zwei noch einmal eine Notvergabe geben müssen.\n",
      ", Wir in Österreich befinden uns im Lockdown.\n",
      ", diesen Lockdown gemacht, weil er notwendig für das Gesundheitssystem war, weil wir dadurch sehr viele Menschenleben retten, Da kam es zuerst zu den Reisebeschränkungen, dann kam es zum Lockdown light und jetzt zum vollen Lockdown, den wir ja seit Dienstag haben.\n",
      ", Die Folgen des Lockdowns, vor allem des jetzigen Lockdowns, sind zwar vorab von den Wirtschaftsforschern bereits geschätzt worden, aber sie sind im Budget nicht enthalten.\n",
      ", aufgrund des Lockdowns wird sie wahrscheinlich um bis zu 10, Was ich aber anders sehe – und da muss ich ihm widersprechen –, ist einfach der Punkt, dass man, wenn man ein Budget vorlegt und wenn man in einem harten Lock­down ist, natürlich die Zeit haben müsste, das einzupreisen.\n",
      ", dass dieses Instrument für Zeiten des Lockdowns falsch aufgesetzt ist, Während des Lockdowns gibt es ein Tool, das viel besser geeignet ist, ein Instrument, das eben diesen Mantel der Katastrophenhilfe hat., Unser Finanzminister hat, als wir gehört haben, dass der zweite Lockdown kommt, ein Abänderungsbudget eingebracht, und wir haben das auch bearbeitet und sind auf diese Zahlen auch schon eingegangen.\n",
      ", Seit dem ersten Lockdown im März sind nämlich die Umsätze der Reisebüros und -ver­anstalter in den Keller gerasselt wie Aktienkurse bei einem Börsencrash.\n",
      ", Es ist tatsächlich richtig, dass die Wachstumsprognosen aufgrund der Reisewarnungen, aufgrund des ersten und des zweiten Lockdowns zurückgenommen werden mussten, Schellhorn, Kolleginnen und Kollegen betreffend „sofortige Ermöglichung von kontaktlosen Buch-Abholstationen im Lockdown“, KollegInnen und Kollegen betreffend sofortige Ermöglichung von kontaktlosen Buch-Abholstationen im Lockdown, Bereits derzeit ist absehbar, dass auch nach Ende des Lockdowns und der nötigen Maßnahmen zur Bekämpfung von Corona der Kultur­branche eine schwierige Zeit bevorsteht., Empörung herrscht aktuell im Buchhandel darüber, dass kontakt­lose Abholstationen für Kunden während des Lockdowns untersagt wurden., Durch Abholstationen können Versandkosten gespart werden und die Buchkultur ihre wichtige Funktion gerade im Lockdown erfüllen.\n",
      ", Die Branche steht vor dem Problem, dass durch den Versandhandel große Umsatzteile ins Ausland abwandern, es wäre daher auch für den inländischen Fiskus von Vorteil, wenn Buchhändler im Inland auch während des Lockdowns die Bücher online verkaufen und durch die Abholstationen den Österreicherinnen und Österreichern ausliefern könn­ten.\n",
      ", ohnehin vom Lockdown schwer betroffene, Diesmal geht es Ihnen ganz ähnlich: Sie haben die Folgekosten des zweiten Lockdowns in diesem Budget nicht berücksichtigt.\n",
      ", Bedingt durch die Maßnahmen der ÖVP/Grüne-Bundesregierung, insbesondere der neuerliche Lockdown im November 2020 lassen die Einnahmen ganzer Branchen wegbrechen.\n",
      ", Angesichts der sich weiter verschlechternden Situation durch den zweiten Lockdown, dessen Dauer immer noch nicht abzusehen ist, sowie der Mehrwertsteuersenkungen für manche Bereiche, was sich ebenfalls auf eine zusätzliche Reduktion der Ertragsanteile auswirkt, benötigen die Gemeinden dringend Finanzmittel um die Leistungen für die Bevölkerung aufrecht erhalten zu können., Man macht im Frühjahr einen Lockdown, schließt die Schulen; dann hat vieles schon darauf hingedeutet, dass diese übernervöse Bundesregierung wahrscheinlich, wenn die Zahlen ansteigen, im Herbst wieder so etwas Ähnliches plant, aber es wurde immer gepredigt: Die Pflichtschulen bleiben offen.\n",
      ", Noch wenige Tage, bevor der Lockdown in Kraft getreten ist, hat man gesagt, die Pflichtschulen werden nicht geschlossen.\n",
      ", Das war der Grund, warum es jetzt so plötzlich gekommen ist – in der Lockdownzeit, in der sie gehofft haben, dass es niemandem auffällt., Stellen Sie ausreichend Budgetmittel für Schulschließungen und für Lockdown­verlierer zur Verfügung, denn wir kennen die Studien aus Belgien, aus Kanada!, Seit wir in diesen sanften Lockdown gegangen sind, zeigen uns die Zahlen sehr klar, dass das Infektionsgeschehen in den Oberstufen nicht abgenommen hat., heute medial bereits verbreitet wurde, nämlich dass die Regierung plant, nach Beendigung des Lockdowns eine Maskenpflicht für Schüler ab dem Alter von zehn Jahren einzuführen, Es war nämlich tatsächlich so, dass wir leider diesen Teillockdown im Bereich der Gast­ronomie und des Tourismus machen mussten., Auch jetzt, beim zweiten Lockdown, ist es noch einmal gelungen, weil natürlich auch der Umsatzersatz für den Einzelhandel willkommen ist., Wir müssen uns hier alle bewusst sein, dass der Finanzminister wiederum ein Budget vorlegt, welches nur den Lockdown light berücksichtigt, nicht aber den zweiten harten Lockdown., dass dieses letzte Lockdownszenario, das quasi aufgrund der Dynamik der Infektionen verspätet vom Wifo nachgeliefert worden ist und auf das auch im Finanzrahmen und im Budget mit einem Abänderungsantrag reagiert worden ist, einen sechswöchigen Lockdown vorgesehen hat,, Wegen des aktuellen Lockdowns hat das Wifo die Prognose revidiert, daher wird im Vergleich zum Bundesfinanzrahmengesetz vergangene Woche jetzt noch mehr Geld für die Menschen – für Soziales und für Arbeit – vorgesehen, für die Unterstützung von Be­troffenen dieser Coronakrise.\n",
      ", Noch einmal: Ich bin auch der Meinung meiner Kolleginnen und Kollegen von der Oppo­sition, dass der harte Lockdown, der in dieses Budget 2021 nicht eingepreist ist, natürlich hätte eingepreist werden sollen.\n",
      ", Sie haben ja zum Beispiel durch den Lockdown und die überbordenden Maßnah­men durch die Hintertür das größte Amazon-Förderpaket der Geschichte geschaffen.\n",
      ", Bedingt durch die Maßnahmen der ÖVP/Grüne-Bundesregierung, insbesondere der neuerliche Lockdown im Novem­ber 2020 lassen die Einnahmen ganzer Branchen wegbrechen.\n",
      ", Angesichts der sich weiter verschlechternden Situation durch den zweiten Lockdown, dessen Dauer immer noch nicht abzusehen ist, sowie der Mehrwertsteuersenkungen für manche Bereiche, was sich ebenfalls auf eine zusätzliche Reduktion der Ertragsanteile auswirkt, benötigen die Gemeinden dringend Finanzmittel um die Leistungen für die Be­völkerung aufrecht erhalten zu können.]\n"
     ]
    }
   ],
   "source": [
    "subtree_matcher = Matcher(nlp.vocab)\n",
    "subtree_matcher.add('adjectives', [[{\"TAG\": \"ADJD\"}]])\n",
    "subtrees = []\n",
    "proper_subtrees = 0\n",
    "adjd = []\n",
    "\n",
    "def generator_to_list(generator):\n",
    "    return [token for token in generator]\n",
    "\n",
    "\n",
    "tokens_of_interest = ['ADJ', 'ADV', 'AUX', 'INTJ', 'NOUN', 'PART', 'VERB']\n",
    "\n",
    "def get_matching_subtree(doc, idx):\n",
    "    for ancestor in doc[idx].ancestors:\n",
    "        subtree = doc[ancestor.left_edge.i : ancestor.right_edge.i+1]\n",
    "        if 'ADJD' in [token.tag_ for token in subtree]:\n",
    "            adjd.append([token.text for token in subtree if token.pos_ in tokens_of_interest])\n",
    "            return subtree, True\n",
    "    return doc, False\n",
    "\n",
    "for sentence in sentences:\n",
    "    doc = nlp(sentence)\n",
    "    matches = matcher(doc)\n",
    "    if matches:\n",
    "        match_idx = matches[0][1]\n",
    "        subtree, is_proper_subtree = get_matching_subtree(doc, match_idx)\n",
    "        subtrees.append(subtree)\n",
    "        if is_proper_subtree:\n",
    "            proper_subtrees += 1\n",
    "\n",
    "print(subtrees)"
   ],
   "metadata": {
    "collapsed": false,
    "pycharm": {
     "name": "#%%\n"
    }
   }
  },
  {
   "cell_type": "code",
   "execution_count": 11,
   "outputs": [],
   "source": [
    "pol_dict = {}\n",
    "\n",
    "# Load polarity lexicon\n",
    "with open('lexica/polartlexicon.txt', 'r') as f:\n",
    "    for line in f:\n",
    "        word = line.split(' ')[0]\n",
    "        pol_tmp = line.split(' ')[1]\n",
    "        type = pol_tmp.split('=')[0]\n",
    "        polarity = float(pol_tmp.split('=')[1])\n",
    "        pol_dict[word] = {'type': type, 'polarity': polarity}"
   ],
   "metadata": {
    "collapsed": false,
    "pycharm": {
     "name": "#%%\n"
    }
   }
  },
  {
   "cell_type": "code",
   "execution_count": 27,
   "outputs": [],
   "source": [
    "tags_of_interest = ['ADJ', 'ADV', 'NOUN', 'VERB']\n",
    "short_sentences = []\n",
    "\n",
    "def update_polarity(word, polarity):\n",
    "    type = pol_dict[word]['type']\n",
    "    pol = pol_dict[word]['polarity']\n",
    "    if type == 'POS':\n",
    "        polarity += pol\n",
    "    elif type == 'NEG':\n",
    "        polarity -= pol\n",
    "    return polarity\n",
    "\n",
    "# print only tokens of interest\n",
    "for sentence in sentences:\n",
    "    polarity = 0.0\n",
    "    doc = nlp(sentence)\n",
    "    words_of_interest = [t for t in doc if t.pos_ in tags_of_interest]\n",
    "    for word_t in words_of_interest:\n",
    "        if word_t.text in pol_dict:\n",
    "            polarity = update_polarity(word_t.text, polarity)\n",
    "        if word_t.lemma_ in pol_dict:\n",
    "            polarity = update_polarity(word_t.lemma_, polarity)\n",
    "        if word_t.norm_ in pol_dict:\n",
    "            polarity = update_polarity(word_t.norm_, polarity)\n",
    "\n",
    "    words_of_interest.append(polarity)\n",
    "    short_sentences.append(words_of_interest)"
   ],
   "metadata": {
    "collapsed": false,
    "pycharm": {
     "name": "#%%\n"
    }
   }
  },
  {
   "cell_type": "code",
   "execution_count": 28,
   "outputs": [],
   "source": [
    "count = 0\n",
    "for s in short_sentences:\n",
    "    if s[-1] != 0.0:\n",
    "        count += 1"
   ],
   "metadata": {
    "collapsed": false,
    "pycharm": {
     "name": "#%%\n"
    }
   }
  },
  {
   "cell_type": "code",
   "execution_count": 21,
   "outputs": [
    {
     "name": "stdout",
     "output_type": "stream",
     "text": [
      "In in In In\n",
      "dieser dieser dies dieser\n",
      "Woche woche Woche Woche\n",
      "werden werden werden werden\n",
      "in in in in\n",
      "Apotheken apotheken Apotheke Apotheken\n",
      ", , , ,\n",
      "in in in in\n",
      "Arztpraxen arztpraxen Arztpraxen Arztpraxen\n",
      "niedergelassener niedergelassener niedergelassen niedergelassener\n",
      "Ärzte ärzte Arzt Ärzte\n",
      "und und und und\n",
      "auch auch auch auch\n",
      "im im im im\n",
      "Handel handel Handel Handel\n",
      "bundesländerspezifische bundesländerspezifische bundesländerspezifische bundesländerspezifische\n",
      "Beratungsinformationen beratungsinformationen Beratungsinformationen Beratungsinformationen\n",
      "zur zur zur zur\n",
      "Verfügung verfügung Verfügung Verfügung\n",
      "stehen stehen stehen stehen\n",
      ", , , ,\n",
      "damit damit damit damit\n",
      "auch auch auch auch\n",
      "während während während während\n",
      "des des der des\n",
      "Lockdowns lockdowns Lockdowns Lockdowns\n",
      "sichergestellt sichergestellt sicherstellen sichergestellt\n",
      "ist ist sein ist\n",
      ", , , ,\n",
      "dass dass dass dass\n",
      "alle alle all alle\n",
      "Frauen frauen Frau Frauen\n",
      "wissen wissen wissen wissen\n",
      ", , , ,\n",
      "wo wo wo wo\n",
      "sie sie ich sie\n",
      "Hilfe hilfe Hilfe Hilfe\n",
      "bekommen bekommen bekommen bekommen\n",
      ". . . .\n"
     ]
    }
   ],
   "source": [
    "doc = nlp(\"In dieser Woche werden in Apotheken, in Arztpraxen niedergelassener Ärzte und auch im Handel bundesländerspezifische Beratungsinformationen zur Verfügung stehen, damit auch während des Lockdowns sichergestellt ist, dass alle Frauen wissen, wo sie Hilfe bekommen.\")\n",
    "for t in doc:\n",
    "    print(t.text + ' ' + t.norm_ + ' ' + t.lemma_ + ' ' + t.lex.text)"
   ],
   "metadata": {
    "collapsed": false,
    "pycharm": {
     "name": "#%%\n"
    }
   }
  },
  {
   "cell_type": "code",
   "execution_count": 51,
   "outputs": [
    {
     "name": "stdout",
     "output_type": "stream",
     "text": [
      "Accuracy of Opinion: 0.41530054644808745\n",
      "Accuracy of Sentiment: 0.4830188679245283\n",
      "Sentiment = Opinion: 0.7215447154471545\n",
      "Sentiment = Opinion not talking about sb else: 0.7522935779816514\n",
      "Sentiment = Opinion (not talking about sb else and talking about topic = no neutral opinion): 0.9337979094076655\n",
      "Sentiment = Opinion (no neutral target opinon) 0.7841530054644809\n",
      "Percentage of opinions expressed on Lockdown good/bad: 0.7439024390243902\n",
      "Percentage of strict opinions expressed on Lockdown good/bad: 0.3556910569105691\n",
      "Percentage of direct statements 51.0\n"
     ]
    }
   ],
   "source": [
    "# Get predictions\n",
    "opinions_pred = []\n",
    "for s in short_sentences:\n",
    "    if s[-1] > 0:\n",
    "        opinions_pred.append('+')\n",
    "    elif s[-1] == 0:\n",
    "        opinions_pred.append('o')\n",
    "    else:\n",
    "        opinions_pred.append('-')\n",
    "\n",
    "assert len(opinions_pred) == len(opinions_target)\n",
    "\n",
    "correct_opinion = 0.0\n",
    "total_opinion = 0.0\n",
    "correct_sentiment = 0.0\n",
    "total_sentiment = 0.0\n",
    "sentiment_matches_opinion = 0.0\n",
    "sentiment_matches_opinion_no_ref = 0.0\n",
    "sentiment_matches_opinion_no_ref_no_neutral_opinion = 0.0\n",
    "total_no_ref_no_neutral_opinion = 0.0\n",
    "total_no_neut_target_op = 0.0\n",
    "sentiment_matches_opinion_no_neut_target_op = 0.0\n",
    "count_direct = 0.0\n",
    "count_no_ref = references_target.count('x')\n",
    "count_no_op = opinions_target.count('o')\n",
    "count_no_op_strict = opinions_strict_target.count('o')\n",
    "\n",
    "for i in range(len(opinions_target)):\n",
    "    if (direct_target[i] == '+' or direct_target[i] == '-'):\n",
    "        count_direct += 1\n",
    "    if opinions_target[i] != 'o':\n",
    "        total_opinion += 1\n",
    "        if opinions_pred[i] == opinions_target[i]:\n",
    "            correct_opinion += 1\n",
    "    if opinions_target[i] != 'o' and opinions_pred[i] != 'o':\n",
    "        total_sentiment += 1\n",
    "        if opinions_pred[i] == sentiments_target[i]:\n",
    "            correct_sentiment += 1\n",
    "    if sentiments_target[i] == opinions_target[i]:\n",
    "        sentiment_matches_opinion += 1\n",
    "    if references_target[i] == 'x' and sentiments_target[i] == opinions_target[i]:\n",
    "        sentiment_matches_opinion_no_ref += 1\n",
    "    if references_target[i] == 'x' and opinions_target[i] != 'o' and sentiments_target[i] != 'o':\n",
    "        total_no_ref_no_neutral_opinion += 1\n",
    "        if sentiments_target[i] == opinions_target[i]:\n",
    "            sentiment_matches_opinion_no_ref_no_neutral_opinion += 1\n",
    "    if opinions_target[i] != 'o':\n",
    "        total_no_neut_target_op += 1\n",
    "        if sentiments_target[i] == opinions_target[i]:\n",
    "            sentiment_matches_opinion_no_neut_target_op += 1\n",
    "\n",
    "print(\"Accuracy of Opinion: \" + str(correct_opinion/total_opinion))\n",
    "print(\"Accuracy of Sentiment: \" + str(correct_sentiment/total_sentiment))\n",
    "print(\"Sentiment = Opinion: \" + str(sentiment_matches_opinion/len(opinions_target)))\n",
    "print(\"Sentiment = Opinion not talking about sb else: \" + str(sentiment_matches_opinion_no_ref/count_no_ref))\n",
    "print(\"Sentiment = Opinion (not talking about sb else and talking about topic = no neutral opinion): \" + str(sentiment_matches_opinion_no_ref_no_neutral_opinion/total_no_ref_no_neutral_opinion))\n",
    "print(\"Sentiment = Opinion (no neutral target opinon) \" + str(sentiment_matches_opinion_no_neut_target_op/total_no_neut_target_op))\n",
    "print(\"Percentage of opinions expressed on Lockdown good/bad: \" + str((len(opinions_pred)-count_no_op)/len(opinions_pred)))\n",
    "print(\"Percentage of strict opinions expressed on Lockdown good/bad: \" + str((len(opinions_pred)-count_no_op_strict)/len(opinions_pred)))\n",
    "print(\"Percentage of direct statements \" + str(count_direct))"
   ],
   "metadata": {
    "collapsed": false,
    "pycharm": {
     "name": "#%%\n"
    }
   }
  },
  {
   "cell_type": "code",
   "execution_count": null,
   "outputs": [],
   "source": [],
   "metadata": {
    "collapsed": false,
    "pycharm": {
     "name": "#%%\n"
    }
   }
  }
 ],
 "metadata": {
  "kernelspec": {
   "display_name": "Python 3",
   "language": "python",
   "name": "python3"
  },
  "language_info": {
   "codemirror_mode": {
    "name": "ipython",
    "version": 2
   },
   "file_extension": ".py",
   "mimetype": "text/x-python",
   "name": "python",
   "nbconvert_exporter": "python",
   "pygments_lexer": "ipython2",
   "version": "2.7.6"
  }
 },
 "nbformat": 4,
 "nbformat_minor": 0
}