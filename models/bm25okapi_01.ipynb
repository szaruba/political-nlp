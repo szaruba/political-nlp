{
 "cells": [
  {
   "cell_type": "code",
   "execution_count": 28,
   "metadata": {
    "collapsed": true
   },
   "outputs": [],
   "source": [
    "from rank_bm25 import BM25Okapi\n",
    "import nltk\n",
    "import re\n",
    "import pickle\n",
    "import pandas as pd\n",
    "import numpy as np\n",
    "from nltk.stem.snowball import SnowballStemmer\n",
    "from nltk.tokenize import word_tokenize\n",
    "from nltk.corpus import stopwords\n",
    "from sklearn import metrics\n",
    "from collections import Counter\n",
    "import matplotlib.pyplot as plt\n",
    "import numpy as np\n",
    "import helper.sklearn_to_csv"
   ]
  },
  {
   "cell_type": "code",
   "execution_count": 29,
   "outputs": [],
   "source": [
    "COL_OPINION = 0\n",
    "COL_SPEECH = 8\n",
    "\n",
    "RUNS = 100\n",
    "TEST_SPLIT = 0.15\n",
    "SHUFFLE = True\n",
    "STRATIFY = True\n",
    "CLASS_WEIGHTS = False\n",
    "REMOVE_STOP_WORDS = True\n",
    "STEMMING = False\n",
    "LOWERING = False\n",
    "NO_PUNCTUATION = True\n",
    "\n",
    "N_BEST = 3\n",
    "\n",
    "OUT_NAME = f'measures_bm25_01_{TEST_SPLIT}_Shuff{SHUFFLE}_Strat{STRATIFY}_Weigh{CLASS_WEIGHTS}_NoStop{REMOVE_STOP_WORDS}_Stem{STEMMING}_Low{LOWERING}_NoPun{NO_PUNCTUATION}_Nbest{N_BEST}'\n",
    "PATH_METRICS = f'../results/{OUT_NAME}.csv'\n",
    "PATH_DATASET = \"../protocols/labelled/massnahmen_relevant.csv\"\n",
    "PATH_PERFORMANCE_GRAPH = f'../results/{OUT_NAME}.png'"
   ],
   "metadata": {
    "collapsed": false,
    "pycharm": {
     "name": "#%%\n"
    }
   }
  },
  {
   "cell_type": "code",
   "execution_count": 30,
   "outputs": [],
   "source": [
    "# read data from csv\n",
    "data = pd.read_csv(PATH_DATASET, sep='\\t', header=None, skiprows=[0])\n",
    "\n",
    "# Create binary grade, class 1-2 or 5-6  = good or bad\n",
    "data[\"opinion_integer\"] = 0\n",
    "data.loc[data[COL_OPINION] == '-', \"opinion_integer\"] = 0\n",
    "data.loc[data[COL_OPINION] == 'o', \"opinion_integer\"] = 1\n",
    "data.loc[data[COL_OPINION] == '+', \"opinion_integer\"] = 2"
   ],
   "metadata": {
    "collapsed": false,
    "pycharm": {
     "name": "#%%\n"
    }
   }
  },
  {
   "cell_type": "code",
   "execution_count": 31,
   "outputs": [
    {
     "name": "stderr",
     "output_type": "stream",
     "text": [
      "[nltk_data] Downloading package stopwords to /home/stefan/nltk_data...\n",
      "[nltk_data]   Package stopwords is already up-to-date!\n",
      "[nltk_data] Downloading package punkt to /home/stefan/nltk_data...\n",
      "[nltk_data]   Package punkt is already up-to-date!\n"
     ]
    }
   ],
   "source": [
    "nltk.download(\"stopwords\")\n",
    "nltk.download(\"punkt\")\n",
    "stemmer = SnowballStemmer(\"german\")\n",
    "stop_words = set(stopwords.words(\"german\"))\n",
    "\n",
    "def clean_text(text):\n",
    "    RE_WSPACE = re.compile(r\"\\s+\", re.IGNORECASE)\n",
    "    RE_TAGS = re.compile(r\"<[^>]+>\")\n",
    "    if NO_PUNCTUATION:\n",
    "        RE_ASCII = re.compile(r\"[^A-Za-zÀ-ž ]\", re.IGNORECASE)\n",
    "        RE_SINGLECHAR = re.compile(r\"\\b[A-Za-zÀ-ž]\\b\", re.IGNORECASE)\n",
    "    else:\n",
    "        RE_ASCII = re.compile(r\"[^A-Za-zÀ-ž,.!? ]\", re.IGNORECASE)\n",
    "        RE_SINGLECHAR = re.compile(r\"\\b[A-Za-zÀ-ž,.!?]\\b\", re.IGNORECASE)\n",
    "\n",
    "    text = re.sub(RE_TAGS, \" \", text)\n",
    "    text = re.sub(RE_ASCII, \" \", text)\n",
    "    text = re.sub(RE_SINGLECHAR, \" \", text)\n",
    "    text = re.sub(RE_WSPACE, \" \", text)\n",
    "\n",
    "    tokenizer = nltk.RegexpTokenizer(r\"\\w+\")\n",
    "    word_tokens = tokenizer.tokenize(text)\n",
    "    if LOWERING:\n",
    "        word_tokens = [word.lower() for word in word_tokens]\n",
    "    else:\n",
    "        word_tokens = [word for word in word_tokens]\n",
    "\n",
    "    if REMOVE_STOP_WORDS:\n",
    "        word_tokens = [word for word in word_tokens if word not in stop_words]\n",
    "\n",
    "    if STEMMING:\n",
    "        word_tokens = [stemmer.stem(word) for word in word_tokens]\n",
    "\n",
    "    return ' '.join(word_tokens)"
   ],
   "metadata": {
    "collapsed": false,
    "pycharm": {
     "name": "#%%\n"
    }
   }
  },
  {
   "cell_type": "code",
   "execution_count": 32,
   "outputs": [
    {
     "name": "stdout",
     "output_type": "stream",
     "text": [
      "CPU times: user 561 ms, sys: 0 ns, total: 561 ms\n",
      "Wall time: 559 ms\n"
     ]
    }
   ],
   "source": [
    "%%time\n",
    "# Clean Comments\n",
    "data[\"comment_clean\"] = data.loc[data[COL_SPEECH].str.len() > 1, COL_SPEECH]\n",
    "data[\"comment_clean\"] = data[\"comment_clean\"].map(\n",
    "    lambda x: clean_text(x) if isinstance(x, str) else x\n",
    ")"
   ],
   "metadata": {
    "collapsed": false,
    "pycharm": {
     "name": "#%%\n"
    }
   }
  },
  {
   "cell_type": "code",
   "execution_count": 33,
   "outputs": [
    {
     "data": {
      "text/plain": "                                                text  label\n0  Die Tourismusleistungen derartig gut Österreic...      2\n1  Da nämlich schon Rede davon jemand überlegt be...      0",
      "text/html": "<div>\n<style scoped>\n    .dataframe tbody tr th:only-of-type {\n        vertical-align: middle;\n    }\n\n    .dataframe tbody tr th {\n        vertical-align: top;\n    }\n\n    .dataframe thead th {\n        text-align: right;\n    }\n</style>\n<table border=\"1\" class=\"dataframe\">\n  <thead>\n    <tr style=\"text-align: right;\">\n      <th></th>\n      <th>text</th>\n      <th>label</th>\n    </tr>\n  </thead>\n  <tbody>\n    <tr>\n      <th>0</th>\n      <td>Die Tourismusleistungen derartig gut Österreic...</td>\n      <td>2</td>\n    </tr>\n    <tr>\n      <th>1</th>\n      <td>Da nämlich schon Rede davon jemand überlegt be...</td>\n      <td>0</td>\n    </tr>\n  </tbody>\n</table>\n</div>"
     },
     "execution_count": 33,
     "metadata": {},
     "output_type": "execute_result"
    }
   ],
   "source": [
    "# Drop Missing\n",
    "data = data.dropna(axis=\"index\", subset=[\"opinion_integer\", \"comment_clean\"]).reset_index(\n",
    "    drop=True\n",
    ")\n",
    "data = data[[\"comment_clean\", \"opinion_integer\"]]\n",
    "data.columns = [\"text\", \"label\"]\n",
    "data.head(2)"
   ],
   "metadata": {
    "collapsed": false,
    "pycharm": {
     "name": "#%%\n"
    }
   }
  },
  {
   "cell_type": "code",
   "execution_count": 34,
   "outputs": [],
   "source": [
    "def split_df(df, split_number):\n",
    "    return df[:split_number], df[split_number:]\n",
    "\n",
    "def corpus_split_even(holdback_per_class):\n",
    "    train = pd.DataFrame()\n",
    "    test = pd.DataFrame()\n",
    "\n",
    "    for i in range(3):\n",
    "        rows_with_class = data[data['label'] == i]\n",
    "        if SHUFFLE:\n",
    "            rows_with_class = rows_with_class.sample(frac=1).reset_index(drop=True)\n",
    "        l, r = split_df(rows_with_class, holdback_per_class)\n",
    "        train = train.append(r, ignore_index=True)\n",
    "        test = test.append(l, ignore_index=True)\n",
    "\n",
    "    if SHUFFLE:\n",
    "        train = train.sample(frac=1).reset_index(drop=True)\n",
    "        test = test.sample(frac=1).reset_index(drop=True)\n",
    "\n",
    "    train_x = train['text'].tolist()\n",
    "    test_x = test['text'].tolist()\n",
    "    train_y = train['label'].tolist()\n",
    "    test_y = test['label'].tolist()\n",
    "\n",
    "    return train_x, test_x, train_y, test_y\n",
    "\n",
    "def corpus_split_stratified(test_split=TEST_SPLIT):\n",
    "    train = pd.DataFrame()\n",
    "    test = pd.DataFrame()\n",
    "\n",
    "    for i in range(3):\n",
    "        rows_with_class = data[data['label'] == i]\n",
    "        if SHUFFLE:\n",
    "            rows_with_class = rows_with_class.sample(frac=1).reset_index(drop=True)\n",
    "        split_for_class = int(test_split * len(rows_with_class))\n",
    "        l, r = split_df(rows_with_class, split_for_class)\n",
    "        train = train.append(r, ignore_index=True)\n",
    "        test = test.append(l, ignore_index=True)\n",
    "\n",
    "    if SHUFFLE:\n",
    "        train = train.sample(frac=1).reset_index(drop=True)\n",
    "        test = test.sample(frac=1).reset_index(drop=True)\n",
    "\n",
    "    train_x = train['text'].tolist()\n",
    "    test_x = test['text'].tolist()\n",
    "    train_y = train['label'].tolist()\n",
    "    test_y = test['label'].tolist()\n",
    "\n",
    "    return train_x, test_x, train_y, test_y"
   ],
   "metadata": {
    "collapsed": false,
    "pycharm": {
     "name": "#%%\n"
    }
   }
  },
  {
   "cell_type": "code",
   "execution_count": 35,
   "outputs": [],
   "source": [
    "def predict(bm25, x_test, y_lookup, n_best, use_class_weights = False):\n",
    "    class_counts = np.bincount(y_lookup)\n",
    "    max_class_count = max(class_counts)\n",
    "    class_weights = max_class_count / class_counts\n",
    "\n",
    "    y_preds = []\n",
    "    for x_query in x_test:\n",
    "        scores = bm25.get_scores(x_query)\n",
    "        argmaxima = scores.argsort()[-n_best:][::-1]\n",
    "        weighted_scores = [0, 0, 0]\n",
    "        for am in argmaxima:\n",
    "            pred = y_lookup[am]\n",
    "            if use_class_weights:\n",
    "                weighted_scores[pred] += scores[am] * class_weights[pred]\n",
    "            else:\n",
    "                weighted_scores[pred] += scores[am]\n",
    "        pred_label = np.argmax(weighted_scores)\n",
    "        y_preds.append(pred_label)\n",
    "    return np.array(y_preds)"
   ],
   "metadata": {
    "collapsed": false,
    "pycharm": {
     "name": "#%%\n"
    }
   }
  },
  {
   "cell_type": "code",
   "execution_count": 36,
   "outputs": [],
   "source": [
    "def perform_runs(runs, n_best, use_class_weights):\n",
    "    accuracies = []\n",
    "\n",
    "    for i in range(runs):\n",
    "        print(f'Run {i}')\n",
    "        # Split corpus\n",
    "        #lookup_docs, test_docs, lookup_labels, test_labels = train_test_split(data['text'].tolist(), data[\"label\"].tolist(), test_size=0.15, shuffle=True, stratify=data[\"label\"])\n",
    "        #lookup_docs, test_docs, lookup_labels, test_labels = corpus_split(20)\n",
    "        lookup_docs, test_docs, lookup_labels, test_labels = corpus_split_stratified(TEST_SPLIT)\n",
    "        lookup_labels = np.array(lookup_labels)\n",
    "        bm25 = BM25Okapi(lookup_docs)\n",
    "\n",
    "        # Predict\n",
    "        predictions = predict(bm25, test_docs, lookup_labels, n_best, use_class_weights)\n",
    "\n",
    "        # Evaluate\n",
    "        classification_report = metrics.classification_report(test_labels, predictions, output_dict=True)\n",
    "        helper.sklearn_to_csv.dict_to_csv(classification_report, PATH_METRICS)\n",
    "        correct = predictions == np.array(test_labels)\n",
    "        accuracy = correct.sum() / correct.size\n",
    "        accuracies.append(accuracy)\n",
    "    return np.array(accuracies)"
   ],
   "metadata": {
    "collapsed": false,
    "pycharm": {
     "name": "#%%\n"
    }
   }
  },
  {
   "cell_type": "code",
   "execution_count": 27,
   "outputs": [
    {
     "name": "stdout",
     "output_type": "stream",
     "text": [
      "Calculating 3 n_best\n",
      "Run 0\n",
      "Run 1\n",
      "Run 2\n",
      "Run 3\n",
      "Run 4\n",
      "Calculating 7 n_best\n",
      "Run 0\n",
      "Run 1\n",
      "Run 2\n",
      "Run 3\n",
      "Run 4\n",
      "Calculating 13 n_best\n",
      "Run 0\n",
      "Run 1\n",
      "Run 2\n",
      "Run 3\n",
      "Run 4\n",
      "Calculating 20 n_best\n",
      "Run 0\n",
      "Run 1\n",
      "Run 2\n",
      "Run 3\n",
      "Run 4\n"
     ]
    }
   ],
   "source": [
    "n_best_counts = [3, 7, 13, 20]\n",
    "CLASS_WEIGHTS = True\n",
    "mean_accs = []\n",
    "for n_best_count in n_best_counts:\n",
    "    print(f\"Calculating {n_best_count} n_best\")\n",
    "    N_BEST = n_best_count\n",
    "    OUT_NAME = f'measures_bm25_01_{TEST_SPLIT}_Shuff{SHUFFLE}_Strat{STRATIFY}_Weigh{CLASS_WEIGHTS}_NoStop{REMOVE_STOP_WORDS}_Stem{STEMMING}_Low{LOWERING}_NoPun{NO_PUNCTUATION}_Nbest{N_BEST}'\n",
    "    PATH_METRICS = f'../results/{OUT_NAME}.csv'\n",
    "    PATH_PERFORMANCE_GRAPH = f'../results/{OUT_NAME}.png'\n",
    "    accs = perform_runs(5, N_BEST, CLASS_WEIGHTS)\n",
    "    mean_accs.append(accs.mean())"
   ],
   "metadata": {
    "collapsed": false,
    "pycharm": {
     "name": "#%%\n"
    }
   }
  },
  {
   "cell_type": "code",
   "execution_count": 10,
   "outputs": [
    {
     "data": {
      "text/plain": "<Figure size 432x288 with 1 Axes>",
      "image/png": "[encoded data removed]"
     },
     "metadata": {
      "needs_background": "light"
     },
     "output_type": "display_data"
    }
   ],
   "source": [
    "import matplotlib.pyplot as plt\n",
    "plt.bar(n_best_counts, mean_accs, color='green')\n",
    "plt.xlabel(\"n_best\")\n",
    "plt.ylabel(\"Mean Accuracy\")\n",
    "plt.title(\"Performance impact n_best, with class weights\")\n",
    "plt.savefig('plots/bm25okapi_n_best_with_class_weights_even_class.png')\n",
    "plt.show()"
   ],
   "metadata": {
    "collapsed": false,
    "pycharm": {
     "name": "#%%\n"
    }
   }
  },
  {
   "cell_type": "code",
   "execution_count": 37,
   "outputs": [
    {
     "name": "stdout",
     "output_type": "stream",
     "text": [
      "Run 0\n",
      "Run 1\n",
      "Run 2\n",
      "Run 3\n",
      "Run 4\n",
      "Run 5\n",
      "Run 6\n",
      "Run 7\n",
      "Run 8\n",
      "Run 9\n",
      "Run 10\n",
      "Run 11\n",
      "Run 12\n",
      "Run 13\n",
      "Run 14\n",
      "Run 15\n",
      "Run 16\n",
      "Run 17\n",
      "Run 18\n",
      "Run 19\n",
      "Run 20\n",
      "Run 21\n",
      "Run 22\n",
      "Run 23\n",
      "Run 24\n",
      "Run 25\n",
      "Run 26\n",
      "Run 27\n",
      "Run 28\n",
      "Run 29\n",
      "Run 30\n",
      "Run 31\n",
      "Run 32\n",
      "Run 33\n",
      "Run 34\n",
      "Run 35\n",
      "Run 36\n",
      "Run 37\n",
      "Run 38\n",
      "Run 39\n",
      "Run 40\n",
      "Run 41\n",
      "Run 42\n",
      "Run 43\n",
      "Run 44\n",
      "Run 45\n",
      "Run 46\n",
      "Run 47\n",
      "Run 48\n",
      "Run 49\n",
      "Run 50\n",
      "Run 51\n",
      "Run 52\n",
      "Run 53\n",
      "Run 54\n",
      "Run 55\n",
      "Run 56\n",
      "Run 57\n",
      "Run 58\n",
      "Run 59\n",
      "Run 60\n",
      "Run 61\n",
      "Run 62\n",
      "Run 63\n",
      "Run 64\n",
      "Run 65\n",
      "Run 66\n",
      "Run 67\n",
      "Run 68\n",
      "Run 69\n",
      "Run 70\n",
      "Run 71\n",
      "Run 72\n",
      "Run 73\n",
      "Run 74\n",
      "Run 75\n",
      "Run 76\n",
      "Run 77\n",
      "Run 78\n",
      "Run 79\n",
      "Run 80\n",
      "Run 81\n",
      "Run 82\n",
      "Run 83\n",
      "Run 84\n",
      "Run 85\n",
      "Run 86\n",
      "Run 87\n",
      "Run 88\n",
      "Run 89\n",
      "Run 90\n",
      "Run 91\n",
      "Run 92\n",
      "Run 93\n",
      "Run 94\n"
     ]
    }
   ],
   "source": [
    "accuracies = perform_runs(95, N_BEST, CLASS_WEIGHTS)"
   ],
   "metadata": {
    "collapsed": false,
    "pycharm": {
     "name": "#%%\n"
    }
   }
  },
  {
   "cell_type": "code",
   "execution_count": null,
   "outputs": [],
   "source": [
    "import matplotlib.pyplot as plt\n",
    "import numpy as np\n",
    "\n",
    "total = len(accuracies)\n",
    "mean = sum(accuracies)/total\n",
    "\n",
    "fig = plt.figure()\n",
    "ax = fig.add_subplot(111)\n",
    "ax.plot(sorted(accuracies), label='Model accuracies')\n",
    "plt.axhline(y=0.33, color='r', linestyle='-', label='Random guess')\n",
    "plt.axhline(y=mean, color='orange', linestyle='-', label='Mean accuracy')\n",
    "ax.text(-0.02, mean, \"{:.2f}\".format(mean), color='orange', ha=\"right\", va=\"center\",\n",
    "        transform=ax.get_yaxis_transform())\n",
    "plt.ylabel('Model Accuracies')\n",
    "plt.title(f\"Accuracies of {total} runs, with class weights, 7 best\")\n",
    "plt.legend(loc=\"lower right\", borderaxespad=0)\n",
    "plt.savefig(PATH_PERFORMANCE_GRAPH)\n",
    "plt.show()"
   ],
   "metadata": {
    "collapsed": false,
    "pycharm": {
     "name": "#%%\n"
    }
   }
  },
  {
   "cell_type": "code",
   "execution_count": 55,
   "outputs": [
    {
     "name": "stdout",
     "output_type": "stream",
     "text": [
      "Accuracy class weight predictions: 0.23333333333333334\n",
      "Accuracy 0,1: 0.3333333333333333\n"
     ]
    },
    {
     "name": "stderr",
     "output_type": "stream",
     "text": [
      "<ipython-input-52-55f5eae5686e>:18: VisibleDeprecationWarning: Creating an ndarray from ragged nested sequences (which is a list-or-tuple of lists-or-tuples-or ndarrays with different lengths or shapes) is deprecated. If you meant to do this, you must specify 'dtype=object' when creating the ndarray\n",
      "  train_x = np.array(train['text'].tolist())\n",
      "<ipython-input-52-55f5eae5686e>:19: VisibleDeprecationWarning: Creating an ndarray from ragged nested sequences (which is a list-or-tuple of lists-or-tuples-or ndarrays with different lengths or shapes) is deprecated. If you meant to do this, you must specify 'dtype=object' when creating the ndarray\n",
      "  test_x = np.array(test['text'].tolist())\n"
     ]
    }
   ],
   "source": [
    "# Random guess accuracy\n",
    "import numpy.random\n",
    "lookup_docs, test_docs, lookup_labels, test_labels = corpus_split(20)\n",
    "preds = numpy.random.choice(lookup_labels, len(test_labels))\n",
    "correct = preds == test_labels\n",
    "print(f\"Accuracy class weight predictions: {correct.sum() / correct.size}\")\n",
    "preds = numpy.random.choice([0], len(test_labels))\n",
    "correct = preds == test_labels\n",
    "print(f\"Accuracy 0,1: {correct.sum() / correct.size}\")"
   ],
   "metadata": {
    "collapsed": false,
    "pycharm": {
     "name": "#%%\n"
    }
   }
  },
  {
   "cell_type": "code",
   "execution_count": 56,
   "outputs": [
    {
     "data": {
      "text/plain": "array([256, 106,  70])"
     },
     "execution_count": 56,
     "metadata": {},
     "output_type": "execute_result"
    }
   ],
   "source": [
    "np.bincount(lookup_labels)"
   ],
   "metadata": {
    "collapsed": false,
    "pycharm": {
     "name": "#%%\n"
    }
   }
  }
 ],
 "metadata": {
  "kernelspec": {
   "display_name": "Python 3",
   "language": "python",
   "name": "python3"
  },
  "language_info": {
   "codemirror_mode": {
    "name": "ipython",
    "version": 2
   },
   "file_extension": ".py",
   "mimetype": "text/x-python",
   "name": "python",
   "nbconvert_exporter": "python",
   "pygments_lexer": "ipython2",
   "version": "2.7.6"
  }
 },
 "nbformat": 4,
 "nbformat_minor": 0
}