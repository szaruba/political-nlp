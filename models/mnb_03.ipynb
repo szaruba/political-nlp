{
 "cells": [
  {
   "cell_type": "code",
   "execution_count": 1,
   "outputs": [],
   "source": [
    "# Multinomial Naive Bayes\n",
    "%matplotlib inline\n",
    "import numpy as np\n",
    "import matplotlib.pyplot as plt\n",
    "import seaborn as sns; sns.set()\n",
    "import nltk\n",
    "import re\n",
    "import pickle\n",
    "import pandas as pd\n",
    "import numpy as np\n",
    "from nltk.stem.snowball import SnowballStemmer\n",
    "from nltk.tokenize import word_tokenize\n",
    "from nltk.corpus import stopwords\n",
    "from sklearn.model_selection import train_test_split\n",
    "from sklearn.feature_extraction.text import TfidfVectorizer\n",
    "from sklearn.naive_bayes import MultinomialNB\n",
    "from sklearn.pipeline import make_pipeline\n",
    "from sklearn import metrics\n",
    "from collections import Counter\n",
    "import matplotlib.pyplot as plt\n",
    "import numpy as np\n",
    "import helper.sklearn_to_csv"
   ],
   "metadata": {
    "collapsed": false,
    "pycharm": {
     "name": "#%%\n"
    }
   }
  },
  {
   "cell_type": "code",
   "execution_count": 2,
   "outputs": [],
   "source": [
    "COL_OPINION = 0\n",
    "COL_SPEECH = 8\n",
    "\n",
    "RUNS = 1000\n",
    "TEST_SPLIT = 0.15\n",
    "SHUFFLE = True\n",
    "STRATIFY = True\n",
    "CLASS_WEIGHTS = True\n",
    "REMOVE_STOP_WORDS = False\n",
    "STEMMING = False\n",
    "LOWERING = False\n",
    "NO_PUNCTUATION = False\n",
    "\n",
    "OUT_NAME = f'measures_mnb_03_{TEST_SPLIT}_Shuff{SHUFFLE}_Strat{STRATIFY}_Weigh{CLASS_WEIGHTS}_NoStop{REMOVE_STOP_WORDS}_Stem{STEMMING}_Low{LOWERING}_NoPun{NO_PUNCTUATION}'\n",
    "PATH_METRICS = f'../results/{OUT_NAME}.csv'\n",
    "PATH_DATASET = \"../protocols/labelled/massnahmen_relevant.csv\"\n",
    "PATH_PERFORMANCE_GRAPH = f'../results/{OUT_NAME}.png'"
   ],
   "metadata": {
    "collapsed": false,
    "pycharm": {
     "name": "#%%\n"
    }
   }
  },
  {
   "cell_type": "code",
   "execution_count": 3,
   "outputs": [
    {
     "name": "stderr",
     "output_type": "stream",
     "text": [
      "[nltk_data] Downloading package stopwords to /home/stefan/nltk_data...\n",
      "[nltk_data]   Package stopwords is already up-to-date!\n",
      "[nltk_data] Downloading package punkt to /home/stefan/nltk_data...\n",
      "[nltk_data]   Package punkt is already up-to-date!\n"
     ]
    },
    {
     "data": {
      "text/plain": "                                                text  label\n0  Die Tourismusleistungen sind derartig gut dass...      2\n1  Da ist nämlich schon die Rede davon ob sich je...      0",
      "text/html": "<div>\n<style scoped>\n    .dataframe tbody tr th:only-of-type {\n        vertical-align: middle;\n    }\n\n    .dataframe tbody tr th {\n        vertical-align: top;\n    }\n\n    .dataframe thead th {\n        text-align: right;\n    }\n</style>\n<table border=\"1\" class=\"dataframe\">\n  <thead>\n    <tr style=\"text-align: right;\">\n      <th></th>\n      <th>text</th>\n      <th>label</th>\n    </tr>\n  </thead>\n  <tbody>\n    <tr>\n      <th>0</th>\n      <td>Die Tourismusleistungen sind derartig gut dass...</td>\n      <td>2</td>\n    </tr>\n    <tr>\n      <th>1</th>\n      <td>Da ist nämlich schon die Rede davon ob sich je...</td>\n      <td>0</td>\n    </tr>\n  </tbody>\n</table>\n</div>"
     },
     "execution_count": 3,
     "metadata": {},
     "output_type": "execute_result"
    }
   ],
   "source": [
    "# read data from csv\n",
    "categories = ['-', 'o', '+']\n",
    "data = pd.read_csv(PATH_DATASET, sep='\\t', header=None, skiprows=[0])\n",
    "data[\"opinion_integer\"] = 0\n",
    "data.loc[data[COL_OPINION] == '-', \"opinion_integer\"] = 0\n",
    "data.loc[data[COL_OPINION] == 'o', \"opinion_integer\"] = 1\n",
    "data.loc[data[COL_OPINION] == '+', \"opinion_integer\"] = 2\n",
    "\n",
    "nltk.download(\"stopwords\")\n",
    "nltk.download(\"punkt\")\n",
    "stemmer = SnowballStemmer(\"german\")\n",
    "stop_words = set(stopwords.words(\"german\"))\n",
    "\n",
    "def clean_text(text):\n",
    "    RE_WSPACE = re.compile(r\"\\s+\", re.IGNORECASE)\n",
    "    RE_TAGS = re.compile(r\"<[^>]+>\")\n",
    "    if NO_PUNCTUATION:\n",
    "        RE_ASCII = re.compile(r\"[^A-Za-zÀ-ž ]\", re.IGNORECASE)\n",
    "        RE_SINGLECHAR = re.compile(r\"\\b[A-Za-zÀ-ž]\\b\", re.IGNORECASE)\n",
    "    else:\n",
    "        RE_ASCII = re.compile(r\"[^A-Za-zÀ-ž,.!? ]\", re.IGNORECASE)\n",
    "        RE_SINGLECHAR = re.compile(r\"\\b[A-Za-zÀ-ž,.!?]\\b\", re.IGNORECASE)\n",
    "\n",
    "    text = re.sub(RE_TAGS, \" \", text)\n",
    "    text = re.sub(RE_ASCII, \" \", text)\n",
    "    text = re.sub(RE_SINGLECHAR, \" \", text)\n",
    "    text = re.sub(RE_WSPACE, \" \", text)\n",
    "\n",
    "    tokenizer = nltk.RegexpTokenizer(r\"\\w+\")\n",
    "    word_tokens = tokenizer.tokenize(text)\n",
    "    if LOWERING:\n",
    "        word_tokens = [word.lower() for word in word_tokens]\n",
    "    else:\n",
    "        word_tokens = [word for word in word_tokens]\n",
    "\n",
    "    if REMOVE_STOP_WORDS:\n",
    "        word_tokens = [word for word in word_tokens if word not in stop_words]\n",
    "\n",
    "    if STEMMING:\n",
    "        word_tokens = [stemmer.stem(word) for word in word_tokens]\n",
    "\n",
    "    return ' '.join(word_tokens)\n",
    "\n",
    "# Clean Comments\n",
    "data[\"comment_clean\"] = data.loc[data[COL_SPEECH].str.len() > 1, COL_SPEECH]\n",
    "data[\"comment_clean\"] = data[\"comment_clean\"].map(\n",
    "    lambda x: clean_text(x) if isinstance(x, str) else x\n",
    ")\n",
    "# Drop Missing\n",
    "data = data.dropna(axis=\"index\", subset=[\"opinion_integer\", \"comment_clean\"]).reset_index(\n",
    "    drop=True\n",
    ")\n",
    "data = data[[\"comment_clean\", \"opinion_integer\"]]\n",
    "data.columns = [\"text\", \"label\"]\n",
    "data.head(2)"
   ],
   "metadata": {
    "collapsed": false,
    "pycharm": {
     "name": "#%%\n"
    }
   }
  },
  {
   "cell_type": "code",
   "execution_count": 4,
   "outputs": [
    {
     "name": "stdout",
     "output_type": "stream",
     "text": [
      "Run 0\n",
      "Run 100\n",
      "Run 200\n",
      "Run 300\n",
      "Run 400\n",
      "Run 500\n",
      "Run 600\n",
      "Run 700\n",
      "Run 800\n",
      "Run 900\n",
      "Mean Accuracy: 0.6827676240208878\n"
     ]
    }
   ],
   "source": [
    "runs = RUNS\n",
    "accs = []\n",
    "for i in range(runs):\n",
    "    #train_data, test_data, train_label, test_label = corpus_split(20)\n",
    "    if STRATIFY:\n",
    "        train_data, test_data, train_label, test_label = train_test_split(data[\"text\"], data[\"label\"], test_size=TEST_SPLIT, shuffle=SHUFFLE, stratify=data[\"label\"])\n",
    "    else:\n",
    "        train_data, test_data, train_label, test_label = train_test_split(data[\"text\"], data[\"label\"], test_size=TEST_SPLIT, shuffle=SHUFFLE)\n",
    "\n",
    "    model = make_pipeline(TfidfVectorizer(), MultinomialNB())\n",
    "\n",
    "    if CLASS_WEIGHTS:\n",
    "        train_counts = Counter(train_label)\n",
    "        num_in_largest_class = max(train_counts.values())\n",
    "        class_weights = {k: num_in_largest_class / train_counts[k] for k in train_counts.keys()}\n",
    "        sample_weights = [class_weights[label] for label in train_label]\n",
    "        model.fit(train_data, train_label, multinomialnb__sample_weight=sample_weights)\n",
    "    else:\n",
    "        model.fit(train_data, train_label)\n",
    "\n",
    "    labels = model.predict(test_data)\n",
    "\n",
    "    report = metrics.classification_report(test_label, labels, output_dict=True)\n",
    "    helper.sklearn_to_csv.dict_to_csv(report, PATH_METRICS)\n",
    "\n",
    "    correct = labels == test_label\n",
    "    acc = np.array(correct).sum() / len(correct)\n",
    "    accs.append(acc)\n",
    "    if i % 100 == 0:\n",
    "        print(f\"Run {i}\")\n",
    "print(f\"Mean Accuracy: {acc}\")"
   ],
   "metadata": {
    "collapsed": false,
    "pycharm": {
     "name": "#%%\n"
    }
   }
  },
  {
   "cell_type": "code",
   "execution_count": 5,
   "outputs": [
    {
     "data": {
      "text/plain": "<Figure size 432x288 with 1 Axes>",
      "image/png": "[encoded data removed]"
     },
     "metadata": {},
     "output_type": "display_data"
    }
   ],
   "source": [
    "total = len(accs)\n",
    "mean = sum(accs)/total\n",
    "\n",
    "fig = plt.figure()\n",
    "ax = fig.add_subplot(111)\n",
    "ax.plot(sorted(accs), label='Model accuracies')\n",
    "plt.axhline(y=0.33, color='r', linestyle='-', label='Random guess')\n",
    "plt.axhline(y=mean, color='orange', linestyle='-', label='Mean accuracy')\n",
    "ax.text(-0.02, mean, \"{:.2f}\".format(mean), color='orange', ha=\"right\", va=\"center\",\n",
    "        transform=ax.get_yaxis_transform())\n",
    "plt.ylabel('Model Accuracies')\n",
    "plt.title(f\"MNB: Accuracies of {total} runs, unbalanced\")\n",
    "plt.legend(loc=\"lower right\", borderaxespad=0)\n",
    "plt.savefig(PATH_PERFORMANCE_GRAPH)\n",
    "plt.show()"
   ],
   "metadata": {
    "collapsed": false,
    "pycharm": {
     "name": "#%%\n"
    }
   }
  },
  {
   "cell_type": "code",
   "execution_count": 6,
   "outputs": [
    {
     "data": {
      "text/plain": "<Figure size 432x288 with 1 Axes>",
      "image/png": "[encoded data removed]"
     },
     "metadata": {},
     "output_type": "display_data"
    }
   ],
   "source": [
    "from sklearn.metrics import confusion_matrix\n",
    "mat = confusion_matrix(test_label, labels)\n",
    "sns.heatmap(mat.T, square=True, annot=True, fmt='d', cbar=False,\n",
    "            xticklabels=categories, yticklabels=categories)\n",
    "plt.xlabel('true label')\n",
    "plt.ylabel('predicted label');\n",
    "\n"
   ],
   "metadata": {
    "collapsed": false,
    "pycharm": {
     "name": "#%%\n"
    }
   }
  },
  {
   "cell_type": "code",
   "execution_count": 6,
   "outputs": [],
   "source": [],
   "metadata": {
    "collapsed": false,
    "pycharm": {
     "name": "#%%\n"
    }
   }
  }
 ],
 "metadata": {
  "kernelspec": {
   "display_name": "Python 3",
   "language": "python",
   "name": "python3"
  },
  "language_info": {
   "codemirror_mode": {
    "name": "ipython",
    "version": 2
   },
   "file_extension": ".py",
   "mimetype": "text/x-python",
   "name": "python",
   "nbconvert_exporter": "python",
   "pygments_lexer": "ipython2",
   "version": "2.7.6"
  }
 },
 "nbformat": 4,
 "nbformat_minor": 0
}