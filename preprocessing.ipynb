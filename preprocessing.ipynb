{
 "cells": [
  {
   "cell_type": "code",
   "execution_count": null,
   "metadata": {
    "collapsed": true
   },
   "outputs": [],
   "source": [
    "import re"
   ]
  },
  {
   "cell_type": "code",
   "execution_count": null,
   "outputs": [],
   "source": [
    "import spacy\n",
    "nlp = spacy.load('de_dep_news_trf')\n",
    "\n",
    "def preprocess(sentence):\n",
    "    doc = nlp(sentence)\n",
    "    no_stopwords = [token.text for token in doc if not token.is_stop and token.pos_ != 'PUNCT']\n",
    "    return no_stopwords\n",
    "\n",
    "# preprocess and store\n",
    "with open('protocols/labelled/only_lockdown.csv', 'r') as fin, open('protocols/labelled/only_lockdown_pp.csv', 'w') as fout:\n",
    "    first_line = next(fin)\n",
    "    fout.write(first_line)\n",
    "    for line in fin:\n",
    "        col_vals = re.split('\\\\t', line)\n",
    "        sentence = col_vals[13]\n",
    "        word_list = preprocess(sentence)\n",
    "        col_vals[13] = ' '.join(word_list)\n",
    "        line = '\\t'.join(col_vals)\n",
    "        fout.write(line)\n"
   ],
   "metadata": {
    "collapsed": false,
    "pycharm": {
     "name": "#%%\n"
    }
   }
  }
 ],
 "metadata": {
  "kernelspec": {
   "display_name": "Python 3",
   "language": "python",
   "name": "python3"
  },
  "language_info": {
   "codemirror_mode": {
    "name": "ipython",
    "version": 2
   },
   "file_extension": ".py",
   "mimetype": "text/x-python",
   "name": "python",
   "nbconvert_exporter": "python",
   "pygments_lexer": "ipython2",
   "version": "2.7.6"
  }
 },
 "nbformat": 4,
 "nbformat_minor": 0
}