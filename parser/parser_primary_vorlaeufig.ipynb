{
 "cells": [
  {
   "cell_type": "code",
   "execution_count": 13,
   "metadata": {
    "collapsed": true
   },
   "outputs": [],
   "source": [
    "import re\n",
    "import html\n",
    "import os\n",
    "from pathlib import Path\n"
   ]
  },
  {
   "cell_type": "code",
   "execution_count": 14,
   "outputs": [
    {
     "name": "stderr",
     "output_type": "stream",
     "text": [
      "IOPub data rate exceeded.\n",
      "The notebook server will temporarily stop sending output\n",
      "to the client in order to avoid crashing it.\n",
      "To change this limit, set the config variable\n",
      "`--NotebookApp.iopub_data_rate_limit`.\n",
      "\n",
      "Current values:\n",
      "NotebookApp.iopub_data_rate_limit=1000000.0 (bytes/sec)\n",
      "NotebookApp.rate_limit_window=3.0 (secs)\n",
      "\n"
     ]
    }
   ],
   "source": [
    "path_unparsed = 'protocols/vorlaufige/'\n",
    "path_parsed = 'protocols/primary_format/'\n",
    "\n",
    "files = os.listdir(path_unparsed)\n",
    "#files = ['101_2021_05_03.txt']\n",
    "for file in files:\n",
    "    out_path = path_parsed + Path(file).stem + '.csv'\n",
    "    with open(path_unparsed + file, \"r\", encoding=\"utf-8\") as f, open(out_path, 'w+', encoding='utf-8') as fout:\n",
    "        file_content = f.read()\n",
    "        splits = re.split(\"@@\", file_content)\n",
    "\n",
    "        for split in splits:\n",
    "            splits2 = re.split(\":\", split, 1)\n",
    "            if len(splits2) == 2:\n",
    "                speaker_name = splits2[0]\n",
    "                speaker_name = re.sub('(\\r\\n|\\r|\\n)', ' ', speaker_name).strip()\n",
    "                speech = splits2[1]\n",
    "                # remove line breaks\n",
    "\n",
    "                processed_speech = re.sub('(\\r\\n|\\r|\\n)', ' ', speech)\n",
    "                line = f'{speaker_name}@@{processed_speech}'\n",
    "                print(line)\n",
    "                fout.write(line + '\\n')\n",
    "        fout.flush()"
   ],
   "metadata": {
    "collapsed": false,
    "pycharm": {
     "name": "#%%\n"
    }
   }
  },
  {
   "cell_type": "code",
   "execution_count": 7,
   "outputs": [
    {
     "name": "stdout",
     "output_type": "stream",
     "text": [
      "Hi it's me!\n"
     ]
    }
   ],
   "source": [
    "print(f'Hi it\\'s me!')"
   ],
   "metadata": {
    "collapsed": false,
    "pycharm": {
     "name": "#%%\n"
    }
   }
  },
  {
   "cell_type": "code",
   "execution_count": 8,
   "outputs": [
    {
     "name": "stdout",
     "output_type": "stream",
     "text": [
      "Hello\n"
     ]
    }
   ],
   "source": [
    "print(\"Hello\")"
   ],
   "metadata": {
    "collapsed": false,
    "pycharm": {
     "name": "#%%\n"
    }
   }
  }
 ],
 "metadata": {
  "kernelspec": {
   "display_name": "Python 3",
   "language": "python",
   "name": "python3"
  },
  "language_info": {
   "codemirror_mode": {
    "name": "ipython",
    "version": 2
   },
   "file_extension": ".py",
   "mimetype": "text/x-python",
   "name": "python",
   "nbconvert_exporter": "python",
   "pygments_lexer": "ipython2",
   "version": "2.7.6"
  }
 },
 "nbformat": 4,
 "nbformat_minor": 0
}