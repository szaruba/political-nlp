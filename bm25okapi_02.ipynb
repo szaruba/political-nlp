{
 "cells": [
  {
   "cell_type": "code",
   "execution_count": 1,
   "metadata": {
    "collapsed": true
   },
   "outputs": [],
   "source": [
    "from rank_bm25 import BM25Okapi\n",
    "import nltk\n",
    "import re\n",
    "import pickle\n",
    "import pandas as pd\n",
    "import numpy as np\n",
    "from nltk.stem.snowball import SnowballStemmer\n",
    "from nltk.tokenize import word_tokenize\n",
    "from nltk.corpus import stopwords\n",
    "from sklearn.model_selection import train_test_split"
   ]
  },
  {
   "cell_type": "code",
   "execution_count": 2,
   "outputs": [],
   "source": [
    "# read data from csv\n",
    "data = pd.read_csv(\"protocols/labelled/only_lockdown.csv\", sep='\\t', header=None, skiprows=[0])\n",
    "\n",
    "# Create binary grade, class 1-2 or 5-6  = good or bad\n",
    "data[\"opinion_integer\"] = 0\n",
    "data.loc[data[6] == '-', \"opinion_integer\"] = 0\n",
    "data.loc[data[6] == 'o', \"opinion_integer\"] = 1\n",
    "data.loc[data[6] == '+', \"opinion_integer\"] = 2"
   ],
   "metadata": {
    "collapsed": false,
    "pycharm": {
     "name": "#%%\n"
    }
   }
  },
  {
   "cell_type": "code",
   "execution_count": 3,
   "outputs": [
    {
     "name": "stderr",
     "output_type": "stream",
     "text": [
      "[nltk_data] Downloading package stopwords to /home/stefan/nltk_data...\n",
      "[nltk_data]   Package stopwords is already up-to-date!\n",
      "[nltk_data] Downloading package punkt to /home/stefan/nltk_data...\n",
      "[nltk_data]   Package punkt is already up-to-date!\n"
     ]
    }
   ],
   "source": [
    "nltk.download(\"stopwords\")\n",
    "nltk.download(\"punkt\")\n",
    "stemmer = SnowballStemmer(\"german\")\n",
    "stop_words = set(stopwords.words(\"german\"))\n",
    "\n",
    "def clean_text(text, for_embedding=False):\n",
    "    \"\"\"\n",
    "        - remove any html tags (< /br> often found)\n",
    "        - Keep only ASCII + European Chars and whitespace, no digits\n",
    "        - remove single letter chars\n",
    "        - convert all whitespaces (tabs etc.) to single wspace\n",
    "        if not for embedding (but e.g. tdf-idf):\n",
    "        - all lowercase\n",
    "        - remove stopwords, punctuation and stemm\n",
    "    \"\"\"\n",
    "    RE_WSPACE = re.compile(r\"\\s+\", re.IGNORECASE)\n",
    "    RE_TAGS = re.compile(r\"<[^>]+>\")\n",
    "    RE_ASCII = re.compile(r\"[^A-Za-zÀ-ž ]\", re.IGNORECASE)\n",
    "    RE_SINGLECHAR = re.compile(r\"\\b[A-Za-zÀ-ž]\\b\", re.IGNORECASE)\n",
    "    if for_embedding:\n",
    "        # Keep punctuation\n",
    "        RE_ASCII = re.compile(r\"[^A-Za-zÀ-ž,.!? ]\", re.IGNORECASE)\n",
    "        RE_SINGLECHAR = re.compile(r\"\\b[A-Za-zÀ-ž,.!?]\\b\", re.IGNORECASE)\n",
    "\n",
    "    text = re.sub(RE_TAGS, \" \", text)\n",
    "    text = re.sub(RE_ASCII, \" \", text)\n",
    "    text = re.sub(RE_SINGLECHAR, \" \", text)\n",
    "    text = re.sub(RE_WSPACE, \" \", text)\n",
    "\n",
    "    tokenizer = nltk.RegexpTokenizer(r\"\\w+\")\n",
    "    word_tokens = tokenizer.tokenize(text)\n",
    "    words_tokens_lower = [word for word in word_tokens]\n",
    "\n",
    "    if for_embedding:\n",
    "        # no stemming, lowering and punctuation / stop words removal\n",
    "        words_filtered = word_tokens\n",
    "    else:\n",
    "        words_filtered = [\n",
    "            stemmer.stem(word) for word in words_tokens_lower if word not in stop_words\n",
    "        ]\n",
    "    return words_filtered"
   ],
   "metadata": {
    "collapsed": false,
    "pycharm": {
     "name": "#%%\n"
    }
   }
  },
  {
   "cell_type": "code",
   "execution_count": 4,
   "outputs": [
    {
     "name": "stdout",
     "output_type": "stream",
     "text": [
      "CPU times: user 37.8 ms, sys: 2.58 ms, total: 40.4 ms\n",
      "Wall time: 40.7 ms\n"
     ]
    }
   ],
   "source": [
    "%%time\n",
    "# Clean Comments\n",
    "data[\"comment_clean\"] = data.loc[data[13].str.len() > 20, 13]\n",
    "data[\"comment_clean\"] = data[\"comment_clean\"].map(\n",
    "    lambda x: clean_text(x, for_embedding=True) if isinstance(x, str) else x\n",
    ")"
   ],
   "metadata": {
    "collapsed": false,
    "pycharm": {
     "name": "#%%\n"
    }
   }
  },
  {
   "cell_type": "code",
   "execution_count": 5,
   "outputs": [
    {
     "data": {
      "text/plain": "                                                text  label\n0  [Das, heißt, diese, Planbarkeit, ist, jetzt, g...      0\n1  [Wie, und, wann, schaffen, wir, es, aus, diese...      0",
      "text/html": "<div>\n<style scoped>\n    .dataframe tbody tr th:only-of-type {\n        vertical-align: middle;\n    }\n\n    .dataframe tbody tr th {\n        vertical-align: top;\n    }\n\n    .dataframe thead th {\n        text-align: right;\n    }\n</style>\n<table border=\"1\" class=\"dataframe\">\n  <thead>\n    <tr style=\"text-align: right;\">\n      <th></th>\n      <th>text</th>\n      <th>label</th>\n    </tr>\n  </thead>\n  <tbody>\n    <tr>\n      <th>0</th>\n      <td>[Das, heißt, diese, Planbarkeit, ist, jetzt, g...</td>\n      <td>0</td>\n    </tr>\n    <tr>\n      <th>1</th>\n      <td>[Wie, und, wann, schaffen, wir, es, aus, diese...</td>\n      <td>0</td>\n    </tr>\n  </tbody>\n</table>\n</div>"
     },
     "execution_count": 5,
     "metadata": {},
     "output_type": "execute_result"
    }
   ],
   "source": [
    "# Drop Missing\n",
    "data = data.dropna(axis=\"index\", subset=[\"opinion_integer\", \"comment_clean\"]).reset_index(\n",
    "    drop=True\n",
    ")\n",
    "data = data[[\"comment_clean\", \"opinion_integer\"]]\n",
    "data.columns = [\"text\", \"label\"]\n",
    "data.head(2)"
   ],
   "metadata": {
    "collapsed": false,
    "pycharm": {
     "name": "#%%\n"
    }
   }
  },
  {
   "cell_type": "code",
   "execution_count": 6,
   "outputs": [],
   "source": [
    "def split_df(df, split_number):\n",
    "    return df[:split_number], df[split_number:]\n",
    "\n",
    "def corpus_split(holdback_per_class):\n",
    "    train = pd.DataFrame()\n",
    "    test = pd.DataFrame()\n",
    "\n",
    "    for i in range(3):\n",
    "        rows_with_class = data[data['label'] == i]\n",
    "        rows_with_class = rows_with_class.sample(frac=1).reset_index(drop=True)\n",
    "        l, r = split_df(rows_with_class, holdback_per_class)\n",
    "        train = train.append(r, ignore_index=True)\n",
    "        test = test.append(l, ignore_index=True)\n",
    "\n",
    "    train = train.sample(frac=1).reset_index(drop=True)\n",
    "    test = test.sample(frac=1).reset_index(drop=True)\n",
    "\n",
    "    train_x = train['text'].tolist()\n",
    "    test_x = test['text'].tolist()\n",
    "    train_y = train['label'].tolist()\n",
    "    test_y = test['label'].tolist()\n",
    "\n",
    "    return train_x, test_x, train_y, test_y"
   ],
   "metadata": {
    "collapsed": false,
    "pycharm": {
     "name": "#%%\n"
    }
   }
  },
  {
   "cell_type": "code",
   "execution_count": 7,
   "outputs": [],
   "source": [
    "def predict(bm25, x_test, y_lookup, n_best, use_class_weights = False):\n",
    "    class_counts = np.bincount(y_lookup)\n",
    "    max_class_count = max(class_counts)\n",
    "    class_weights = max_class_count / class_counts\n",
    "\n",
    "    y_preds = []\n",
    "    for x_query in x_test:\n",
    "        scores = bm25.get_scores(x_query)\n",
    "        argmaxima = scores.argsort()[-n_best:][::-1]\n",
    "        weighted_scores = [0, 0, 0]\n",
    "        for am in argmaxima:\n",
    "            pred = y_lookup[am]\n",
    "            if use_class_weights:\n",
    "                weighted_scores[pred] += scores[am] * class_weights[pred]\n",
    "            else:\n",
    "                weighted_scores[pred] += scores[am]\n",
    "        pred_label = np.argmax(weighted_scores)\n",
    "        y_preds.append(pred_label)\n",
    "    return np.array(y_preds)"
   ],
   "metadata": {
    "collapsed": false,
    "pycharm": {
     "name": "#%%\n"
    }
   }
  },
  {
   "cell_type": "code",
   "execution_count": 8,
   "outputs": [],
   "source": [
    "def perform_runs(runs, n_best, use_class_weights):\n",
    "    accuracies = []\n",
    "\n",
    "    for i in range(runs):\n",
    "        # Split corpus\n",
    "        #lookup_docs, test_docs, lookup_labels, test_labels = train_test_split(data['text'].tolist(), data[\"label\"].tolist(), test_size=0.15, shuffle=True, stratify=data[\"label\"])\n",
    "        lookup_docs, test_docs, lookup_labels, test_labels = corpus_split(20)\n",
    "        lookup_labels = np.array(lookup_labels)\n",
    "        bm25 = BM25Okapi(lookup_docs)\n",
    "\n",
    "        # Predict\n",
    "        predictions = predict(bm25, test_docs, lookup_labels, n_best, use_class_weights)\n",
    "\n",
    "        # Evaluate\n",
    "        correct = predictions == np.array(test_labels)\n",
    "        accuracy = correct.sum() / correct.size\n",
    "        accuracies.append(accuracy)\n",
    "    return np.array(accuracies)"
   ],
   "metadata": {
    "collapsed": false,
    "pycharm": {
     "name": "#%%\n"
    }
   }
  },
  {
   "cell_type": "code",
   "execution_count": 9,
   "outputs": [
    {
     "name": "stdout",
     "output_type": "stream",
     "text": [
      "Calculating 1 n_best\n",
      "Calculating 2 n_best\n",
      "Calculating 3 n_best\n",
      "Calculating 4 n_best\n",
      "Calculating 5 n_best\n",
      "Calculating 6 n_best\n",
      "Calculating 7 n_best\n",
      "Calculating 8 n_best\n",
      "Calculating 9 n_best\n",
      "Calculating 10 n_best\n",
      "Calculating 11 n_best\n",
      "Calculating 12 n_best\n",
      "Calculating 13 n_best\n",
      "Calculating 14 n_best\n",
      "Calculating 15 n_best\n",
      "Calculating 16 n_best\n",
      "Calculating 17 n_best\n",
      "Calculating 18 n_best\n",
      "Calculating 19 n_best\n",
      "Calculating 20 n_best\n"
     ]
    }
   ],
   "source": [
    "n_best_counts = np.arange(1,21)\n",
    "mean_accs = []\n",
    "for n_best_count in n_best_counts:\n",
    "    print(f\"Calculating {n_best_count} n_best\")\n",
    "    accs = perform_runs(100, n_best_count, True)\n",
    "    mean_accs.append(accs.mean())"
   ],
   "metadata": {
    "collapsed": false,
    "pycharm": {
     "name": "#%%\n"
    }
   }
  },
  {
   "cell_type": "code",
   "execution_count": 10,
   "outputs": [
    {
     "data": {
      "text/plain": "<Figure size 432x288 with 1 Axes>",
      "image/png": "[encoded data removed]"
     },
     "metadata": {
      "needs_background": "light"
     },
     "output_type": "display_data"
    }
   ],
   "source": [
    "import matplotlib.pyplot as plt\n",
    "plt.bar(n_best_counts, mean_accs, color='green')\n",
    "plt.xlabel(\"n_best\")\n",
    "plt.ylabel(\"Mean Accuracy\")\n",
    "plt.title(\"Performance impact n_best, with class weights\")\n",
    "plt.savefig('plots/bm25okapi_n_best_with_class_weights_even_class.png')\n",
    "plt.show()"
   ],
   "metadata": {
    "collapsed": false,
    "pycharm": {
     "name": "#%%\n"
    }
   }
  },
  {
   "cell_type": "code",
   "execution_count": 11,
   "outputs": [
    {
     "data": {
      "text/plain": "<Figure size 432x288 with 1 Axes>",
      "image/png": "[encoded data removed]"
     },
     "metadata": {
      "needs_background": "light"
     },
     "output_type": "display_data"
    }
   ],
   "source": [
    "accuracies = perform_runs(500, 7, True)\n",
    "\n",
    "import matplotlib.pyplot as plt\n",
    "import numpy as np\n",
    "\n",
    "total = len(accuracies)\n",
    "mean = sum(accuracies)/total\n",
    "\n",
    "fig = plt.figure()\n",
    "ax = fig.add_subplot(111)\n",
    "ax.plot(sorted(accuracies), label='Model accuracies')\n",
    "plt.axhline(y=0.33, color='r', linestyle='-', label='Random guess')\n",
    "plt.axhline(y=mean, color='orange', linestyle='-', label='Mean accuracy')\n",
    "ax.text(-0.02, mean, \"{:.2f}\".format(mean), color='orange', ha=\"right\", va=\"center\",\n",
    "        transform=ax.get_yaxis_transform())\n",
    "plt.ylabel('Model Accuracies')\n",
    "plt.title(f\"Accuracies of {total} runs, with class weights, 7 best\")\n",
    "plt.legend(loc=\"lower right\", borderaxespad=0)\n",
    "plt.savefig('plots/accuracies_bm25okapi_with_class_weights_even_class_7_best.png')\n",
    "plt.show()"
   ],
   "metadata": {
    "collapsed": false,
    "pycharm": {
     "name": "#%%\n"
    }
   }
  },
  {
   "cell_type": "code",
   "execution_count": 55,
   "outputs": [
    {
     "name": "stdout",
     "output_type": "stream",
     "text": [
      "Accuracy class weight predictions: 0.23333333333333334\n",
      "Accuracy 0,1: 0.3333333333333333\n"
     ]
    },
    {
     "name": "stderr",
     "output_type": "stream",
     "text": [
      "<ipython-input-52-55f5eae5686e>:18: VisibleDeprecationWarning: Creating an ndarray from ragged nested sequences (which is a list-or-tuple of lists-or-tuples-or ndarrays with different lengths or shapes) is deprecated. If you meant to do this, you must specify 'dtype=object' when creating the ndarray\n",
      "  train_x = np.array(train['text'].tolist())\n",
      "<ipython-input-52-55f5eae5686e>:19: VisibleDeprecationWarning: Creating an ndarray from ragged nested sequences (which is a list-or-tuple of lists-or-tuples-or ndarrays with different lengths or shapes) is deprecated. If you meant to do this, you must specify 'dtype=object' when creating the ndarray\n",
      "  test_x = np.array(test['text'].tolist())\n"
     ]
    }
   ],
   "source": [
    "# Random guess accuracy\n",
    "import numpy.random\n",
    "lookup_docs, test_docs, lookup_labels, test_labels = corpus_split(20)\n",
    "preds = numpy.random.choice(lookup_labels, len(test_labels))\n",
    "correct = preds == test_labels\n",
    "print(f\"Accuracy class weight predictions: {correct.sum() / correct.size}\")\n",
    "preds = numpy.random.choice([0], len(test_labels))\n",
    "correct = preds == test_labels\n",
    "print(f\"Accuracy 0,1: {correct.sum() / correct.size}\")"
   ],
   "metadata": {
    "collapsed": false,
    "pycharm": {
     "name": "#%%\n"
    }
   }
  },
  {
   "cell_type": "code",
   "execution_count": 56,
   "outputs": [
    {
     "data": {
      "text/plain": "array([256, 106,  70])"
     },
     "execution_count": 56,
     "metadata": {},
     "output_type": "execute_result"
    }
   ],
   "source": [
    "np.bincount(lookup_labels)"
   ],
   "metadata": {
    "collapsed": false,
    "pycharm": {
     "name": "#%%\n"
    }
   }
  }
 ],
 "metadata": {
  "kernelspec": {
   "display_name": "Python 3",
   "language": "python",
   "name": "python3"
  },
  "language_info": {
   "codemirror_mode": {
    "name": "ipython",
    "version": 2
   },
   "file_extension": ".py",
   "mimetype": "text/x-python",
   "name": "python",
   "nbconvert_exporter": "python",
   "pygments_lexer": "ipython2",
   "version": "2.7.6"
  }
 },
 "nbformat": 4,
 "nbformat_minor": 0
}