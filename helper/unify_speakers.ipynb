{
 "cells": [
  {
   "cell_type": "code",
   "execution_count": 39,
   "metadata": {
    "collapsed": true
   },
   "outputs": [],
   "source": [
    "import pandas as pd"
   ]
  },
  {
   "cell_type": "code",
   "execution_count": 40,
   "outputs": [],
   "source": [
    "data = pd.read_csv('../protocols/labelled/massnahmen_relevant_bert_predictions_backup.csv', sep='\\t')"
   ],
   "metadata": {
    "collapsed": false,
    "pycharm": {
     "name": "#%%\n"
    }
   }
  },
  {
   "cell_type": "code",
   "execution_count": 18,
   "outputs": [],
   "source": [
    "speakers = data['Speaker'].unique()\n",
    "speakers.sort()"
   ],
   "metadata": {
    "collapsed": false,
    "pycharm": {
     "name": "#%%\n"
    }
   }
  },
  {
   "cell_type": "code",
   "execution_count": 19,
   "outputs": [],
   "source": [
    "with open('speakers.txt', 'w+') as f:\n",
    "    for speaker in speakers:\n",
    "        f.write(speaker + '\\n')\n",
    "    f.flush()"
   ],
   "metadata": {
    "collapsed": false,
    "pycharm": {
     "name": "#%%\n"
    }
   }
  },
  {
   "cell_type": "code",
   "execution_count": 34,
   "outputs": [],
   "source": [
    "speaker_names = []\n",
    "with open('speaker_names.txt', 'r') as f:\n",
    "    for name in f:\n",
    "        speaker_names.append(name.replace('\\n', ''))\n",
    "data = pd.read_csv('../protocols/labelled/massnahmen_relevant_backup.csv', sep='\\t')\n"
   ],
   "metadata": {
    "collapsed": false,
    "pycharm": {
     "name": "#%%\n"
    }
   }
  },
  {
   "cell_type": "code",
   "execution_count": 35,
   "outputs": [],
   "source": [
    "def get_speaker_name(long_name):\n",
    "    for name in speaker_names:\n",
    "        if name in long_name:\n",
    "            return name\n",
    "    return ''"
   ],
   "metadata": {
    "collapsed": false,
    "pycharm": {
     "name": "#%%\n"
    }
   }
  },
  {
   "cell_type": "code",
   "execution_count": 41,
   "outputs": [],
   "source": [
    "data['speaker_name'] = data['Speaker'].map(lambda s:get_speaker_name(s))"
   ],
   "metadata": {
    "collapsed": false,
    "pycharm": {
     "name": "#%%\n"
    }
   }
  },
  {
   "cell_type": "code",
   "execution_count": 37,
   "outputs": [
    {
     "data": {
      "text/plain": "     Opinion  Context Used  Sentence Id        Date  Protocol Id Party  \\\n3076       o          True       155082  2020_12_11           71   ÖVP   \n3388       -         False       112577  2020_10_14           55   ÖVP   \n3501       o          True        62495  2020_05_26           32   ÖVP   \n3529       o          True        55390  2020_05_26           32   ÖVP   \n3767       o          True        55403  2020_05_26           32   ÖVP   \n5000       +         False       112574  2020_10_14           55   ÖVP   \n\n                                                Speaker  Governing  \\\n3076  Bundesministerin für Landwirtschaft, Regionen ...       True   \n3388  Bundesminister für Europa, Integration und Äuß...       True   \n3501  Bundesministerin für Frauen und Integration im...       True   \n3529  Bundesminister für Europa, Integration und Äuß...       True   \n3767  Bundesminister für Europa, Integration und Äuß...       True   \n5000  Bundesminister für Europa, Integration und Äuß...       True   \n\n                                                 Speech  MASKS  LOCKDOWN  \\\n3076  Erlauben Sie mir, ganz großen Dank an die Vera...  False     False   \n3388  Der beste Weg, eigent­lich der einzige Weg, di...  False      True   \n3501  Deshalb war und ist es mir auch wichtig, dass ...  False      True   \n3529  Also das ist keine Doppelbemaschelung, sondern...  False      True   \n3767  Es erst dann aufzubauen, wenn man in der Krise...  False      True   \n5000  Meine Damen und Herren, Österreich tritt ja ga...  False     False   \n\n      VACCINES  TESTING  DISTANCING speaker_name  \n3076     False    False        True               \n3388     False    False       False               \n3501     False    False       False               \n3529     False    False       False               \n3767     False    False       False               \n5000     False     True       False               ",
      "text/html": "<div>\n<style scoped>\n    .dataframe tbody tr th:only-of-type {\n        vertical-align: middle;\n    }\n\n    .dataframe tbody tr th {\n        vertical-align: top;\n    }\n\n    .dataframe thead th {\n        text-align: right;\n    }\n</style>\n<table border=\"1\" class=\"dataframe\">\n  <thead>\n    <tr style=\"text-align: right;\">\n      <th></th>\n      <th>Opinion</th>\n      <th>Context Used</th>\n      <th>Sentence Id</th>\n      <th>Date</th>\n      <th>Protocol Id</th>\n      <th>Party</th>\n      <th>Speaker</th>\n      <th>Governing</th>\n      <th>Speech</th>\n      <th>MASKS</th>\n      <th>LOCKDOWN</th>\n      <th>VACCINES</th>\n      <th>TESTING</th>\n      <th>DISTANCING</th>\n      <th>speaker_name</th>\n    </tr>\n  </thead>\n  <tbody>\n    <tr>\n      <th>3076</th>\n      <td>o</td>\n      <td>True</td>\n      <td>155082</td>\n      <td>2020_12_11</td>\n      <td>71</td>\n      <td>ÖVP</td>\n      <td>Bundesministerin für Landwirtschaft, Regionen ...</td>\n      <td>True</td>\n      <td>Erlauben Sie mir, ganz großen Dank an die Vera...</td>\n      <td>False</td>\n      <td>False</td>\n      <td>False</td>\n      <td>False</td>\n      <td>True</td>\n      <td></td>\n    </tr>\n    <tr>\n      <th>3388</th>\n      <td>-</td>\n      <td>False</td>\n      <td>112577</td>\n      <td>2020_10_14</td>\n      <td>55</td>\n      <td>ÖVP</td>\n      <td>Bundesminister für Europa, Integration und Äuß...</td>\n      <td>True</td>\n      <td>Der beste Weg, eigent­lich der einzige Weg, di...</td>\n      <td>False</td>\n      <td>True</td>\n      <td>False</td>\n      <td>False</td>\n      <td>False</td>\n      <td></td>\n    </tr>\n    <tr>\n      <th>3501</th>\n      <td>o</td>\n      <td>True</td>\n      <td>62495</td>\n      <td>2020_05_26</td>\n      <td>32</td>\n      <td>ÖVP</td>\n      <td>Bundesministerin für Frauen und Integration im...</td>\n      <td>True</td>\n      <td>Deshalb war und ist es mir auch wichtig, dass ...</td>\n      <td>False</td>\n      <td>True</td>\n      <td>False</td>\n      <td>False</td>\n      <td>False</td>\n      <td></td>\n    </tr>\n    <tr>\n      <th>3529</th>\n      <td>o</td>\n      <td>True</td>\n      <td>55390</td>\n      <td>2020_05_26</td>\n      <td>32</td>\n      <td>ÖVP</td>\n      <td>Bundesminister für Europa, Integration und Äuß...</td>\n      <td>True</td>\n      <td>Also das ist keine Doppelbemaschelung, sondern...</td>\n      <td>False</td>\n      <td>True</td>\n      <td>False</td>\n      <td>False</td>\n      <td>False</td>\n      <td></td>\n    </tr>\n    <tr>\n      <th>3767</th>\n      <td>o</td>\n      <td>True</td>\n      <td>55403</td>\n      <td>2020_05_26</td>\n      <td>32</td>\n      <td>ÖVP</td>\n      <td>Bundesminister für Europa, Integration und Äuß...</td>\n      <td>True</td>\n      <td>Es erst dann aufzubauen, wenn man in der Krise...</td>\n      <td>False</td>\n      <td>True</td>\n      <td>False</td>\n      <td>False</td>\n      <td>False</td>\n      <td></td>\n    </tr>\n    <tr>\n      <th>5000</th>\n      <td>+</td>\n      <td>False</td>\n      <td>112574</td>\n      <td>2020_10_14</td>\n      <td>55</td>\n      <td>ÖVP</td>\n      <td>Bundesminister für Europa, Integration und Äuß...</td>\n      <td>True</td>\n      <td>Meine Damen und Herren, Österreich tritt ja ga...</td>\n      <td>False</td>\n      <td>False</td>\n      <td>False</td>\n      <td>True</td>\n      <td>False</td>\n      <td></td>\n    </tr>\n  </tbody>\n</table>\n</div>"
     },
     "execution_count": 37,
     "metadata": {},
     "output_type": "execute_result"
    }
   ],
   "source": [
    "data[data['speaker_name'] == '']"
   ],
   "metadata": {
    "collapsed": false,
    "pycharm": {
     "name": "#%%\n"
    }
   }
  },
  {
   "cell_type": "code",
   "execution_count": 42,
   "outputs": [],
   "source": [
    "data.to_csv('../protocols/labelled/massnahmen_relevant_bert_predictions.csv', sep='\\t')"
   ],
   "metadata": {
    "collapsed": false,
    "pycharm": {
     "name": "#%%\n"
    }
   }
  }
 ],
 "metadata": {
  "kernelspec": {
   "display_name": "Python 3",
   "language": "python",
   "name": "python3"
  },
  "language_info": {
   "codemirror_mode": {
    "name": "ipython",
    "version": 2
   },
   "file_extension": ".py",
   "mimetype": "text/x-python",
   "name": "python",
   "nbconvert_exporter": "python",
   "pygments_lexer": "ipython2",
   "version": "2.7.6"
  }
 },
 "nbformat": 4,
 "nbformat_minor": 0
}