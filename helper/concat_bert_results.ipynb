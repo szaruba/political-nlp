{
 "cells": [
  {
   "cell_type": "code",
   "execution_count": 1,
   "metadata": {
    "collapsed": true
   },
   "outputs": [],
   "source": [
    "import pandas as pd"
   ]
  },
  {
   "cell_type": "code",
   "execution_count": 68,
   "outputs": [],
   "source": [
    "measures = pd.read_csv('../protocols/labelled/massnahmen_relevant.csv', sep='\\t')\n",
    "\n",
    "for i in range(10):\n",
    "    predictions = pd.read_csv(f'../results/bert_predictions_{i}.csv', sep='\\t')\n",
    "    measures.loc[measures['Sentence Id'].isin(predictions['2']), ['Opinion']] = predictions['prediction'].tolist()\n",
    "\n",
    "mapping = {0: '-', 1: 'o', 2: '+'}\n",
    "measures['Opinion'] = measures['Opinion'].map(lambda x: mapping[x])\n",
    "measures.to_csv('../protocols/labelled/massnahmen_relevant_bert_predictions.csv', sep='\\t')"
   ],
   "metadata": {
    "collapsed": false,
    "pycharm": {
     "name": "#%%\n"
    }
   }
  },
  {
   "cell_type": "code",
   "execution_count": null,
   "outputs": [],
   "source": [],
   "metadata": {
    "collapsed": false,
    "pycharm": {
     "name": "#%%\n"
    }
   }
  }
 ],
 "metadata": {
  "kernelspec": {
   "display_name": "Python 3",
   "language": "python",
   "name": "python3"
  },
  "language_info": {
   "codemirror_mode": {
    "name": "ipython",
    "version": 2
   },
   "file_extension": ".py",
   "mimetype": "text/x-python",
   "name": "python",
   "nbconvert_exporter": "python",
   "pygments_lexer": "ipython2",
   "version": "2.7.6"
  }
 },
 "nbformat": 4,
 "nbformat_minor": 0
}